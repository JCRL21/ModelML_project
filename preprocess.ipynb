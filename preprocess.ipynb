{
 "cells": [
  {
   "cell_type": "markdown",
   "metadata": {},
   "source": [
    "Preprocessing notebook"
   ]
  },
  {
   "cell_type": "code",
   "execution_count": 153,
   "metadata": {},
   "outputs": [],
   "source": [
    "# Imports\n",
    "import numpy as np\n",
    "import pandas as pd\n",
    "import matplotlib.pyplot as plt\n",
    "import scipy.stats as ss"
   ]
  },
  {
   "cell_type": "markdown",
   "metadata": {},
   "source": [
    "First we load the data. Notice that we have yearly data for 10 years. However, we choose to only focus on data from 2018 since the size of data for all 10 years will be too large."
   ]
  },
  {
   "cell_type": "code",
   "execution_count": 13,
   "metadata": {},
   "outputs": [],
   "source": [
    "data = pd.read_csv('Data/2018.csv')"
   ]
  },
  {
   "cell_type": "markdown",
   "metadata": {},
   "source": [
    "Now we will clean the data. First we select the features we wish to include in our model which is: \n",
    "- *TAXI_OUT* which is the time duration elapsed between departure from the origin airport gate and wheels off.\n",
    "- *ORIGIN* which contains the starting airport name.\n",
    "- *OP_CARRIER* which contains the airline carrier name.\n",
    "\n",
    "Next we will exclude all observations where there's NaN values in each of the 3 features.\n",
    "\n",
    "Since the features of *ORIGIN* and *OP_CARRIER* are categorical we perform 1-hot encoding on both variables. This way, each category in both of these features will now become columns in the dataframe."
   ]
  },
  {
   "cell_type": "code",
   "execution_count": 99,
   "metadata": {},
   "outputs": [
    {
     "name": "stdout",
     "output_type": "stream",
     "text": [
      "(1659665, 356)\n"
     ]
    }
   ],
   "source": [
    "# Select only first 3 months\n",
    "df = data[data.FL_DATE < '2018-04-01']\n",
    "# Select variables we want to use\n",
    "df = pd.concat([df['TAXI_OUT'],df['ORIGIN'],df['OP_CARRIER']],axis=1)\n",
    "# Drop NA\n",
    "df = df[df['TAXI_OUT'].notna()]\n",
    "df = df[df['ORIGIN'].notna()]\n",
    "df = df[df['OP_CARRIER'].notna()]\n",
    "# 1-hot encode ORIGIN\n",
    "onehot_origin = pd.get_dummies(df.ORIGIN)\n",
    "onehot_carrier = pd.get_dummies(df.OP_CARRIER)\n",
    "df = df.drop('ORIGIN',axis=1)\n",
    "df = df.drop('OP_CARRIER',axis=1)\n",
    "df = pd.concat([df,onehot_origin,onehot_carrier],axis=1)\n",
    "print(df.shape)"
   ]
  },
  {
   "cell_type": "markdown",
   "metadata": {},
   "source": [
    "Lets investigate the features a bit further. Starting with *TAXI_OUT* we will show how the taxi-out times are distributed and also show a boxplot. "
   ]
  },
  {
   "cell_type": "code",
   "execution_count": 210,
   "metadata": {},
   "outputs": [
    {
     "name": "stdout",
     "output_type": "stream",
     "text": [
      "Gamma distribution parameters: alpha = 4.480936377630901, loc=0 and scale=3.924894834924683\n"
     ]
    },
    {
     "data": {
      "image/png": "[encoded data removed]",
      "text/plain": [
       "<Figure size 864x504 with 2 Axes>"
      ]
     },
     "metadata": {
      "needs_background": "light"
     },
     "output_type": "display_data"
    }
   ],
   "source": [
    "##### Investigate TAXI_OUT\n",
    "# We wish to display the distribution along with a gamma distribution\n",
    "\n",
    "# fit gamma distribution\n",
    "gamma = ss.gamma\n",
    "x = np.linspace(0, df.TAXI_OUT.max(), 100)\n",
    "param = gamma.fit(df.TAXI_OUT, floc=0)\n",
    "pdf_fitted = gamma.pdf(x, *param)\n",
    "\n",
    "# Plot TAXI_OUT distribution, gamma distribution and boxplot of TAXI_OUT\n",
    "fig,ax = plt.subplots(1,2,figsize=(12,7))\n",
    "ax[0].hist(df.TAXI_OUT,density=True)\n",
    "ax[0].plot(x, pdf_fitted, color='r')\n",
    "ax[1].boxplot(df.TAXI_OUT)\n",
    "print('Gamma distribution parameters: alpha = {}, loc={} and scale={}'.format(param[0],param[1],param[2]))"
   ]
  },
  {
   "cell_type": "markdown",
   "metadata": {},
   "source": [
    "From the distribution plot we can see that it approximates a gamma-distribution with parameters alpha=4.48 and scale=3.92. Moreover, we can see that the boxplot indicates a significant amount of outliers. \n",
    "\n",
    "Next, lets examine the feature of airline names"
   ]
  },
  {
   "cell_type": "code",
   "execution_count": 140,
   "metadata": {},
   "outputs": [
    {
     "data": {
      "text/plain": [
       "<AxesSubplot:>"
      ]
     },
     "execution_count": 140,
     "metadata": {},
     "output_type": "execute_result"
    },
    {
     "data": {
      "image/png": "[encoded data removed]",
      "text/plain": [
       "<Figure size 432x288 with 1 Axes>"
      ]
     },
     "metadata": {
      "needs_background": "light"
     },
     "output_type": "display_data"
    }
   ],
   "source": [
    "##### Investigate OP_CARRIER\n",
    "origin_sum = df[onehot_carrier.columns].sum()\n",
    "origin_sum.plot.bar()"
   ]
  },
  {
   "cell_type": "markdown",
   "metadata": {},
   "source": [
    "We can see that the airline with the most flights in our data is WN which is SouthWest Airlines. Moreover, we can observe that the 5 airlines with most flights have significantly more flights than the rest. These 5 airlines are: \n",
    "- WN = SouthWest Airlines\n",
    "- DL = Delta Airlines\n",
    "- AA = American Airlines\n",
    "- OO = SkyWest Airlines\n",
    "- UA = United Airlines  "
   ]
  },
  {
   "cell_type": "code",
   "execution_count": 249,
   "metadata": {},
   "outputs": [
    {
     "name": "stdout",
     "output_type": "stream",
     "text": [
      "There is 337 distinct origin airports\n"
     ]
    }
   ],
   "source": [
    "###### Investigate the ORIGIN feature\n",
    "print('There is {} distinct origin airports'.format(len(onehot_origin.columns)))"
   ]
  },
  {
   "cell_type": "code",
   "execution_count": 248,
   "metadata": {},
   "outputs": [
    {
     "data": {
      "text/plain": [
       "LAS    38434\n",
       "PHX    43404\n",
       "ATL    91196\n",
       "DFW    64684\n",
       "IAH    40800\n",
       "CLT    53411\n",
       "ORD    73653\n",
       "DEN    53119\n",
       "SFO    40836\n",
       "LAX    51852\n",
       "dtype: int64"
      ]
     },
     "execution_count": 248,
     "metadata": {},
     "output_type": "execute_result"
    }
   ],
   "source": [
    "# The 10 busiest airports are\n",
    "ko = onehot_origin.sum()\n",
    "ind = np.argpartition(ko, -10)[-10:]\n",
    "top10 = ko[ind]\n",
    "print('The 10 busiest airports are')\n",
    "top10\n"
   ]
  },
  {
   "cell_type": "code",
   "execution_count": 241,
   "metadata": {},
   "outputs": [
    {
     "data": {
      "text/plain": [
       "[91196,\n",
       " 73653,\n",
       " 64684,\n",
       " 53411,\n",
       " 53119,\n",
       " 51852,\n",
       " 43404,\n",
       " 40836,\n",
       " 40800,\n",
       " 38434,\n",
       " 38098,\n",
       " 36720,\n",
       " 35777,\n",
       " 34684,\n",
       " 32642,\n",
       " 31448,\n",
       " 31260,\n",
       " 30557,\n",
       " 28492,\n",
       " 27474,\n",
       " 25261,\n",
       " 25234,\n",
       " 24222,\n",
       " 22549,\n",
       " 20724,\n",
       " 19518,\n",
       " 18667,\n",
       " 17238,\n",
       " 16489,\n",
       " 15162,\n",
       " 14597,\n",
       " 14383,\n",
       " 13935,\n",
       " 13718,\n",
       " 13501,\n",
       " 12829,\n",
       " 12744,\n",
       " 12155,\n",
       " 11830,\n",
       " 11617,\n",
       " 11574,\n",
       " 11292,\n",
       " 11248,\n",
       " 11035,\n",
       " 10884,\n",
       " 10537,\n",
       " 10355,\n",
       " 9699,\n",
       " 9060,\n",
       " 8317,\n",
       " 7445,\n",
       " 6543,\n",
       " 6431,\n",
       " 6346,\n",
       " 6130,\n",
       " 5800,\n",
       " 5655,\n",
       " 5483,\n",
       " 5307,\n",
       " 5223,\n",
       " 5220,\n",
       " 5052,\n",
       " 5047,\n",
       " 4752,\n",
       " 4667,\n",
       " 4624,\n",
       " 4547,\n",
       " 4409,\n",
       " 4391,\n",
       " 4185,\n",
       " 4096,\n",
       " 4040,\n",
       " 3998,\n",
       " 3948,\n",
       " 3702,\n",
       " 3642,\n",
       " 3582,\n",
       " 3565,\n",
       " 3443,\n",
       " 3347,\n",
       " 3269,\n",
       " 3127,\n",
       " 3108,\n",
       " 3086,\n",
       " 3003,\n",
       " 2980,\n",
       " 2971,\n",
       " 2967,\n",
       " 2759,\n",
       " 2757,\n",
       " 2730,\n",
       " 2585,\n",
       " 2569,\n",
       " 2487,\n",
       " 2448,\n",
       " 2394,\n",
       " 2309,\n",
       " 2298,\n",
       " 2266,\n",
       " 2151,\n",
       " 2142,\n",
       " 2092,\n",
       " 2088,\n",
       " 2068,\n",
       " 1956,\n",
       " 1915,\n",
       " 1902,\n",
       " 1900,\n",
       " 1849,\n",
       " 1800,\n",
       " 1772,\n",
       " 1757,\n",
       " 1739,\n",
       " 1727,\n",
       " 1629,\n",
       " 1607,\n",
       " 1569,\n",
       " 1541,\n",
       " 1524,\n",
       " 1521,\n",
       " 1508,\n",
       " 1500,\n",
       " 1500,\n",
       " 1484,\n",
       " 1446,\n",
       " 1443,\n",
       " 1437,\n",
       " 1431,\n",
       " 1426,\n",
       " 1417,\n",
       " 1405,\n",
       " 1387,\n",
       " 1358,\n",
       " 1309,\n",
       " 1269,\n",
       " 1248,\n",
       " 1239,\n",
       " 1231,\n",
       " 1168,\n",
       " 1150,\n",
       " 1106,\n",
       " 1080,\n",
       " 1068,\n",
       " 1060,\n",
       " 1060,\n",
       " 1053,\n",
       " 1044,\n",
       " 1044,\n",
       " 999,\n",
       " 991,\n",
       " 989,\n",
       " 966,\n",
       " 961,\n",
       " 950,\n",
       " 941,\n",
       " 940,\n",
       " 937,\n",
       " 937,\n",
       " 903,\n",
       " 903,\n",
       " 879,\n",
       " 857,\n",
       " 854,\n",
       " 846,\n",
       " 843,\n",
       " 835,\n",
       " 826,\n",
       " 797,\n",
       " 795,\n",
       " 793,\n",
       " 793,\n",
       " 774,\n",
       " 762,\n",
       " 753,\n",
       " 731,\n",
       " 721,\n",
       " 712,\n",
       " 707,\n",
       " 706,\n",
       " 701,\n",
       " 701,\n",
       " 694,\n",
       " 682,\n",
       " 667,\n",
       " 659,\n",
       " 650,\n",
       " 648,\n",
       " 641,\n",
       " 640,\n",
       " 617,\n",
       " 614,\n",
       " 611,\n",
       " 587,\n",
       " 582,\n",
       " 574,\n",
       " 556,\n",
       " 544,\n",
       " 534,\n",
       " 531,\n",
       " 526,\n",
       " 519,\n",
       " 514,\n",
       " 506,\n",
       " 486,\n",
       " 481,\n",
       " 471,\n",
       " 465,\n",
       " 454,\n",
       " 449,\n",
       " 443,\n",
       " 441,\n",
       " 434,\n",
       " 425,\n",
       " 418,\n",
       " 413,\n",
       " 406,\n",
       " 404,\n",
       " 380,\n",
       " 355,\n",
       " 354,\n",
       " 352,\n",
       " 345,\n",
       " 343,\n",
       " 338,\n",
       " 333,\n",
       " 329,\n",
       " 323,\n",
       " 320,\n",
       " 317,\n",
       " 313,\n",
       " 309,\n",
       " 304,\n",
       " 297,\n",
       " 289,\n",
       " 285,\n",
       " 282,\n",
       " 265,\n",
       " 265,\n",
       " 261,\n",
       " 261,\n",
       " 256,\n",
       " 253,\n",
       " 251,\n",
       " 250,\n",
       " 250,\n",
       " 249,\n",
       " 249,\n",
       " 248,\n",
       " 248,\n",
       " 246,\n",
       " 244,\n",
       " 242,\n",
       " 242,\n",
       " 236,\n",
       " 235,\n",
       " 229,\n",
       " 225,\n",
       " 225,\n",
       " 221,\n",
       " 215,\n",
       " 213,\n",
       " 212,\n",
       " 209,\n",
       " 206,\n",
       " 205,\n",
       " 202,\n",
       " 198,\n",
       " 196,\n",
       " 193,\n",
       " 190,\n",
       " 186,\n",
       " 185,\n",
       " 184,\n",
       " 181,\n",
       " 181,\n",
       " 178,\n",
       " 177,\n",
       " 176,\n",
       " 176,\n",
       " 175,\n",
       " 174,\n",
       " 174,\n",
       " 173,\n",
       " 172,\n",
       " 169,\n",
       " 168,\n",
       " 166,\n",
       " 166,\n",
       " 165,\n",
       " 165,\n",
       " 163,\n",
       " 163,\n",
       " 163,\n",
       " 162,\n",
       " 162,\n",
       " 162,\n",
       " 162,\n",
       " 160,\n",
       " 159,\n",
       " 158,\n",
       " 157,\n",
       " 157,\n",
       " 155,\n",
       " 153,\n",
       " 152,\n",
       " 151,\n",
       " 149,\n",
       " 149,\n",
       " 148,\n",
       " 147,\n",
       " 147,\n",
       " 146,\n",
       " 146,\n",
       " 145,\n",
       " 142,\n",
       " 130,\n",
       " 125,\n",
       " 102,\n",
       " 97,\n",
       " 93,\n",
       " 92,\n",
       " 90,\n",
       " 77,\n",
       " 77,\n",
       " 76,\n",
       " 60,\n",
       " 58,\n",
       " 47,\n",
       " 45,\n",
       " 45,\n",
       " 44,\n",
       " 39,\n",
       " 27,\n",
       " 26,\n",
       " 25,\n",
       " 24,\n",
       " 2]"
      ]
     },
     "execution_count": 241,
     "metadata": {},
     "output_type": "execute_result"
    }
   ],
   "source": [
    "sorted(ko,reverse=True)"
   ]
  },
  {
   "cell_type": "code",
   "execution_count": 151,
   "metadata": {},
   "outputs": [
    {
     "name": "stdout",
     "output_type": "stream",
     "text": [
      "Shape before: (7213446, 28) \n",
      " Shape after: (1659665, 356)\n"
     ]
    }
   ],
   "source": [
    "# Compare shape to see effect of preprocessing\n",
    "print('Shape before:',data.shape,'\\n Shape after:',df.shape)"
   ]
  },
  {
   "cell_type": "code",
   "execution_count": 152,
   "metadata": {},
   "outputs": [],
   "source": [
    "# Save as new dataframe\n",
    "df.to_csv('Data/df_cush.csv',index=False)"
   ]
  }
 ],
 "metadata": {
  "interpreter": {
   "hash": "fb833273add3e7c60eb33c0608260b79a61e072ade6f02cc8d07b0a26eef8ab8"
  },
  "kernelspec": {
   "display_name": "Python 3.8.5 ('base')",
   "language": "python",
   "name": "python3"
  },
  "language_info": {
   "codemirror_mode": {
    "name": "ipython",
    "version": 3
   },
   "file_extension": ".py",
   "mimetype": "text/x-python",
   "name": "python",
   "nbconvert_exporter": "python",
   "pygments_lexer": "ipython3",
   "version": "3.8.5"
  },
  "orig_nbformat": 4
 },
 "nbformat": 4,
 "nbformat_minor": 2
}
