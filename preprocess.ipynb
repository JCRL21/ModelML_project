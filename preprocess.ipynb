{
 "cells": [
  {
   "cell_type": "code",
   "execution_count": 402,

   "metadata": {},
   "outputs": [],
   "source": [
    "# Imports\n",
    "import numpy as np\n",
    "import pandas as pd\n",
    "import datetime"
   ]
  },
  {
   "cell_type": "code",
   "execution_count": 374,

   "metadata": {},
   "outputs": [],
   "source": [
    "#data = pd.concat([pd.read_csv('Data/2009.csv'), pd.read_csv('Data/2010.csv'), \n",
    " #                 pd.read_csv('Data/2011.csv'), pd.read_csv('Data/2012.csv'), \n",
    "  #                pd.read_csv('Data/2013.csv'), pd.read_csv('Data/2014.csv'), \n",
    "   #               pd.read_csv('Data/2015.csv'), pd.read_csv('Data/2016.csv'), \n",
    "    #              pd.read_csv('Data/2017.csv'), pd.read_csv('Data/2018.csv')])\n",
    "\n",
    "# Read 2018 data only\n",
    "data = pd.read_csv('Data/2010.csv')"
   ]
  },
  {
   "cell_type": "code",
   "execution_count": 375,

   "metadata": {},
   "outputs": [
    {
     "data": {
      "text/html": [
       "<div>\n",
       "<style scoped>\n",
       "    .dataframe tbody tr th:only-of-type {\n",
       "        vertical-align: middle;\n",
       "    }\n",
       "\n",
       "    .dataframe tbody tr th {\n",
       "        vertical-align: top;\n",
       "    }\n",
       "\n",
       "    .dataframe thead th {\n",
       "        text-align: right;\n",
       "    }\n",
       "</style>\n",
       "<table border=\"1\" class=\"dataframe\">\n",
       "  <thead>\n",
       "    <tr style=\"text-align: right;\">\n",
       "      <th></th>\n",
       "      <th>OP_CARRIER</th>\n",
       "      <th>OP_CARRIER_FL_NUM</th>\n",
       "      <th>ORIGIN</th>\n",
       "      <th>DEST</th>\n",
       "      <th>CRS_DEP_TIME</th>\n",
       "      <th>DEP_TIME</th>\n",
       "      <th>DEP_DELAY</th>\n",
       "      <th>TAXI_OUT</th>\n",
       "      <th>WHEELS_OFF</th>\n",
       "      <th>WHEELS_ON</th>\n",
       "      <th>...</th>\n",
       "      <th>DIVERTED</th>\n",
       "      <th>CRS_ELAPSED_TIME</th>\n",
       "      <th>ACTUAL_ELAPSED_TIME</th>\n",
       "      <th>AIR_TIME</th>\n",
       "      <th>DISTANCE</th>\n",
       "      <th>CARRIER_DELAY</th>\n",
       "      <th>WEATHER_DELAY</th>\n",
       "      <th>NAS_DELAY</th>\n",
       "      <th>SECURITY_DELAY</th>\n",
       "      <th>LATE_AIRCRAFT_DELAY</th>\n",
       "    </tr>\n",
       "    <tr>\n",
       "      <th>FL_DATE</th>\n",
       "      <th></th>\n",
       "      <th></th>\n",
       "      <th></th>\n",
       "      <th></th>\n",
       "      <th></th>\n",
       "      <th></th>\n",
       "      <th></th>\n",
       "      <th></th>\n",
       "      <th></th>\n",
       "      <th></th>\n",
       "      <th></th>\n",
       "      <th></th>\n",
       "      <th></th>\n",
       "      <th></th>\n",
       "      <th></th>\n",
       "      <th></th>\n",
       "      <th></th>\n",
       "      <th></th>\n",
       "      <th></th>\n",
       "      <th></th>\n",
       "      <th></th>\n",
       "    </tr>\n",
       "  </thead>\n",
       "  <tbody>\n",
       "    <tr>\n",
       "      <th>2010-01-01</th>\n",
       "      <td>MQ</td>\n",
       "      <td>4438</td>\n",
       "      <td>LGA</td>\n",
       "      <td>RDU</td>\n",
       "      <td>1940</td>\n",
       "      <td>2101.0</td>\n",
       "      <td>81.0</td>\n",
       "      <td>14.0</td>\n",
       "      <td>2115.0</td>\n",
       "      <td>2225.0</td>\n",
       "      <td>...</td>\n",
       "      <td>0.0</td>\n",
       "      <td>110.0</td>\n",
       "      <td>106.0</td>\n",
       "      <td>70.0</td>\n",
       "      <td>431.0</td>\n",
       "      <td>0.0</td>\n",
       "      <td>0.0</td>\n",
       "      <td>0.0</td>\n",
       "      <td>0.0</td>\n",
       "      <td>77.0</td>\n",
       "    </tr>\n",
       "    <tr>\n",
       "      <th>2010-01-01</th>\n",
       "      <td>MQ</td>\n",
       "      <td>4440</td>\n",
       "      <td>DCA</td>\n",
       "      <td>JFK</td>\n",
       "      <td>950</td>\n",
       "      <td>949.0</td>\n",
       "      <td>-1.0</td>\n",
       "      <td>13.0</td>\n",
       "      <td>1002.0</td>\n",
       "      <td>1040.0</td>\n",
       "      <td>...</td>\n",
       "      <td>0.0</td>\n",
       "      <td>70.0</td>\n",
       "      <td>60.0</td>\n",
       "      <td>38.0</td>\n",
       "      <td>213.0</td>\n",
       "      <td>NaN</td>\n",
       "      <td>NaN</td>\n",
       "      <td>NaN</td>\n",
       "      <td>NaN</td>\n",
       "      <td>NaN</td>\n",
       "    </tr>\n",
       "    <tr>\n",
       "      <th>2010-01-01</th>\n",
       "      <td>MQ</td>\n",
       "      <td>4443</td>\n",
       "      <td>LGA</td>\n",
       "      <td>RDU</td>\n",
       "      <td>900</td>\n",
       "      <td>937.0</td>\n",
       "      <td>37.0</td>\n",
       "      <td>11.0</td>\n",
       "      <td>948.0</td>\n",
       "      <td>1105.0</td>\n",
       "      <td>...</td>\n",
       "      <td>0.0</td>\n",
       "      <td>120.0</td>\n",
       "      <td>91.0</td>\n",
       "      <td>77.0</td>\n",
       "      <td>431.0</td>\n",
       "      <td>NaN</td>\n",
       "      <td>NaN</td>\n",
       "      <td>NaN</td>\n",
       "      <td>NaN</td>\n",
       "      <td>NaN</td>\n",
       "    </tr>\n",
       "    <tr>\n",
       "      <th>2010-01-01</th>\n",
       "      <td>MQ</td>\n",
       "      <td>4445</td>\n",
       "      <td>RDU</td>\n",
       "      <td>LGA</td>\n",
       "      <td>1940</td>\n",
       "      <td>1935.0</td>\n",
       "      <td>-5.0</td>\n",
       "      <td>12.0</td>\n",
       "      <td>1947.0</td>\n",
       "      <td>2051.0</td>\n",
       "      <td>...</td>\n",
       "      <td>0.0</td>\n",
       "      <td>100.0</td>\n",
       "      <td>80.0</td>\n",
       "      <td>64.0</td>\n",
       "      <td>431.0</td>\n",
       "      <td>NaN</td>\n",
       "      <td>NaN</td>\n",
       "      <td>NaN</td>\n",
       "      <td>NaN</td>\n",
       "      <td>NaN</td>\n",
       "    </tr>\n",
       "    <tr>\n",
       "      <th>2010-01-01</th>\n",
       "      <td>MQ</td>\n",
       "      <td>4447</td>\n",
       "      <td>JFK</td>\n",
       "      <td>DCA</td>\n",
       "      <td>2035</td>\n",
       "      <td>2236.0</td>\n",
       "      <td>121.0</td>\n",
       "      <td>18.0</td>\n",
       "      <td>2254.0</td>\n",
       "      <td>2341.0</td>\n",
       "      <td>...</td>\n",
       "      <td>0.0</td>\n",
       "      <td>85.0</td>\n",
       "      <td>66.0</td>\n",
       "      <td>47.0</td>\n",
       "      <td>213.0</td>\n",
       "      <td>0.0</td>\n",
       "      <td>0.0</td>\n",
       "      <td>0.0</td>\n",
       "      <td>0.0</td>\n",
       "      <td>102.0</td>\n",
       "    </tr>\n",
       "  </tbody>\n",
       "</table>\n",
       "<p>5 rows × 26 columns</p>\n",
       "</div>"
      ],
      "text/plain": [
       "           OP_CARRIER  OP_CARRIER_FL_NUM ORIGIN DEST  CRS_DEP_TIME  DEP_TIME  \\\n",
       "FL_DATE                                                                        \n",
       "2010-01-01         MQ               4438    LGA  RDU          1940    2101.0   \n",
       "2010-01-01         MQ               4440    DCA  JFK           950     949.0   \n",
       "2010-01-01         MQ               4443    LGA  RDU           900     937.0   \n",
       "2010-01-01         MQ               4445    RDU  LGA          1940    1935.0   \n",
       "2010-01-01         MQ               4447    JFK  DCA          2035    2236.0   \n",
       "\n",
       "            DEP_DELAY  TAXI_OUT  WHEELS_OFF  WHEELS_ON  ...  DIVERTED  \\\n",
       "FL_DATE                                                 ...             \n",
       "2010-01-01       81.0      14.0      2115.0     2225.0  ...       0.0   \n",
       "2010-01-01       -1.0      13.0      1002.0     1040.0  ...       0.0   \n",
       "2010-01-01       37.0      11.0       948.0     1105.0  ...       0.0   \n",
       "2010-01-01       -5.0      12.0      1947.0     2051.0  ...       0.0   \n",
       "2010-01-01      121.0      18.0      2254.0     2341.0  ...       0.0   \n",
       "\n",
       "            CRS_ELAPSED_TIME  ACTUAL_ELAPSED_TIME  AIR_TIME  DISTANCE  \\\n",
       "FL_DATE                                                                 \n",
       "2010-01-01             110.0                106.0      70.0     431.0   \n",
       "2010-01-01              70.0                 60.0      38.0     213.0   \n",
       "2010-01-01             120.0                 91.0      77.0     431.0   \n",
       "2010-01-01             100.0                 80.0      64.0     431.0   \n",
       "2010-01-01              85.0                 66.0      47.0     213.0   \n",
       "\n",
       "           CARRIER_DELAY  WEATHER_DELAY  NAS_DELAY  SECURITY_DELAY  \\\n",
       "FL_DATE                                                              \n",
       "2010-01-01           0.0            0.0        0.0             0.0   \n",
       "2010-01-01           NaN            NaN        NaN             NaN   \n",
       "2010-01-01           NaN            NaN        NaN             NaN   \n",
       "2010-01-01           NaN            NaN        NaN             NaN   \n",
       "2010-01-01           0.0            0.0        0.0             0.0   \n",
       "\n",
       "            LATE_AIRCRAFT_DELAY  \n",
       "FL_DATE                          \n",
       "2010-01-01                 77.0  \n",
       "2010-01-01                  NaN  \n",
       "2010-01-01                  NaN  \n",
       "2010-01-01                  NaN  \n",
       "2010-01-01                102.0  \n",
       "\n",
       "[5 rows x 26 columns]"
      ]
     },
     "execution_count": 375,

     "metadata": {},
     "output_type": "execute_result"
    }
   ],
   "source": [
    "# Convert string to DateTime and set as index\n",
    "data.FL_DATE = pd.to_datetime(data.FL_DATE, infer_datetime_format=True)\n",
    "data.set_index('FL_DATE', inplace=True)\n",
    "data.drop(columns='Unnamed: 27', axis=1, inplace=True) # Drop last weird column\n",
    "data.head()"
   ]
  },
  {
   "cell_type": "code",
   "execution_count": 376,

   "metadata": {},
   "outputs": [],
   "source": [
    "# Drop NaN values in the variables we will use in our baseline model\n",
    "data = data[data['TAXI_OUT'].notna()]\n",
    "data = data[data['ORIGIN'].notna()]\n",
    "data = data[data['DEST'].notna()]\n"
   ]
  },
  {
   "cell_type": "code",
   "execution_count": 467,

   "metadata": {},
   "outputs": [],
   "source": [
    "# Take first 6 months\n",
    "df = data.loc['2010-01-01':'2010-07-01']\n"
   ]
  },
  {
   "cell_type": "code",
   "execution_count": 468,

   "metadata": {},
   "outputs": [
    {
     "name": "stderr",
     "output_type": "stream",
     "text": [
      "/Users/frederikhartmann/opt/anaconda3/lib/python3.9/site-packages/pandas/core/generic.py:6619: SettingWithCopyWarning: \n",
      "A value is trying to be set on a copy of a slice from a DataFrame\n",
      "\n",
      "See the caveats in the documentation: https://pandas.pydata.org/pandas-docs/stable/user_guide/indexing.html#returning-a-view-versus-a-copy\n",
      "  return self._update_inplace(result)\n"
     ]
    }
   ],
   "source": [
    "# Renaming airline codes to company names\n",
    "# Source: https://en.wikipedia.org/wiki/List_of_airlines_of_the_United_States\n",
    "\n",
    "df['OP_CARRIER'].replace({\n",
    "    'UA':'United Airlines',\n",
    "    'AS':'Alaska Airlines',\n",
    "    '9E':'Endeavor Air',\n",
    "    'B6':'JetBlue Airways',\n",
    "    'EV':'ExpressJet',\n",
    "    'F9':'Frontier Airlines',\n",
    "    'G4':'Allegiant Air',\n",
    "    'HA':'Hawaiian Airlines',\n",
    "    'MQ':'Envoy Air',\n",
    "    'NK':'Spirit Airlines',\n",
    "    'OH':'PSA Airlines',\n",
    "    'OO':'SkyWest Airlines',\n",
    "    'VX':'Virgin America',\n",
    "    'WN':'Southwest Airlines',\n",
    "    'YV':'Mesa Airline',\n",
    "    'YX':'Republic Airways',\n",
    "    'AA':'American Airlines',\n",
    "    'DL':'Delta Airlines'\n",
    "},inplace=True)"
   ]
  },
  {
   "cell_type": "code",
   "execution_count": 469,

   "metadata": {},
   "outputs": [],
   "source": [
    "df = df[df.ORIGIN == 'JFK']"
   ]
  },
  {
   "cell_type": "code",
   "execution_count": 470,

   "metadata": {},
   "outputs": [],
   "source": [
    "# Take only the delayed flights\n",
    "df = df[df['CARRIER_DELAY' ] >= 0]"
   ]
  },
  {
   "cell_type": "code",
   "execution_count": 471,

   "metadata": {},
   "outputs": [
    {
     "name": "stderr",
     "output_type": "stream",
     "text": [
      "/var/folders/fs/10_w6dn131d7nmw8myr18l6r0000gn/T/ipykernel_37927/2551470134.py:2: SettingWithCopyWarning: \n",
      "A value is trying to be set on a copy of a slice from a DataFrame.\n",
      "Try using .loc[row_indexer,col_indexer] = value instead\n",
      "\n",
      "See the caveats in the documentation: https://pandas.pydata.org/pandas-docs/stable/user_guide/indexing.html#returning-a-view-versus-a-copy\n",
      "  delays['DEP_TIME'] = delays['DEP_TIME'].astype(int)\n"
     ]
    }
   ],
   "source": [
    "delays = df[['CARRIER_DELAY', 'DEP_TIME']]\n",
    "delays['DEP_TIME'] = delays['DEP_TIME'].astype(int)\n",
    "\n",
    "preps = []\n",
    "for i in range(len(delays['DEP_TIME'])):\n",
    "    # Zero fill values\n",
    "    dep_time_val = str(delays['DEP_TIME'].iloc[i]).zfill(4)\n",
    "    # If flight at 24:00, set that as 00:00\n",
    "    if dep_time_val == str(2400):\n",
    "        dep_time_act = datetime.datetime.strptime('0000','%H%M').strftime('%H:%M')\n",
    "    else:\n",
    "        dep_time_act = datetime.datetime.strptime(dep_time_val,'%H%M').strftime('%H:%M')\n",
    "    \n",
    "\n",
    "    # append\n",
    "    preps.append(dep_time_act)\n",
    "\n",
    "# Drop and add corrected times\n",
    "df.drop(columns=['DEP_TIME'])\n",
    "df['DEP_TIME'] = preps\n",
    "df['DEP_TIME'] = pd.to_datetime(df['DEP_TIME'], format='%H:%M').dt.time # Convert to datetime\n",
    "\n",
    "# Convert FL time to column\n",
    "df = df.reset_index(level=0)"
   ]
  },
  {
   "cell_type": "code",
   "execution_count": 473,

   "metadata": {},
   "outputs": [
    {
     "name": "stdout",
     "output_type": "stream",
     "text": [
      "0        22:36:00\n",
      "1        15:17:00\n",
      "2        11:49:00\n",
      "3        13:00:00\n",
      "4        20:00:00\n",
      "           ...   \n",
      "10895    15:55:00\n",
      "10896    22:15:00\n",
      "10897    16:35:00\n",
      "10898    08:25:00\n",
      "10899    16:15:00\n",
      "Name: DEP_TIME, Length: 10900, dtype: object\n",
      "0       2010-01-01\n",
      "1       2010-01-01\n",
      "2       2010-01-01\n",
      "3       2010-01-01\n",
      "4       2010-01-01\n",
      "           ...    \n",
      "10895   2010-07-01\n",
      "10896   2010-07-01\n",
      "10897   2010-07-01\n",
      "10898   2010-07-01\n",
      "10899   2010-07-01\n",
      "Name: FL_DATE, Length: 10900, dtype: datetime64[ns]\n"
     ]
    }
   ],
   "source": [
    "print(df['DEP_TIME'])\n",
    "print(df['FL_DATE'])"
   ]
  },
  {
   "cell_type": "code",
   "execution_count": 360,

   "metadata": {},
   "outputs": [
    {
     "name": "stdout",
     "output_type": "stream",
     "text": [
      "Shape before: (7097616, 26) \n",
      " Shape after: (12241, 26)\n"

     ]
    }
   ],
   "source": [
    "# Compare shape to see effect of preprocessing\n",
    "print('Shape before:',data.shape,'\\n Shape after:',df.shape)"
   ]
  },
  {
   "cell_type": "code",
   "execution_count": 361,

   "metadata": {},
   "outputs": [],
   "source": [
    "# Save as new dataframe\n",
    "df.to_csv('Data/data_pre.csv')"
   ]
  },
  {
   "cell_type": "code",
   "execution_count": null,
   "metadata": {},
   "outputs": [],
   "source": []
  }
 ],
 "metadata": {
  "interpreter": {
   "hash": "24a209cba9a9ab1c5651cc7484a1d32e0cd27295ead7dd257cd5c216422a5a45"
  },
  "kernelspec": {
   "display_name": "Python 3.9.7 ('base')",

   "language": "python",
   "name": "python3"
  },
  "language_info": {
   "codemirror_mode": {
    "name": "ipython",
    "version": 3
   },
   "file_extension": ".py",
   "mimetype": "text/x-python",
   "name": "python",
   "nbconvert_exporter": "python",
   "pygments_lexer": "ipython3",
   "version": "3.9.7"

  },
  "orig_nbformat": 4
 },
 "nbformat": 4,
 "nbformat_minor": 2
}
