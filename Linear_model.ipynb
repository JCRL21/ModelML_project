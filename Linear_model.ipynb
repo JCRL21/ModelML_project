{
 "cells": [
  {
   "cell_type": "code",
   "execution_count": 1,
   "metadata": {},
   "outputs": [
    {
     "name": "stderr",
     "output_type": "stream",
     "text": [
      "c:\\Users\\jcrl\\miniconda3\\envs\\ModelML\\lib\\site-packages\\tqdm\\auto.py:22: TqdmWarning: IProgress not found. Please update jupyter and ipywidgets. See https://ipywidgets.readthedocs.io/en/stable/user_install.html\n",
      "  from .autonotebook import tqdm as notebook_tqdm\n"
     ]
    }
   ],
   "source": [
    "import numpy as np\n",
    "import pandas as pd   \n",
    "from matplotlib import pyplot as plt\n",
    "import seaborn as sns\n",
    "from sklearn import linear_model\n",
    "from sklearn.model_selection import train_test_split\n",
    "import torch\n",
    "import itertools\n",
    "\n",
    "import pyro\n",
    "import pyro.distributions as dist\n",
    "from pyro.contrib.autoguide import AutoDiagonalNormal, AutoMultivariateNormal\n",
    "from pyro.infer import MCMC, NUTS, HMC, SVI, Trace_ELBO\n",
    "from pyro.optim import Adam, ClippedAdam\n",
    "\n",
    "from sklearn.preprocessing import MinMaxScaler\n",
    "scaler = MinMaxScaler()\n",
    "# fix random generator seed (for reproducibility of results)\n",
    "np.random.seed(42)\n",
    "import warnings\n",
    "warnings.filterwarnings(\"ignore\", category=FutureWarning)\n",
    "\n",
    "# matplotlib options\n",
    "palette = itertools.cycle(sns.color_palette())\n",
    "plt.style.use('ggplot')\n",
    "%matplotlib inline\n",
    "plt.rcParams['figure.figsize'] = (16, 10)"
   ]
  },
  {
   "cell_type": "code",
   "execution_count": 3,
   "metadata": {},
   "outputs": [
    {
     "data": {
      "text/html": [
       "<div>\n",
       "<style scoped>\n",
       "    .dataframe tbody tr th:only-of-type {\n",
       "        vertical-align: middle;\n",
       "    }\n",
       "\n",
       "    .dataframe tbody tr th {\n",
       "        vertical-align: top;\n",
       "    }\n",
       "\n",
       "    .dataframe thead th {\n",
       "        text-align: right;\n",
       "    }\n",
       "</style>\n",
       "<table border=\"1\" class=\"dataframe\">\n",
       "  <thead>\n",
       "    <tr style=\"text-align: right;\">\n",
       "      <th></th>\n",
       "      <th>STATION,\"NAME\",\"DATE\",\"HLY-CLDH-NORMAL\",\"HLY-CLOD-PCTBKN\",\"HLY-CLOD-PCTCLR\",\"HLY-CLOD-PCTFEW\",\"HLY-CLOD-PCTOVC\",\"HLY-CLOD-PCTSCT\",\"HLY-DEWP-10PCTL\",\"HLY-DEWP-90PCTL\",\"HLY-DEWP-NORMAL\",\"HLY-HIDX-NORMAL\",\"HLY-HTDH-NORMAL\",\"HLY-PRES-10PCTL\",\"HLY-PRES-90PCTL\",\"HLY-PRES-NORMAL\",\"HLY-TEMP-10PCTL\",\"HLY-TEMP-90PCTL\",\"HLY-TEMP-NORMAL\",\"HLY-WCHL-NORMAL\",\"HLY-WIND-1STDIR\",\"HLY-WIND-1STPCT\",\"HLY-WIND-2NDDIR\",\"HLY-WIND-2NDPCT\",\"HLY-WIND-AVGSPD\",\"HLY-WIND-PCTCLM\",\"HLY-WIND-VCTDIR\",\"HLY-WIND-VCTSPD\"</th>\n",
       "    </tr>\n",
       "  </thead>\n",
       "  <tbody>\n",
       "    <tr>\n",
       "      <th>0</th>\n",
       "      <td>USW00014732,\"LA GUARDIA AIRPORT, NY US\",\"01-01...</td>\n",
       "    </tr>\n",
       "    <tr>\n",
       "      <th>1</th>\n",
       "      <td>USW00014732,\"LA GUARDIA AIRPORT, NY US\",\"01-01...</td>\n",
       "    </tr>\n",
       "    <tr>\n",
       "      <th>2</th>\n",
       "      <td>USW00014732,\"LA GUARDIA AIRPORT, NY US\",\"01-01...</td>\n",
       "    </tr>\n",
       "    <tr>\n",
       "      <th>3</th>\n",
       "      <td>USW00014732,\"LA GUARDIA AIRPORT, NY US\",\"01-01...</td>\n",
       "    </tr>\n",
       "    <tr>\n",
       "      <th>4</th>\n",
       "      <td>USW00014732,\"LA GUARDIA AIRPORT, NY US\",\"01-01...</td>\n",
       "    </tr>\n",
       "    <tr>\n",
       "      <th>...</th>\n",
       "      <td>...</td>\n",
       "    </tr>\n",
       "    <tr>\n",
       "      <th>26272</th>\n",
       "      <td>USW00094789,\"JFK INTERNATIONAL AIRPORT, NY US\"...</td>\n",
       "    </tr>\n",
       "    <tr>\n",
       "      <th>26273</th>\n",
       "      <td>USW00094789,\"JFK INTERNATIONAL AIRPORT, NY US\"...</td>\n",
       "    </tr>\n",
       "    <tr>\n",
       "      <th>26274</th>\n",
       "      <td>USW00094789,\"JFK INTERNATIONAL AIRPORT, NY US\"...</td>\n",
       "    </tr>\n",
       "    <tr>\n",
       "      <th>26275</th>\n",
       "      <td>USW00094789,\"JFK INTERNATIONAL AIRPORT, NY US\"...</td>\n",
       "    </tr>\n",
       "    <tr>\n",
       "      <th>26276</th>\n",
       "      <td>USW00094789,\"JFK INTERNATIONAL AIRPORT, NY US\"...</td>\n",
       "    </tr>\n",
       "  </tbody>\n",
       "</table>\n",
       "<p>26277 rows × 1 columns</p>\n",
       "</div>"
      ],
      "text/plain": [
       "      STATION,\"NAME\",\"DATE\",\"HLY-CLDH-NORMAL\",\"HLY-CLOD-PCTBKN\",\"HLY-CLOD-PCTCLR\",\"HLY-CLOD-PCTFEW\",\"HLY-CLOD-PCTOVC\",\"HLY-CLOD-PCTSCT\",\"HLY-DEWP-10PCTL\",\"HLY-DEWP-90PCTL\",\"HLY-DEWP-NORMAL\",\"HLY-HIDX-NORMAL\",\"HLY-HTDH-NORMAL\",\"HLY-PRES-10PCTL\",\"HLY-PRES-90PCTL\",\"HLY-PRES-NORMAL\",\"HLY-TEMP-10PCTL\",\"HLY-TEMP-90PCTL\",\"HLY-TEMP-NORMAL\",\"HLY-WCHL-NORMAL\",\"HLY-WIND-1STDIR\",\"HLY-WIND-1STPCT\",\"HLY-WIND-2NDDIR\",\"HLY-WIND-2NDPCT\",\"HLY-WIND-AVGSPD\",\"HLY-WIND-PCTCLM\",\"HLY-WIND-VCTDIR\",\"HLY-WIND-VCTSPD\"\n",
       "0      USW00014732,\"LA GUARDIA AIRPORT, NY US\",\"01-01...                                                                                                                                                                                                                                                                                                                                                                                                                                                       \n",
       "1      USW00014732,\"LA GUARDIA AIRPORT, NY US\",\"01-01...                                                                                                                                                                                                                                                                                                                                                                                                                                                       \n",
       "2      USW00014732,\"LA GUARDIA AIRPORT, NY US\",\"01-01...                                                                                                                                                                                                                                                                                                                                                                                                                                                       \n",
       "3      USW00014732,\"LA GUARDIA AIRPORT, NY US\",\"01-01...                                                                                                                                                                                                                                                                                                                                                                                                                                                       \n",
       "4      USW00014732,\"LA GUARDIA AIRPORT, NY US\",\"01-01...                                                                                                                                                                                                                                                                                                                                                                                                                                                       \n",
       "...                                                  ...                                                                                                                                                                                                                                                                                                                                                                                                                                                       \n",
       "26272  USW00094789,\"JFK INTERNATIONAL AIRPORT, NY US\"...                                                                                                                                                                                                                                                                                                                                                                                                                                                       \n",
       "26273  USW00094789,\"JFK INTERNATIONAL AIRPORT, NY US\"...                                                                                                                                                                                                                                                                                                                                                                                                                                                       \n",
       "26274  USW00094789,\"JFK INTERNATIONAL AIRPORT, NY US\"...                                                                                                                                                                                                                                                                                                                                                                                                                                                       \n",
       "26275  USW00094789,\"JFK INTERNATIONAL AIRPORT, NY US\"...                                                                                                                                                                                                                                                                                                                                                                                                                                                       \n",
       "26276  USW00094789,\"JFK INTERNATIONAL AIRPORT, NY US\"...                                                                                                                                                                                                                                                                                                                                                                                                                                                       \n",
       "\n",
       "[26277 rows x 1 columns]"
      ]
     },
     "execution_count": 3,
     "metadata": {},
     "output_type": "execute_result"
    }
   ],
   "source": [
    "df_weather_all"
   ]
  },
  {
   "cell_type": "code",
   "execution_count": 2,
   "metadata": {},
   "outputs": [
    {
     "ename": "KeyError",
     "evalue": "\"None of [Index(['NAME', 'DATE', 'HLY-TEMP-NORMAL', 'HLY-WIND-AVGSPD'], dtype='object')] are in the [columns]\"",
     "output_type": "error",
     "traceback": [
      "\u001b[1;31m---------------------------------------------------------------------------\u001b[0m",
      "\u001b[1;31mKeyError\u001b[0m                                  Traceback (most recent call last)",
      "\u001b[1;32mc:\\Users\\jcrl\\Desktop\\ModelML_project\\Linear_model.ipynb Cell 2'\u001b[0m in \u001b[0;36m<cell line: 4>\u001b[1;34m()\u001b[0m\n\u001b[0;32m      <a href='vscode-notebook-cell:/c%3A/Users/jcrl/Desktop/ModelML_project/Linear_model.ipynb#ch0000001?line=1'>2</a>\u001b[0m df_weather_all \u001b[39m=\u001b[39m pd\u001b[39m.\u001b[39mread_csv(\u001b[39m'\u001b[39m\u001b[39mData/Weather.csv\u001b[39m\u001b[39m'\u001b[39m)\n\u001b[0;32m      <a href='vscode-notebook-cell:/c%3A/Users/jcrl/Desktop/ModelML_project/Linear_model.ipynb#ch0000001?line=2'>3</a>\u001b[0m \u001b[39m# Select only relevant features\u001b[39;00m\n\u001b[1;32m----> <a href='vscode-notebook-cell:/c%3A/Users/jcrl/Desktop/ModelML_project/Linear_model.ipynb#ch0000001?line=3'>4</a>\u001b[0m df_weather \u001b[39m=\u001b[39m df_weather_all[[\u001b[39m\"\u001b[39;49m\u001b[39mNAME\u001b[39;49m\u001b[39m\"\u001b[39;49m,\u001b[39m\"\u001b[39;49m\u001b[39mDATE\u001b[39;49m\u001b[39m\"\u001b[39;49m,\u001b[39m\"\u001b[39;49m\u001b[39mHLY-TEMP-NORMAL\u001b[39;49m\u001b[39m\"\u001b[39;49m,\u001b[39m\"\u001b[39;49m\u001b[39mHLY-WIND-AVGSPD\u001b[39;49m\u001b[39m\"\u001b[39;49m]]\n\u001b[0;32m      <a href='vscode-notebook-cell:/c%3A/Users/jcrl/Desktop/ModelML_project/Linear_model.ipynb#ch0000001?line=4'>5</a>\u001b[0m \u001b[39m# Select only JFK airport and from January 1st to July 1st\u001b[39;00m\n\u001b[0;32m      <a href='vscode-notebook-cell:/c%3A/Users/jcrl/Desktop/ModelML_project/Linear_model.ipynb#ch0000001?line=5'>6</a>\u001b[0m df_weather\u001b[39m=\u001b[39m df_weather[(df_weather[\u001b[39m\"\u001b[39m\u001b[39mNAME\u001b[39m\u001b[39m\"\u001b[39m] \u001b[39m==\u001b[39m \u001b[39m\"\u001b[39m\u001b[39mJFK INTERNATIONAL AIRPORT, NY US\u001b[39m\u001b[39m\"\u001b[39m) \u001b[39m&\u001b[39m (df_weather[\u001b[39m\"\u001b[39m\u001b[39mDATE\u001b[39m\u001b[39m\"\u001b[39m] \u001b[39m<\u001b[39m \u001b[39m'\u001b[39m\u001b[39m07-01T00:00:00\u001b[39m\u001b[39m'\u001b[39m)]\n",
      "File \u001b[1;32mc:\\Users\\jcrl\\miniconda3\\envs\\ModelML\\lib\\site-packages\\pandas\\core\\frame.py:3511\u001b[0m, in \u001b[0;36mDataFrame.__getitem__\u001b[1;34m(self, key)\u001b[0m\n\u001b[0;32m   <a href='file:///c%3A/Users/jcrl/miniconda3/envs/ModelML/lib/site-packages/pandas/core/frame.py?line=3508'>3509</a>\u001b[0m     \u001b[39mif\u001b[39;00m is_iterator(key):\n\u001b[0;32m   <a href='file:///c%3A/Users/jcrl/miniconda3/envs/ModelML/lib/site-packages/pandas/core/frame.py?line=3509'>3510</a>\u001b[0m         key \u001b[39m=\u001b[39m \u001b[39mlist\u001b[39m(key)\n\u001b[1;32m-> <a href='file:///c%3A/Users/jcrl/miniconda3/envs/ModelML/lib/site-packages/pandas/core/frame.py?line=3510'>3511</a>\u001b[0m     indexer \u001b[39m=\u001b[39m \u001b[39mself\u001b[39;49m\u001b[39m.\u001b[39;49mcolumns\u001b[39m.\u001b[39;49m_get_indexer_strict(key, \u001b[39m\"\u001b[39;49m\u001b[39mcolumns\u001b[39;49m\u001b[39m\"\u001b[39;49m)[\u001b[39m1\u001b[39m]\n\u001b[0;32m   <a href='file:///c%3A/Users/jcrl/miniconda3/envs/ModelML/lib/site-packages/pandas/core/frame.py?line=3512'>3513</a>\u001b[0m \u001b[39m# take() does not accept boolean indexers\u001b[39;00m\n\u001b[0;32m   <a href='file:///c%3A/Users/jcrl/miniconda3/envs/ModelML/lib/site-packages/pandas/core/frame.py?line=3513'>3514</a>\u001b[0m \u001b[39mif\u001b[39;00m \u001b[39mgetattr\u001b[39m(indexer, \u001b[39m\"\u001b[39m\u001b[39mdtype\u001b[39m\u001b[39m\"\u001b[39m, \u001b[39mNone\u001b[39;00m) \u001b[39m==\u001b[39m \u001b[39mbool\u001b[39m:\n",
      "File \u001b[1;32mc:\\Users\\jcrl\\miniconda3\\envs\\ModelML\\lib\\site-packages\\pandas\\core\\indexes\\base.py:5782\u001b[0m, in \u001b[0;36mIndex._get_indexer_strict\u001b[1;34m(self, key, axis_name)\u001b[0m\n\u001b[0;32m   <a href='file:///c%3A/Users/jcrl/miniconda3/envs/ModelML/lib/site-packages/pandas/core/indexes/base.py?line=5778'>5779</a>\u001b[0m \u001b[39melse\u001b[39;00m:\n\u001b[0;32m   <a href='file:///c%3A/Users/jcrl/miniconda3/envs/ModelML/lib/site-packages/pandas/core/indexes/base.py?line=5779'>5780</a>\u001b[0m     keyarr, indexer, new_indexer \u001b[39m=\u001b[39m \u001b[39mself\u001b[39m\u001b[39m.\u001b[39m_reindex_non_unique(keyarr)\n\u001b[1;32m-> <a href='file:///c%3A/Users/jcrl/miniconda3/envs/ModelML/lib/site-packages/pandas/core/indexes/base.py?line=5781'>5782</a>\u001b[0m \u001b[39mself\u001b[39;49m\u001b[39m.\u001b[39;49m_raise_if_missing(keyarr, indexer, axis_name)\n\u001b[0;32m   <a href='file:///c%3A/Users/jcrl/miniconda3/envs/ModelML/lib/site-packages/pandas/core/indexes/base.py?line=5783'>5784</a>\u001b[0m keyarr \u001b[39m=\u001b[39m \u001b[39mself\u001b[39m\u001b[39m.\u001b[39mtake(indexer)\n\u001b[0;32m   <a href='file:///c%3A/Users/jcrl/miniconda3/envs/ModelML/lib/site-packages/pandas/core/indexes/base.py?line=5784'>5785</a>\u001b[0m \u001b[39mif\u001b[39;00m \u001b[39misinstance\u001b[39m(key, Index):\n\u001b[0;32m   <a href='file:///c%3A/Users/jcrl/miniconda3/envs/ModelML/lib/site-packages/pandas/core/indexes/base.py?line=5785'>5786</a>\u001b[0m     \u001b[39m# GH 42790 - Preserve name from an Index\u001b[39;00m\n",
      "File \u001b[1;32mc:\\Users\\jcrl\\miniconda3\\envs\\ModelML\\lib\\site-packages\\pandas\\core\\indexes\\base.py:5842\u001b[0m, in \u001b[0;36mIndex._raise_if_missing\u001b[1;34m(self, key, indexer, axis_name)\u001b[0m\n\u001b[0;32m   <a href='file:///c%3A/Users/jcrl/miniconda3/envs/ModelML/lib/site-packages/pandas/core/indexes/base.py?line=5839'>5840</a>\u001b[0m     \u001b[39mif\u001b[39;00m use_interval_msg:\n\u001b[0;32m   <a href='file:///c%3A/Users/jcrl/miniconda3/envs/ModelML/lib/site-packages/pandas/core/indexes/base.py?line=5840'>5841</a>\u001b[0m         key \u001b[39m=\u001b[39m \u001b[39mlist\u001b[39m(key)\n\u001b[1;32m-> <a href='file:///c%3A/Users/jcrl/miniconda3/envs/ModelML/lib/site-packages/pandas/core/indexes/base.py?line=5841'>5842</a>\u001b[0m     \u001b[39mraise\u001b[39;00m \u001b[39mKeyError\u001b[39;00m(\u001b[39mf\u001b[39m\u001b[39m\"\u001b[39m\u001b[39mNone of [\u001b[39m\u001b[39m{\u001b[39;00mkey\u001b[39m}\u001b[39;00m\u001b[39m] are in the [\u001b[39m\u001b[39m{\u001b[39;00maxis_name\u001b[39m}\u001b[39;00m\u001b[39m]\u001b[39m\u001b[39m\"\u001b[39m)\n\u001b[0;32m   <a href='file:///c%3A/Users/jcrl/miniconda3/envs/ModelML/lib/site-packages/pandas/core/indexes/base.py?line=5843'>5844</a>\u001b[0m not_found \u001b[39m=\u001b[39m \u001b[39mlist\u001b[39m(ensure_index(key)[missing_mask\u001b[39m.\u001b[39mnonzero()[\u001b[39m0\u001b[39m]]\u001b[39m.\u001b[39munique())\n\u001b[0;32m   <a href='file:///c%3A/Users/jcrl/miniconda3/envs/ModelML/lib/site-packages/pandas/core/indexes/base.py?line=5844'>5845</a>\u001b[0m \u001b[39mraise\u001b[39;00m \u001b[39mKeyError\u001b[39;00m(\u001b[39mf\u001b[39m\u001b[39m\"\u001b[39m\u001b[39m{\u001b[39;00mnot_found\u001b[39m}\u001b[39;00m\u001b[39m not in index\u001b[39m\u001b[39m\"\u001b[39m)\n",
      "\u001b[1;31mKeyError\u001b[0m: \"None of [Index(['NAME', 'DATE', 'HLY-TEMP-NORMAL', 'HLY-WIND-AVGSPD'], dtype='object')] are in the [columns]\""
     ]
    }
   ],
   "source": [
    "df = pd.read_csv(\"Data/2018.csv\")\n",
    "df_weather_all = pd.read_csv('Data/Weather.csv')\n",
    "# Select only relevant features\n",
    "df_weather = df_weather_all[[\"NAME\",\"DATE\",\"HLY-TEMP-NORMAL\",\"HLY-WIND-AVGSPD\"]]\n",
    "# Select only JFK airport and from January 1st to July 1st\n",
    "df_weather= df_weather[(df_weather[\"NAME\"] == \"JFK INTERNATIONAL AIRPORT, NY US\") & (df_weather[\"DATE\"] < '07-01T00:00:00')]"
   ]
  },
  {
   "cell_type": "code",
   "execution_count": null,
   "metadata": {},
   "outputs": [],
   "source": [
    "df.FL_DATE = pd.to_datetime(df.FL_DATE, format=\"%Y-%m-%d\")\n",
    "df = df.set_index('FL_DATE')"
   ]
  },
  {
   "cell_type": "code",
   "execution_count": null,
   "metadata": {},
   "outputs": [],
   "source": [
    "df.tail()"
   ]
  }
 ],
 "metadata": {
  "interpreter": {
   "hash": "f3449860fed0861a1e81fd060afa67eac864f2ca12d1913a45e827e462276ab2"
  },
  "kernelspec": {
   "display_name": "Python 3.9.12 ('ModelML')",
   "language": "python",
   "name": "python3"
  },
  "language_info": {
   "codemirror_mode": {
    "name": "ipython",
    "version": 3
   },
   "file_extension": ".py",
   "mimetype": "text/x-python",
   "name": "python",
   "nbconvert_exporter": "python",
   "pygments_lexer": "ipython3",
   "version": "3.9.12"
  },
  "orig_nbformat": 4
 },
 "nbformat": 4,
 "nbformat_minor": 2
}
