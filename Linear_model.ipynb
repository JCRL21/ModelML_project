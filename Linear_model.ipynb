{
 "cells": [
  {
   "cell_type": "code",
   "execution_count": 1,
   "metadata": {},
   "outputs": [
    {
     "name": "stderr",
     "output_type": "stream",
     "text": [
      "c:\\Users\\jcrl\\miniconda3\\envs\\ModelML\\lib\\site-packages\\tqdm\\auto.py:22: TqdmWarning: IProgress not found. Please update jupyter and ipywidgets. See https://ipywidgets.readthedocs.io/en/stable/user_install.html\n",
      "  from .autonotebook import tqdm as notebook_tqdm\n"
     ]
    }
   ],
   "source": [
    "import numpy as np\n",
    "import pandas as pd   \n",
    "from matplotlib import pyplot as plt\n",
    "import seaborn as sns\n",
    "from sklearn import linear_model\n",
    "from sklearn.model_selection import train_test_split\n",
    "import torch\n",
    "import itertools\n",
    "\n",
    "import pyro\n",
    "import pyro.distributions as dist\n",
    "from pyro.contrib.autoguide import AutoDiagonalNormal, AutoMultivariateNormal\n",
    "from pyro.infer import MCMC, NUTS, HMC, SVI, Trace_ELBO\n",
    "from pyro.optim import Adam, ClippedAdam\n",
    "\n",
    "from sklearn.preprocessing import MinMaxScaler\n",
    "scaler = MinMaxScaler()\n",
    "# fix random generator seed (for reproducibility of results)\n",
    "np.random.seed(42)\n",
    "import warnings\n",
    "warnings.filterwarnings(\"ignore\", category=FutureWarning)\n",
    "\n",
    "# matplotlib options\n",
    "palette = itertools.cycle(sns.color_palette())\n",
    "plt.style.use('ggplot')\n",
    "%matplotlib inline\n",
    "plt.rcParams['figure.figsize'] = (16, 10)"
   ]
  },
  {
   "cell_type": "code",
   "execution_count": 2,
   "metadata": {},
   "outputs": [],
   "source": [
    "df = pd.read_csv(\"Data/data_pre.csv\")\n"
   ]
  },
  {
   "cell_type": "code",
   "execution_count": 3,
   "metadata": {},
   "outputs": [],
   "source": [
    "df = df.drop([\"Unnamed: 0\"], axis=1)"
   ]
  },
  {
   "cell_type": "code",
   "execution_count": 4,
   "metadata": {},
   "outputs": [],
   "source": [
    "df[\"DEP_TIME\"] = pd.to_datetime(df[\"DEP_TIME\"]).dt.hour"
   ]
  },
  {
   "cell_type": "code",
   "execution_count": 5,
   "metadata": {},
   "outputs": [],
   "source": [
    "df[\"FL_DATE\"]=pd.to_datetime(df[\"FL_DATE\"]).dt.dayofyear"
   ]
  },
  {
   "cell_type": "code",
   "execution_count": 6,
   "metadata": {},
   "outputs": [
    {
     "name": "stdout",
     "output_type": "stream",
     "text": [
      "(54180, 15)\n"
     ]
    }
   ],
   "source": [
    "X = df.drop([\"DEP_DELAY\"], axis=1)\n",
    "print(X.shape)\n",
    "X = X.to_numpy()\n",
    "\n",
    "\n",
    "y = df[\"DEP_DELAY\"].values"
   ]
  },
  {
   "cell_type": "code",
   "execution_count": 7,
   "metadata": {},
   "outputs": [],
   "source": [
    "X_train, X_test, y_train, y_test = train_test_split(X, y, test_size=0.33, random_state=42)\n",
    "# standardize input features\n",
    "X_train_mean = X_train.mean(axis=0)\n",
    "X_train_std = X_train.std(axis=0)\n",
    "X_train = (X_train - X_train_mean) / X_train_std\n",
    "\n",
    "X_test_mean = X_test.mean(axis=0)\n",
    "X_test_std = X_test.std(axis=0)\n",
    "X_test = (X_test - X_test_mean) / X_test_std\n",
    "\n",
    "# standardize target\n",
    "y_train_mean = y_train.mean()\n",
    "y_train_std = y_train.std()\n",
    "y_train = (y_train - y_train_mean) / y_train_std\n",
    "\n",
    "y_test_mean = y_test.mean()\n",
    "y_test_std = y_test.std()\n",
    "y_test = (y_test - y_test_mean) / y_test_std\n"
   ]
  },
  {
   "cell_type": "code",
   "execution_count": 8,
   "metadata": {},
   "outputs": [],
   "source": [
    "def compute_error(trues, predicted):\n",
    "    corr = np.corrcoef(predicted, trues)[0,1]\n",
    "    mae = np.mean(np.abs(predicted - trues))\n",
    "    rae = np.sum(np.abs(predicted - trues)) / np.sum(np.abs(trues - np.mean(trues)))\n",
    "    rmse = np.sqrt(np.mean((predicted - trues)**2))\n",
    "    r2 = max(0, 1 - np.sum((trues-predicted)**2) / np.sum((trues - np.mean(trues))**2))\n",
    "    return corr, mae, rae, rmse, r2"
   ]
  },
  {
   "cell_type": "code",
   "execution_count": 9,
   "metadata": {},
   "outputs": [
    {
     "name": "stdout",
     "output_type": "stream",
     "text": [
      "CorrCoef: -0.011\n",
      "MAE: 3533056383.960\n",
      "RMSE: 5206834839.693\n",
      "R2: 0.000\n"
     ]
    }
   ],
   "source": [
    "regr = linear_model.LinearRegression()\n",
    "regr.fit(X_train, y_train)\n",
    "y_hat = regr.predict(X_test)\n",
    "\n",
    "\n",
    "\n",
    "\n",
    "corr, mae, rae, rmse, r2 = compute_error(y_test, y_hat)\n",
    "print(\"CorrCoef: %.3f\\nMAE: %.3f\\nRMSE: %.3f\\nR2: %.3f\" % (corr, mae, rmse, r2))"
   ]
  },
  {
   "cell_type": "code",
   "execution_count": 10,
   "metadata": {},
   "outputs": [],
   "source": [
    "def model(X, obs=None):\n",
    "    \n",
    "    alpha = pyro.sample(\"alpha\", dist.Normal(0., 1.))                   # Prior for the bias/intercept\n",
    "    beta  = pyro.sample(\"beta\", dist.Normal(torch.zeros(X.shape[1]), \n",
    "                                            torch.ones(X.shape[1])).to_event())    # Priors for the regression coeffcients\n",
    "    sigma = pyro.sample(\"sigma\", dist.HalfCauchy(5.))                   # Prior for the variance\n",
    "    with pyro.plate(\"data\"):\n",
    "        y = pyro.sample(\"y\", dist.Normal(alpha + X.matmul(beta), sigma), obs=obs)\n",
    "        \n",
    "    return y"
   ]
  },
  {
   "cell_type": "code",
   "execution_count": 11,
   "metadata": {},
   "outputs": [],
   "source": [
    "# Prepare data for Pyro model\n",
    "X_train_small = torch.tensor(X_train).float()\n",
    "y_train_small = torch.tensor(y_train).float()"
   ]
  },
  {
   "cell_type": "code",
   "execution_count": 12,
   "metadata": {},
   "outputs": [
    {
     "name": "stderr",
     "output_type": "stream",
     "text": [
      "Sample: 100%|██████████| 1200/1200 [13:27,  1.49it/s, step size=7.33e-03, acc. prob=0.928]"
     ]
    },
    {
     "name": "stdout",
     "output_type": "stream",
     "text": [
      "\n",
      "                mean       std    median      5.0%     95.0%     n_eff     r_hat\n",
      "     alpha     -0.00      0.00     -0.00     -0.01      0.01   1298.99      1.00\n",
      "   beta[0]     -0.00      0.02     -0.01     -0.04      0.03    282.69      1.00\n",
      "   beta[1]      0.23      0.01      0.23      0.22      0.24    815.78      1.01\n",
      "   beta[2]      0.12      0.01      0.12      0.11      0.12   1012.76      1.00\n",
      "   beta[3]     -0.04      0.02     -0.04     -0.07     -0.01    297.68      1.00\n",
      "   beta[4]     -0.14      0.01     -0.14     -0.15     -0.13    641.57      1.00\n",
      "   beta[5]      0.06      0.35      0.08     -0.50      0.65    131.71      1.00\n",
      "   beta[6]     -0.00      0.45      0.03     -0.71      0.76    132.04      1.00\n",
      "   beta[7]     -0.00      0.08      0.00     -0.13      0.12    132.05      1.00\n",
      "   beta[8]     -0.01      0.31      0.02     -0.49      0.51    131.89      1.00\n",
      "   beta[9]      0.01      0.10      0.01     -0.16      0.16    132.51      1.00\n",
      "  beta[10]      0.01      0.58      0.06     -0.91      0.99    131.90      1.00\n",
      "  beta[11]      0.01      0.08      0.02     -0.12      0.14    133.81      1.00\n",
      "  beta[12]      0.02      0.46      0.06     -0.70      0.79    131.60      1.00\n",
      "  beta[13]     -0.00      0.14      0.01     -0.22      0.23    132.01      1.00\n",
      "  beta[14]     -0.01      0.23      0.01     -0.38      0.39    132.17      1.00\n",
      "     sigma      0.96      0.00      0.96      0.96      0.97   1377.26      1.00\n",
      "\n",
      "Number of divergences: 0\n"
     ]
    },
    {
     "name": "stderr",
     "output_type": "stream",
     "text": [
      "\n"
     ]
    }
   ],
   "source": [
    "# Run inference in Pyro\n",
    "nuts_kernel = NUTS(model)\n",
    "mcmc = MCMC(nuts_kernel, num_samples=1000, warmup_steps=200, num_chains=1)\n",
    "mcmc.run(X_train_small, y_train_small)\n",
    "\n",
    "# Show summary of inference results\n",
    "mcmc.summary()"
   ]
  },
  {
   "cell_type": "code",
   "execution_count": 13,
   "metadata": {},
   "outputs": [
    {
     "data": {
      "image/png": "[encoded data removed]",
      "text/plain": [
       "<Figure size 1152x720 with 1 Axes>"
      ]
     },
     "metadata": {
      "needs_background": "light"
     },
     "output_type": "display_data"
    }
   ],
   "source": [
    "# Extract samples from posterior\n",
    "posterior_samples = mcmc.get_samples()\n",
    "\n",
    "sns.distplot(posterior_samples[\"alpha\"])\n",
    "sns.distplot(posterior_samples[\"sigma\"])\n",
    "\n",
    "# Alternate plotting due to deprecated distplot-function\n",
    "#sns.histplot(data=posterior_samples[\"alpha\"], kde=True, stat='density', color=next(palette), element=\"step\")\n",
    "#sns.histplot(data=posterior_samples[\"sigma\"], kde=True, stat='density', color=next(palette), element=\"step\")\n",
    "\n",
    "plt.legend([\"alpha\", \"sigma\"])\n",
    "plt.axis([-10,10,0,5])\n",
    "plt.show()"
   ]
  },
  {
   "cell_type": "code",
   "execution_count": 14,
   "metadata": {},
   "outputs": [
    {
     "name": "stdout",
     "output_type": "stream",
     "text": [
      "torch.Size([1000])\n",
      "torch.Size([1000, 15])\n"
     ]
    }
   ],
   "source": [
    "print(posterior_samples[\"alpha\"].shape)\n",
    "print(posterior_samples[\"beta\"].shape)\n",
    "\n",
    "beta_hat=torch.mean(posterior_samples[\"beta\"], axis=0)\n",
    "alpha_hat=torch.mean(posterior_samples[\"alpha\"], axis=0)\n",
    "\n",
    "# Compute predictions\n",
    "y_hat = np.mean(posterior_samples[\"alpha\"].numpy().T + np.dot(X_test, posterior_samples[\"beta\"].numpy().T), axis=1)"
   ]
  },
  {
   "cell_type": "code",
   "execution_count": 15,
   "metadata": {},
   "outputs": [
    {
     "name": "stdout",
     "output_type": "stream",
     "text": [
      "CorrCoef: 0.288\n",
      "MAE: 21.035\n",
      "RMSE: 36.341\n",
      "R2: 0.083\n"
     ]
    }
   ],
   "source": [
    "# Convert back to the original scale\n",
    "preds = y_hat * y_test_std + y_test_mean\n",
    "y_true = y_test * y_test_std + y_test_mean\n",
    "corr, mae, rae, rmse, r2 = compute_error(y_true, preds)\n",
    "print(\"CorrCoef: %.3f\\nMAE: %.3f\\nRMSE: %.3f\\nR2: %.3f\" % (corr, mae, rmse, r2))"
   ]
  },
  {
   "cell_type": "markdown",
   "metadata": {},
   "source": [
    "Pyro: Train on full dataset using Stochastic Variational Inference (SVI)"
   ]
  },
  {
   "cell_type": "code",
   "execution_count": 16,
   "metadata": {},
   "outputs": [],
   "source": [
    "# Prepare data for Pyro model\n",
    "X_train_torch = torch.tensor(X_train).float()\n",
    "y_train_torch = torch.tensor(y_train).float()"
   ]
  },
  {
   "cell_type": "code",
   "execution_count": 17,
   "metadata": {},
   "outputs": [],
   "source": [
    "# Define guide function\n",
    "guide = AutoMultivariateNormal(model)\n",
    "\n",
    "# Reset parameter values\n",
    "pyro.clear_param_store()"
   ]
  },
  {
   "cell_type": "code",
   "execution_count": 18,
   "metadata": {},
   "outputs": [],
   "source": [
    "# Define the number of optimization steps\n",
    "n_steps = 4000\n",
    "\n",
    "# Setup the optimizer\n",
    "adam_params = {\"lr\": 0.001} # learning rate (lr) of optimizer\n",
    "optimizer = ClippedAdam(adam_params)\n",
    "\n",
    "# Setup the inference algorithm\n",
    "elbo = Trace_ELBO(num_particles=1)\n",
    "svi = SVI(model, guide, optimizer, loss=elbo)"
   ]
  },
  {
   "cell_type": "code",
   "execution_count": 19,
   "metadata": {},
   "outputs": [
    {
     "name": "stdout",
     "output_type": "stream",
     "text": [
      "[0] ELBO: 86305.1\n",
      "[100] ELBO: 76732.0\n",
      "[200] ELBO: 79898.0\n",
      "[300] ELBO: 74488.2\n",
      "[400] ELBO: 67177.9\n",
      "[500] ELBO: 66549.2\n",
      "[600] ELBO: 62835.6\n",
      "[700] ELBO: 63214.6\n",
      "[800] ELBO: 59650.1\n",
      "[900] ELBO: 57358.6\n",
      "[1000] ELBO: 56180.7\n",
      "[1100] ELBO: 52768.4\n",
      "[1200] ELBO: 53149.4\n",
      "[1300] ELBO: 51610.5\n",
      "[1400] ELBO: 51071.4\n",
      "[1500] ELBO: 50991.1\n",
      "[1600] ELBO: 50750.3\n",
      "[1700] ELBO: 50726.0\n",
      "[1800] ELBO: 50476.3\n",
      "[1900] ELBO: 50437.2\n",
      "[2000] ELBO: 50776.4\n",
      "[2100] ELBO: 50400.8\n",
      "[2200] ELBO: 50890.6\n",
      "[2300] ELBO: 50600.8\n",
      "[2400] ELBO: 50429.0\n",
      "[2500] ELBO: 50298.5\n",
      "[2600] ELBO: 50218.2\n",
      "[2700] ELBO: 50174.2\n",
      "[2800] ELBO: 50223.0\n",
      "[2900] ELBO: 50201.9\n",
      "[3000] ELBO: 50185.4\n",
      "[3100] ELBO: 50186.7\n",
      "[3200] ELBO: 50193.9\n",
      "[3300] ELBO: 50205.4\n",
      "[3400] ELBO: 50200.2\n",
      "[3500] ELBO: 50213.9\n",
      "[3600] ELBO: 50233.5\n",
      "[3700] ELBO: 50218.8\n",
      "[3800] ELBO: 50234.2\n",
      "[3900] ELBO: 50179.1\n"
     ]
    }
   ],
   "source": [
    "# Do gradient steps\n",
    "for step in range(n_steps):\n",
    "    elbo = svi.step(X_train_torch, y_train_torch)\n",
    "    if step % 100 == 0:\n",
    "        print(\"[%d] ELBO: %.1f\" % (step, elbo))"
   ]
  },
  {
   "cell_type": "code",
   "execution_count": 20,
   "metadata": {},
   "outputs": [],
   "source": [
    "from pyro.infer import Predictive\n",
    "\n",
    "predictive = Predictive(model, guide=guide, num_samples=1000,\n",
    "                        return_sites=(\"alpha\", \"beta\", \"sigma\"))\n",
    "samples = predictive(X_train_torch, y_train_torch)"
   ]
  },
  {
   "cell_type": "code",
   "execution_count": 21,
   "metadata": {},
   "outputs": [
    {
     "name": "stdout",
     "output_type": "stream",
     "text": [
      "CorrCoef: 0.287\n",
      "MAE: 21.040\n",
      "RMSE: 36.350\n",
      "R2: 0.082\n"
     ]
    }
   ],
   "source": [
    "alpha_samples = samples[\"alpha\"].detach().numpy()\n",
    "beta_samples = samples[\"beta\"].detach().numpy()\n",
    "y_hat = np.mean(alpha_samples.T + np.dot(X_test, beta_samples[:,0].T), axis=1)\n",
    "\n",
    "# Convert back to the original scale\n",
    "preds = y_hat * y_test_std + y_test_mean\n",
    "y_true = y_test * y_test_std + y_test_mean\n",
    "corr, mae, rae, rmse, r2 = compute_error(y_true, preds)\n",
    "print(\"CorrCoef: %.3f\\nMAE: %.3f\\nRMSE: %.3f\\nR2: %.3f\" % (corr, mae, rmse, r2))\n"
   ]
  },
  {
   "cell_type": "markdown",
   "metadata": {},
   "source": [
    "2.3 Pyro: Heteroscedastic regression"
   ]
  },
  {
   "cell_type": "code",
   "execution_count": 22,
   "metadata": {},
   "outputs": [],
   "source": [
    "def heteroscedastic_model(X, obs=None):\n",
    "    alpha_mu = pyro.sample(\"alpha_mu\", dist.Normal(0., 1.))                 # Prior for the bias/intercept of the mean\n",
    "    beta_mu  = pyro.sample(\"beta_mu\", dist.Normal(torch.zeros(X.shape[1]), \n",
    "                                               torch.ones(X.shape[1])).to_event())     # Priors for the regression coeffcients of the mean\n",
    "    alpha_v = pyro.sample(\"alpha_v\", dist.Normal(0., 1.))                   # Prior for the bias/intercept of the variance\n",
    "    beta_v  = pyro.sample(\"beta_v\", dist.Normal(torch.zeros(X.shape[1]), \n",
    "                                               torch.ones(X.shape[1])).to_event())     # Priors for the regression coeffcients of the variance\n",
    "    \n",
    "    with pyro.plate(\"data\"):\n",
    "        y = pyro.sample(\"y\", dist.Normal(alpha_mu + X.matmul(beta_mu), torch.exp(alpha_v + X.matmul(beta_v))), obs=obs)\n",
    "        \n",
    "    return y"
   ]
  },
  {
   "cell_type": "code",
   "execution_count": 23,
   "metadata": {},
   "outputs": [],
   "source": [
    "# Prepare data for Pyro model\n",
    "X_train_torch = torch.tensor(X_train).float()\n",
    "y_train_torch = torch.tensor(y_train).float()"
   ]
  },
  {
   "cell_type": "code",
   "execution_count": 24,
   "metadata": {},
   "outputs": [
    {
     "name": "stdout",
     "output_type": "stream",
     "text": [
      "[0] ELBO: 97512043.5\n",
      "[200] ELBO: 3020309.9\n",
      "[400] ELBO: 116975.6\n",
      "[600] ELBO: 70006.9\n",
      "[800] ELBO: 55430.0\n",
      "[1000] ELBO: 50924.9\n",
      "[1200] ELBO: 49800.2\n",
      "[1400] ELBO: 50331.6\n",
      "[1600] ELBO: 48725.2\n",
      "[1800] ELBO: 49302.9\n",
      "[2000] ELBO: 48187.6\n",
      "[2200] ELBO: 48813.5\n",
      "[2400] ELBO: 48057.3\n",
      "[2600] ELBO: 47839.2\n",
      "[2800] ELBO: 47807.4\n",
      "[3000] ELBO: 47632.9\n",
      "[3200] ELBO: 47711.6\n",
      "[3400] ELBO: 47645.5\n",
      "[3600] ELBO: 47347.1\n",
      "[3800] ELBO: 47409.3\n",
      "[4000] ELBO: 47324.5\n",
      "[4200] ELBO: 47420.4\n",
      "[4400] ELBO: 47300.1\n",
      "[4600] ELBO: 47341.3\n",
      "[4800] ELBO: 47343.3\n",
      "[5000] ELBO: 47325.4\n",
      "[5200] ELBO: 47268.7\n",
      "[5400] ELBO: 47300.8\n",
      "[5600] ELBO: 47264.7\n",
      "[5800] ELBO: 47254.8\n",
      "[6000] ELBO: 47287.5\n",
      "[6200] ELBO: 47277.6\n",
      "[6400] ELBO: 47261.8\n",
      "[6600] ELBO: 47254.3\n",
      "[6800] ELBO: 47255.4\n",
      "[7000] ELBO: 47250.8\n",
      "[7200] ELBO: 47265.5\n",
      "[7400] ELBO: 47269.0\n",
      "[7600] ELBO: 47243.3\n",
      "[7800] ELBO: 47256.8\n"
     ]
    }
   ],
   "source": [
    "# Define guide function\n",
    "guide = AutoMultivariateNormal(heteroscedastic_model)\n",
    "\n",
    "# Reset parameter values\n",
    "pyro.clear_param_store()\n",
    "\n",
    "# Define the number of optimization steps\n",
    "n_steps = 8000\n",
    "\n",
    "# Setup the optimizer\n",
    "adam_params = {\"lr\": 0.001} # learning rate (lr) of optimizer\n",
    "optimizer = ClippedAdam(adam_params)\n",
    "\n",
    "# Setup the inference algorithm\n",
    "elbo = Trace_ELBO(num_particles=1)\n",
    "svi = SVI(heteroscedastic_model, guide, optimizer, loss=elbo)\n",
    "\n",
    "# Do gradient steps\n",
    "for step in range(n_steps):\n",
    "    elbo = svi.step(X_train_torch, y_train_torch)\n",
    "    if step % 200 == 0:\n",
    "        print(\"[%d] ELBO: %.1f\" % (step, elbo))"
   ]
  },
  {
   "cell_type": "code",
   "execution_count": 25,
   "metadata": {},
   "outputs": [],
   "source": [
    "from pyro.infer import Predictive\n",
    "\n",
    "predictive = Predictive(heteroscedastic_model, guide=guide, num_samples=1000,\n",
    "                        return_sites=(\"alpha_mu\", \"beta_mu\", \"alpha_v\", \"beta_v\"))\n",
    "samples = predictive(X_train_torch, y_train_torch)"
   ]
  },
  {
   "cell_type": "code",
   "execution_count": 27,
   "metadata": {},
   "outputs": [
    {
     "name": "stdout",
     "output_type": "stream",
     "text": [
      "CorrCoef: 0.286\n",
      "MAE: 20.971\n",
      "RMSE: 36.477\n",
      "R2: 0.076\n"
     ]
    }
   ],
   "source": [
    "alpha_samples = samples[\"alpha_mu\"].detach().numpy()\n",
    "beta_samples = samples[\"beta_mu\"].detach().numpy()\n",
    "y_hat = np.mean(alpha_samples.T + np.dot(X_test, beta_samples[:,0].T), axis=1)\n",
    "\n",
    "# convert back to the original scale\n",
    "preds = y_hat * y_test_std + y_test_mean\n",
    "y_true = y_test * y_test_std + y_test_mean\n",
    "\n",
    "corr, mae, rae, rmse, r2 = compute_error(y_true, preds)\n",
    "print(\"CorrCoef: %.3f\\nMAE: %.3f\\nRMSE: %.3f\\nR2: %.3f\" % (corr, mae, rmse, r2))"
   ]
  },
  {
   "cell_type": "code",
   "execution_count": 28,
   "metadata": {},
   "outputs": [],
   "source": [
    "alpha_v_samples = samples[\"alpha_v\"].detach().numpy()\n",
    "beta_v_samples = samples[\"beta_v\"].detach().numpy()\n",
    "sigma_hat = np.mean(np.exp(alpha_v_samples.T + np.dot(X_test, beta_v_samples[:,0].T)), axis=1)"
   ]
  },
  {
   "cell_type": "code",
   "execution_count": 29,
   "metadata": {},
   "outputs": [
    {
     "name": "stdout",
     "output_type": "stream",
     "text": [
      "[0.743 0.54  0.925 0.619 0.889 0.594 0.825 1.213 0.763 0.946]\n"
     ]
    }
   ],
   "source": [
    "np.set_printoptions(precision=3)\n",
    "print(sigma_hat[:10])"
   ]
  }
 ],
 "metadata": {
  "interpreter": {
   "hash": "f3449860fed0861a1e81fd060afa67eac864f2ca12d1913a45e827e462276ab2"
  },
  "kernelspec": {
   "display_name": "Python 3.9.12 ('ModelML')",
   "language": "python",
   "name": "python3"
  },
  "language_info": {
   "codemirror_mode": {
    "name": "ipython",
    "version": 3
   },
   "file_extension": ".py",
   "mimetype": "text/x-python",
   "name": "python",
   "nbconvert_exporter": "python",
   "pygments_lexer": "ipython3",
   "version": "3.9.12"
  },
  "orig_nbformat": 4
 },
 "nbformat": 4,
 "nbformat_minor": 2
}
