{
 "cells": [
  {
   "cell_type": "code",
   "execution_count": 2,
   "metadata": {},
   "outputs": [],
   "source": [
    "# Import\n",
    "import numpy as np\n",
    "import pandas as pd   \n",
    "from matplotlib import pyplot as plt\n",
    "import seaborn as sns\n",
    "import datetime"
   ]
  },
  {
   "cell_type": "code",
   "execution_count": 3,
   "metadata": {},
   "outputs": [],
   "source": [
    "# Load preprocessed data\n",
    "df = pd.read_csv(\"Data/data_pre.csv\", index_col=0)"
   ]
  },
  {
   "cell_type": "code",
   "execution_count": 4,
   "metadata": {},
   "outputs": [
    {
     "data": {
      "text/html": [
       "<div>\n",
       "<style scoped>\n",
       "    .dataframe tbody tr th:only-of-type {\n",
       "        vertical-align: middle;\n",
       "    }\n",
       "\n",
       "    .dataframe tbody tr th {\n",
       "        vertical-align: top;\n",
       "    }\n",
       "\n",
       "    .dataframe thead th {\n",
       "        text-align: right;\n",
       "    }\n",
       "</style>\n",
       "<table border=\"1\" class=\"dataframe\">\n",
       "  <thead>\n",
       "    <tr style=\"text-align: right;\">\n",
       "      <th></th>\n",
       "      <th>FL_DATE</th>\n",
       "      <th>DEP_TIME</th>\n",
       "      <th>TAXI_OUT</th>\n",
       "      <th>DEP_DELAY</th>\n",
       "      <th>TEMP</th>\n",
       "      <th>WIND</th>\n",
       "      <th>OP_CARRIER_American Airlines</th>\n",
       "      <th>OP_CARRIER_Delta Airlines</th>\n",
       "      <th>OP_CARRIER_Endeavor Air</th>\n",
       "      <th>OP_CARRIER_Envoy Air</th>\n",
       "      <th>OP_CARRIER_ExpressJet</th>\n",
       "      <th>OP_CARRIER_JetBlue Airways</th>\n",
       "      <th>OP_CARRIER_Mesa Airline</th>\n",
       "      <th>OP_CARRIER_PSA Airlines</th>\n",
       "      <th>OP_CARRIER_US</th>\n",
       "      <th>OP_CARRIER_United Airlines</th>\n",
       "    </tr>\n",
       "  </thead>\n",
       "  <tbody>\n",
       "    <tr>\n",
       "      <th>0</th>\n",
       "      <td>2010-01-01</td>\n",
       "      <td>22:36:00</td>\n",
       "      <td>18.0</td>\n",
       "      <td>121.0</td>\n",
       "      <td>34.7</td>\n",
       "      <td>12.4</td>\n",
       "      <td>0</td>\n",
       "      <td>0</td>\n",
       "      <td>0</td>\n",
       "      <td>1</td>\n",
       "      <td>0</td>\n",
       "      <td>0</td>\n",
       "      <td>0</td>\n",
       "      <td>0</td>\n",
       "      <td>0</td>\n",
       "      <td>0</td>\n",
       "    </tr>\n",
       "    <tr>\n",
       "      <th>1</th>\n",
       "      <td>2010-01-01</td>\n",
       "      <td>16:22:00</td>\n",
       "      <td>21.0</td>\n",
       "      <td>7.0</td>\n",
       "      <td>38.1</td>\n",
       "      <td>12.9</td>\n",
       "      <td>0</td>\n",
       "      <td>0</td>\n",
       "      <td>0</td>\n",
       "      <td>1</td>\n",
       "      <td>0</td>\n",
       "      <td>0</td>\n",
       "      <td>0</td>\n",
       "      <td>0</td>\n",
       "      <td>0</td>\n",
       "      <td>0</td>\n",
       "    </tr>\n",
       "    <tr>\n",
       "      <th>2</th>\n",
       "      <td>2010-01-01</td>\n",
       "      <td>22:38:00</td>\n",
       "      <td>23.0</td>\n",
       "      <td>3.0</td>\n",
       "      <td>34.7</td>\n",
       "      <td>12.4</td>\n",
       "      <td>0</td>\n",
       "      <td>0</td>\n",
       "      <td>0</td>\n",
       "      <td>1</td>\n",
       "      <td>0</td>\n",
       "      <td>0</td>\n",
       "      <td>0</td>\n",
       "      <td>0</td>\n",
       "      <td>0</td>\n",
       "      <td>0</td>\n",
       "    </tr>\n",
       "    <tr>\n",
       "      <th>3</th>\n",
       "      <td>2010-01-01</td>\n",
       "      <td>10:24:00</td>\n",
       "      <td>23.0</td>\n",
       "      <td>-1.0</td>\n",
       "      <td>35.4</td>\n",
       "      <td>13.0</td>\n",
       "      <td>0</td>\n",
       "      <td>0</td>\n",
       "      <td>0</td>\n",
       "      <td>1</td>\n",
       "      <td>0</td>\n",
       "      <td>0</td>\n",
       "      <td>0</td>\n",
       "      <td>0</td>\n",
       "      <td>0</td>\n",
       "      <td>0</td>\n",
       "    </tr>\n",
       "    <tr>\n",
       "      <th>4</th>\n",
       "      <td>2010-01-01</td>\n",
       "      <td>18:27:00</td>\n",
       "      <td>31.0</td>\n",
       "      <td>-3.0</td>\n",
       "      <td>36.5</td>\n",
       "      <td>12.8</td>\n",
       "      <td>0</td>\n",
       "      <td>0</td>\n",
       "      <td>0</td>\n",
       "      <td>1</td>\n",
       "      <td>0</td>\n",
       "      <td>0</td>\n",
       "      <td>0</td>\n",
       "      <td>0</td>\n",
       "      <td>0</td>\n",
       "      <td>0</td>\n",
       "    </tr>\n",
       "  </tbody>\n",
       "</table>\n",
       "</div>"
      ],
      "text/plain": [
       "      FL_DATE  DEP_TIME  TAXI_OUT  DEP_DELAY  TEMP  WIND  \\\n",
       "0  2010-01-01  22:36:00      18.0      121.0  34.7  12.4   \n",
       "1  2010-01-01  16:22:00      21.0        7.0  38.1  12.9   \n",
       "2  2010-01-01  22:38:00      23.0        3.0  34.7  12.4   \n",
       "3  2010-01-01  10:24:00      23.0       -1.0  35.4  13.0   \n",
       "4  2010-01-01  18:27:00      31.0       -3.0  36.5  12.8   \n",
       "\n",
       "   OP_CARRIER_American Airlines  OP_CARRIER_Delta Airlines  \\\n",
       "0                             0                          0   \n",
       "1                             0                          0   \n",
       "2                             0                          0   \n",
       "3                             0                          0   \n",
       "4                             0                          0   \n",
       "\n",
       "   OP_CARRIER_Endeavor Air  OP_CARRIER_Envoy Air  OP_CARRIER_ExpressJet  \\\n",
       "0                        0                     1                      0   \n",
       "1                        0                     1                      0   \n",
       "2                        0                     1                      0   \n",
       "3                        0                     1                      0   \n",
       "4                        0                     1                      0   \n",
       "\n",
       "   OP_CARRIER_JetBlue Airways  OP_CARRIER_Mesa Airline  \\\n",
       "0                           0                        0   \n",
       "1                           0                        0   \n",
       "2                           0                        0   \n",
       "3                           0                        0   \n",
       "4                           0                        0   \n",
       "\n",
       "   OP_CARRIER_PSA Airlines  OP_CARRIER_US  OP_CARRIER_United Airlines  \n",
       "0                        0              0                           0  \n",
       "1                        0              0                           0  \n",
       "2                        0              0                           0  \n",
       "3                        0              0                           0  \n",
       "4                        0              0                           0  "
      ]
     },
     "execution_count": 4,
     "metadata": {},
     "output_type": "execute_result"
    }
   ],
   "source": [
    "# Print head\n",
    "df.head()"
   ]
  },
  {
   "cell_type": "code",
   "execution_count": 5,
   "metadata": {},
   "outputs": [
    {
     "data": {
      "image/png": "[encoded data removed]",
      "text/plain": [
       "<Figure size 432x288 with 1 Axes>"
      ]
     },
     "metadata": {
      "needs_background": "light"
     },
     "output_type": "display_data"
    }
   ],
   "source": [
    "# Plot taxi out time\n",
    "df_tax = df.groupby([\"TAXI_OUT\"]).size() \n",
    "df_tax = df_tax / df_tax.sum()\n",
    "df_tax.plot.bar(color='green', alpha=0.5, edgecolor='black')\n",
    "plt.xticks(ticks = np.arange(0, 186, 10), labels = np.arange(0, 186, 10))\n",
    "plt.title('Taxi out distribution')\n",
    "plt.xlabel('Taxi out time')\n",
    "plt.ylabel('Frequency');"
   ]
  },
  {
   "cell_type": "markdown",
   "metadata": {},
   "source": [
    "### Might follow a Gamma distribution?"
   ]
  },
  {
   "cell_type": "code",
   "execution_count": 6,
   "metadata": {},
   "outputs": [
    {
     "data": {
      "image/png": "[encoded data removed]",
      "text/plain": [
       "<Figure size 432x288 with 1 Axes>"
      ]
     },
     "metadata": {
      "needs_background": "light"
     },
     "output_type": "display_data"
    }
   ],
   "source": [
    "# Get all operators\n",
    "df_ops = df.filter(regex='OP_CARRIER')\n",
    "df_ops = df_ops.sum()[1:]\n",
    "\n",
    "# Get labels\n",
    "labs = []\n",
    "lst_idx = list(df_ops.index)\n",
    "for i in range(len(lst_idx)):\n",
    "    labs.append(lst_idx[i].replace('OP_CARRIER_', ''))\n",
    "\n",
    "# Set labels as index\n",
    "df_ops = df_ops.set_axis(labs)\n",
    "df_ops = df_ops / sum(df_ops)\n",
    "df_ops.plot.bar(color='green', alpha=0.5, edgecolor='black')\n",
    "plt.title('Airline distribution')\n",
    "plt.xlabel('Airline')\n",
    "plt.ylabel('Frequency');"
   ]
  },
  {
   "cell_type": "markdown",
   "metadata": {},
   "source": [
    "> We see that PSA Airlines, Delta Airlines and JetBlue Airways are the most used airlines in 2010"
   ]
  },
  {
   "cell_type": "code",
   "execution_count": 7,
   "metadata": {},
   "outputs": [
    {
     "name": "stderr",
     "output_type": "stream",
     "text": [
      "/var/folders/fs/10_w6dn131d7nmw8myr18l6r0000gn/T/ipykernel_50717/579655822.py:2: SettingWithCopyWarning: \n",
      "A value is trying to be set on a copy of a slice from a DataFrame.\n",
      "Try using .loc[row_indexer,col_indexer] = value instead\n",
      "\n",
      "See the caveats in the documentation: https://pandas.pydata.org/pandas-docs/stable/user_guide/indexing.html#returning-a-view-versus-a-copy\n",
      "  delays['DEP_TIME'] = pd.to_datetime(delays.DEP_TIME, format=\"%H:%M:%S\").dt.hour\n"
     ]
    },
    {
     "data": {
      "image/png": "[encoded data removed]",
      "text/plain": [
       "<Figure size 432x288 with 1 Axes>"
      ]
     },
     "metadata": {
      "needs_background": "light"
     },
     "output_type": "display_data"
    }
   ],
   "source": [
    "delays = df[['DEP_DELAY', 'DEP_TIME']]\n",
    "delays['DEP_TIME'] = pd.to_datetime(delays.DEP_TIME, format=\"%H:%M:%S\").dt.hour\n",
    "\n",
    "# Group by delays\n",
    "labels = [\"[0, 1]\", \"[1, 2]\", \"[2, 3]\", \"[3, 4]\", \"[4, 5]\", \"[5, 6]\",  \"[6, 7]\", \"[7, 8]\", \"[8, 9]\", \"[9, 10]\", \"[10, 11]\", \"[11, 12]\", \"[12, 13]\", \"[13, 14]\", \"[14, 15]\", \"[15, 16]\", \"[16, 17]\", \"[17, 18]\", \"[18, 19]\", \"[19, 20]\", \"[20, 21]\", \"[21, 22]\", \"[22, 23]\", \"[23, 24]\"] # labels\n",
    "bins= np.arange(0,25) # intervals\n",
    "X_dep = delays.copy() # Copy data frame\n",
    "X_cut = pd.cut(delays['DEP_TIME'], bins=bins, labels=labels, right=False) # cut dataframe\n",
    "X_dep['dep_group'] = X_cut # Add temp_group\n",
    "\n",
    "# Create new data frame\n",
    "cols = ['delay']\n",
    "df_dep = pd.DataFrame(index=labels, columns=cols)\n",
    "\n",
    "# take values\n",
    "values = X_dep.groupby(['dep_group', 'DEP_DELAY']).size()\n",
    "\n",
    "# Loop\n",
    "for idx, t in enumerate(labels):\n",
    "    # Assign total number of crimes\n",
    "    df_dep.delay[idx] = X_dep[X_dep.dep_group == t]['DEP_DELAY'].sum()\n",
    "    \n",
    "\n",
    "# Add column and reset index\n",
    "df_dep['dep_group'] = labels\n",
    "df_dep = df_dep.reset_index().drop('index', axis=1)\n",
    "\n",
    "# Plot the data frame in each group\n",
    "df_dep.set_index('dep_group', inplace=True)\n",
    "df_dep = df_dep / sum(df_dep.delay)\n",
    "ax = df_dep.plot.bar(color='green', alpha=0.5, edgecolor='black')\n",
    "ax.set_xlabel('Hour interval of departure')\n",
    "ax.set_ylabel('Frequency of delays')\n",
    "ax.set_title('Count of flight delays in each hour interval');"
   ]
  },
  {
   "cell_type": "markdown",
   "metadata": {},
   "source": [
    "### Plot over the course of a year"
   ]
  },
  {
   "cell_type": "code",
   "execution_count": 8,
   "metadata": {},
   "outputs": [
    {
     "data": {
      "image/png": "[encoded data removed]",
      "text/plain": [
       "<Figure size 432x288 with 1 Axes>"
      ]
     },
     "metadata": {
      "needs_background": "light"
     },
     "output_type": "display_data"
    }
   ],
   "source": [
    "# Plot taxi out time\n",
    "df_date = df.groupby([\"FL_DATE\"]).size() \n",
    "df_date.plot.bar(color='green', alpha=0.5, edgecolor='black')\n",
    "plt.xticks(ticks = np.arange(0, 181, 10), labels = np.arange(0, 181, 10))\n",
    "plt.title('Flights over the first 181 days')\n",
    "plt.xlabel('Day of the year')\n",
    "plt.ylabel('# of flights');"
   ]
  },
  {
   "cell_type": "code",
   "execution_count": 9,
   "metadata": {},
   "outputs": [
    {
     "data": {
      "text/plain": [
       "FL_DATE\n",
       "2010-02-10    31\n",
       "dtype: int64"
      ]
     },
     "execution_count": 9,
     "metadata": {},
     "output_type": "execute_result"
    }
   ],
   "source": [
    "df_date[df_date == min(df_date)]"
   ]
  },
  {
   "cell_type": "code",
   "execution_count": 13,
   "metadata": {},
   "outputs": [
    {
     "data": {
      "text/plain": [
       "(array([5.033e+04, 3.038e+03, 6.390e+02, 1.440e+02, 2.100e+01, 2.000e+00,\n",
       "        1.000e+00, 1.000e+00, 2.000e+00, 2.000e+00]),\n",
       " array([-23. ,  68.1, 159.2, 250.3, 341.4, 432.5, 523.6, 614.7, 705.8,\n",
       "        796.9, 888. ]),\n",
       " <BarContainer object of 10 artists>)"
      ]
     },
     "execution_count": 13,
     "metadata": {},
     "output_type": "execute_result"
    },
    {
     "data": {
      "image/png": "[encoded data removed]",
      "text/plain": [
       "<Figure size 432x288 with 1 Axes>"
      ]
     },
     "metadata": {
      "needs_background": "light"
     },
     "output_type": "display_data"
    }
   ],
   "source": [
    "plt.hist(df.DEP_DELAY)"
   ]
  },
  {
   "cell_type": "code",
   "execution_count": null,
   "metadata": {},
   "outputs": [],
   "source": []
  }
 ],
 "metadata": {
  "interpreter": {
   "hash": "f94fd9116d28aa94cd0ff906da65adc72a8409d5dd775d4384573030181d6ca4"
  },
  "kernelspec": {
   "display_name": "Python 3.9.7 ('base')",
   "language": "python",
   "name": "python3"
  },
  "language_info": {
   "codemirror_mode": {
    "name": "ipython",
    "version": 3
   },
   "file_extension": ".py",
   "mimetype": "text/x-python",
   "name": "python",
   "nbconvert_exporter": "python",
   "pygments_lexer": "ipython3",
   "version": "3.9.7"
  },
  "orig_nbformat": 4
 },
 "nbformat": 4,
 "nbformat_minor": 2
}
