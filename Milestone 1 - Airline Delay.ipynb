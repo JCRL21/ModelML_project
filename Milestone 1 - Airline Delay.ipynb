{
 "cells": [
  {
   "cell_type": "markdown",
   "metadata": {},
   "source": [
    "# Airline Delay and Cancellation "
   ]
  },
  {
   "cell_type": "markdown",
   "metadata": {},
   "source": [
    "**Group members:** \n",
    "\n",
    "s174471 Frederik Hartmann\n",
    "\n",
    "s174477 Jens Christian Bang Gribsvad\n",
    "\n",
    "s174462 Jonas Christian Rask Levin"
   ]
  },
  {
   "cell_type": "markdown",
   "metadata": {},
   "source": [
    "**Research question:** Examine the dynamics of flight delays in the USA from 2009-2018 to allow for better travelplanning and happier travelers"
   ]
  },
  {
   "cell_type": "markdown",
   "metadata": {},
   "source": [
    "**Data presentation:** The dataset consists of 28 variables of which some are technical data on airlines, airports, flight numbers, and the rest are time-related. The data is divided into 10 files that each account for 1 year of recordings. In total we have 60+ millon recordings of flight departures. Therefore, we would like to do some good preprocessing or just limit the analysis to fewer years.\n",
    "\n",
    "https://www.kaggle.com/datasets/yuanyuwendymu/airline-delay-and-cancellation-data-2009-2018?resource=download&select=2009.csv"
   ]
  },
  {
   "cell_type": "markdown",
   "metadata": {},
   "source": [
    "**Generative process:**\n",
    "1. Draw gp ~ Gamma(k,$\\theta$)\n",
    "2. Draw $\\alpha$ ~ N(0,1)\n",
    "3. Draw $\\beta$ ~ N(**0**,**I**)\n",
    "4. For each flight f:\n",
    "    5. Draw target $\\hat{\\textbf{delay}}_f$ ~ N($\\alpha$+$\\hat{\\boldsymbol\\beta}^{T} \\textbf{x}_{f}$ + gp Taxi_out $\\hspace{0.2cm}$, $\\hspace{0.2cm}$ $\\lambda$)\n",
    "    \n",
    "where $\\textbf{x}_{f}$ consists of *Destination* and *Origin*."
   ]
  },
  {
   "cell_type": "markdown",
   "metadata": {},
   "source": [
    "### Load Data"
   ]
  },
  {
   "cell_type": "code",
   "execution_count": 1,
   "metadata": {},
   "outputs": [],
   "source": [
    "# Imports\n",
    "import numpy as np\n",
    "import pandas as pd"
   ]
  },
  {
   "cell_type": "code",
   "execution_count": null,
   "metadata": {},
   "outputs": [],
   "source": [
    "data = pd.concat([pd.read_csv('Data/2009.csv'), pd.read_csv('Data/2010.csv'), \n",
    "                  pd.read_csv('Data/2011.csv'), pd.read_csv('Data/2012.csv'), \n",
    "                  pd.read_csv('Data/2013.csv'), pd.read_csv('Data/2014.csv'), \n",
    "                  pd.read_csv('Data/2015.csv'), pd.read_csv('Data/2016.csv'), \n",
    "                  pd.read_csv('Data/2017.csv'), pd.read_csv('Data/2018.csv')])"
   ]
  },
  {
   "cell_type": "code",
   "execution_count": 10,
   "metadata": {},
   "outputs": [],
   "source": [
    "df = data.copy()"
   ]
  },
  {
   "cell_type": "markdown",
   "metadata": {},
   "source": [
    "### Preprocessing "
   ]
  },
  {
   "cell_type": "code",
   "execution_count": 4,
   "metadata": {
    "scrolled": false
   },
   "outputs": [
    {
     "data": {
      "text/html": [
       "<div>\n",
       "<style scoped>\n",
       "    .dataframe tbody tr th:only-of-type {\n",
       "        vertical-align: middle;\n",
       "    }\n",
       "\n",
       "    .dataframe tbody tr th {\n",
       "        vertical-align: top;\n",
       "    }\n",
       "\n",
       "    .dataframe thead th {\n",
       "        text-align: right;\n",
       "    }\n",
       "</style>\n",
       "<table border=\"1\" class=\"dataframe\">\n",
       "  <thead>\n",
       "    <tr style=\"text-align: right;\">\n",
       "      <th></th>\n",
       "      <th>FL_DATE</th>\n",
       "      <th>OP_CARRIER</th>\n",
       "      <th>OP_CARRIER_FL_NUM</th>\n",
       "      <th>ORIGIN</th>\n",
       "      <th>DEST</th>\n",
       "      <th>CRS_DEP_TIME</th>\n",
       "      <th>DEP_TIME</th>\n",
       "      <th>DEP_DELAY</th>\n",
       "      <th>TAXI_OUT</th>\n",
       "      <th>WHEELS_OFF</th>\n",
       "      <th>...</th>\n",
       "      <th>CRS_ELAPSED_TIME</th>\n",
       "      <th>ACTUAL_ELAPSED_TIME</th>\n",
       "      <th>AIR_TIME</th>\n",
       "      <th>DISTANCE</th>\n",
       "      <th>CARRIER_DELAY</th>\n",
       "      <th>WEATHER_DELAY</th>\n",
       "      <th>NAS_DELAY</th>\n",
       "      <th>SECURITY_DELAY</th>\n",
       "      <th>LATE_AIRCRAFT_DELAY</th>\n",
       "      <th>Unnamed: 27</th>\n",
       "    </tr>\n",
       "  </thead>\n",
       "  <tbody>\n",
       "  </tbody>\n",
       "</table>\n",
       "<p>0 rows × 28 columns</p>\n",
       "</div>"
      ],
      "text/plain": [
       "Empty DataFrame\n",
       "Columns: [FL_DATE, OP_CARRIER, OP_CARRIER_FL_NUM, ORIGIN, DEST, CRS_DEP_TIME, DEP_TIME, DEP_DELAY, TAXI_OUT, WHEELS_OFF, WHEELS_ON, TAXI_IN, CRS_ARR_TIME, ARR_TIME, ARR_DELAY, CANCELLED, CANCELLATION_CODE, DIVERTED, CRS_ELAPSED_TIME, ACTUAL_ELAPSED_TIME, AIR_TIME, DISTANCE, CARRIER_DELAY, WEATHER_DELAY, NAS_DELAY, SECURITY_DELAY, LATE_AIRCRAFT_DELAY, Unnamed: 27]\n",
       "Index: []\n",
       "\n",
       "[0 rows x 28 columns]"
      ]
     },
     "execution_count": 4,
     "metadata": {},
     "output_type": "execute_result"
    }
   ],
   "source": [
    "# Convert string to DateTime\n",
    "df.FL_DATE = pd.to_datetime(df.FL_DATE)"
   ]
  },
  {
   "cell_type": "code",
   "execution_count": 14,
   "metadata": {},
   "outputs": [],
   "source": [
    "# Drop NaN values in the variables we will use in our baseline model\n",
    "df = df[df['TAXI_OUT'].notna()]\n",
    "df = df[df['ORIGIN'].notna()]\n",
    "df = df[df['DEST'].notna()]"
   ]
  },
  {
   "cell_type": "code",
   "execution_count": 15,
   "metadata": {},
   "outputs": [
    {
     "name": "stdout",
     "output_type": "stream",
     "text": [
      "Shape before: (61556964, 28) \n",
      " Shape after: (60593063, 28)\n"
     ]
    }
   ],
   "source": [
    "# Compare shape to see effect of preprocessing\n",
    "print('Shape before:',data.shape,'\\n Shape after:',df.shape)"
   ]
  },
  {
   "cell_type": "markdown",
   "metadata": {},
   "source": [
    "### Analysis "
   ]
  },
  {
   "cell_type": "markdown",
   "metadata": {},
   "source": [
    "Kommentaren lød på: Promising research idea. It may be interesting to explore temporal models. Looking forward to the results."
   ]
  }
 ],
 "metadata": {
  "hide_input": false,
  "interpreter": {
   "hash": "24a209cba9a9ab1c5651cc7484a1d32e0cd27295ead7dd257cd5c216422a5a45"
  },
  "kernelspec": {
   "display_name": "Python 3.9.1 ('base')",
   "language": "python",
   "name": "python3"
  },
  "language_info": {
   "codemirror_mode": {
    "name": "ipython",
    "version": 3
   },
   "file_extension": ".py",
   "mimetype": "text/x-python",
   "name": "python",
   "nbconvert_exporter": "python",
   "pygments_lexer": "ipython3",
   "version": "3.9.1"
  }
 },
 "nbformat": 4,
 "nbformat_minor": 4
}
