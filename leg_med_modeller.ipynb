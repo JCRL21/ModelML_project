{
 "cells": [
  {
   "cell_type": "code",
   "execution_count": 2,
   "metadata": {},
   "outputs": [],
   "source": [
    "# Imports\n",
    "import numpy as np\n",
    "import pandas as pd\n",
    "# fix random generator seed (for reproducibility of results)\n",
    "np.random.seed(42)"
   ]
  },
  {
   "cell_type": "code",
   "execution_count": 3,
   "metadata": {},
   "outputs": [],
   "source": [
    "data = pd.concat([pd.read_csv('Data/2009.csv'), pd.read_csv('Data/2010.csv'), \n",
    "                  pd.read_csv('Data/2011.csv'), pd.read_csv('Data/2012.csv'), \n",
    "                  pd.read_csv('Data/2013.csv'), pd.read_csv('Data/2014.csv'), \n",
    "                  pd.read_csv('Data/2015.csv'), pd.read_csv('Data/2016.csv'), \n",
    "                  pd.read_csv('Data/2017.csv'), pd.read_csv('Data/2018.csv')])"
   ]
  },
  {
   "cell_type": "code",
   "execution_count": null,
   "metadata": {},
   "outputs": [],
   "source": [
    "# Save as new dataframe\n",
    "data.to_csv('Data/data_all.csv',index=False)\n"
   ]
  }
 ],
 "metadata": {
  "interpreter": {
   "hash": "e3e5f6142f6998adcaa0b6a596146360a4bc348cc0c131a3ace736d7d7714573"
  },
  "kernelspec": {
   "display_name": "Python 3.10.4 ('ModelMLProject')",
   "language": "python",
   "name": "python3"
  },
  "language_info": {
   "codemirror_mode": {
    "name": "ipython",
    "version": 3
   },
   "file_extension": ".py",
   "mimetype": "text/x-python",
   "name": "python",
   "nbconvert_exporter": "python",
   "pygments_lexer": "ipython3",
   "version": "3.10.4"
  },
  "orig_nbformat": 4
 },
 "nbformat": 4,
 "nbformat_minor": 2
}
