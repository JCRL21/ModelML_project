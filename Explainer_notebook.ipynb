{
 "cells": [
  {
   "cell_type": "markdown",
   "metadata": {},
   "source": [
    "# Airline Delayes and cancellation \n",
    "\n",
    "## Introduction\n",
    "In this project, we would like to make airline delay predictions for the airport JFK in New York. The aim is to use relevant variables to build models for predictions of departure delay in JFK airport. We will use two datasets for the analysis. The first dataset contains information of airline delays and cancellation and the second dataset contains information of weather.\n",
    "\n",
    "The airline delay dataset consists of more than 6 million flight observations and 28 variables of which some are technical data on airlines, airports, flight numbers, and the rest are time-related. The dataset is from the year 2010.\n",
    "\n",
    "The weather dataset consists of hourly weather observations for \"Temperature\" and \"Windspeed\", for the year 2010.\n",
    "\n",
    "We will explore the airline delay dataset and look at relevant variables we can use for predictions of departure delay. Then we will use the variables to build a Baysesian linear regression models and neural network models in pyro."
   ]
  },
  {
   "cell_type": "markdown",
   "metadata": {},
   "source": [
    "## Data preprocess\n",
    "### Airline delay dataset\n",
    "The data is loaded from a csv file into a pandas dataframe object and preprocessed. We convert the date to a datetime and set as index. We remove nan values instead of imputing values since we have lots of observations and don't need more data. We have chosen to work with a subset of the data where we investigate the first six months of 2010. The reason behind this is to reduce the amount of data but also to have data recorded from different seasons (ie. winter, spring and summer)."
   ]
  },
  {
   "cell_type": "code",
   "execution_count": 1,
   "metadata": {},
   "outputs": [],
   "source": [
    "########## Imports\n",
    "import numpy as np\n",
    "import pandas as pd\n",
    "import datetime\n",
    "from matplotlib import pyplot as plt\n",
    "import seaborn as sns"
   ]
  },
  {
   "cell_type": "code",
   "execution_count": 2,
   "metadata": {},
   "outputs": [],
   "source": [
    "# Read data\n",
    "data = pd.read_csv('Data/2010.csv')"
   ]
  },
  {
   "cell_type": "code",
   "execution_count": 3,
   "metadata": {},
   "outputs": [
    {
     "name": "stderr",
     "output_type": "stream",
     "text": [
      "C:\\Users\\jonas\\AppData\\Local\\Temp\\ipykernel_204\\739802548.py:16: SettingWithCopyWarning: \n",
      "A value is trying to be set on a copy of a slice from a DataFrame\n",
      "\n",
      "See the caveats in the documentation: https://pandas.pydata.org/pandas-docs/stable/user_guide/indexing.html#returning-a-view-versus-a-copy\n",
      "  df['OP_CARRIER'].replace({\n"
     ]
    }
   ],
   "source": [
    "# Convert string to DateTime and set as index\n",
    "data.FL_DATE = pd.to_datetime(data.FL_DATE, infer_datetime_format=True)\n",
    "data.set_index('FL_DATE', inplace=True)\n",
    "data.drop(columns='Unnamed: 27', axis=1, inplace=True) # Drop last weird column\n",
    "\n",
    "# Drop NaN values in the variables we will use in our baseline model\n",
    "data = data[data['TAXI_OUT'].notna()]\n",
    "data = data[data['ORIGIN'].notna()]\n",
    "data = data[data['DEST'].notna()]\n",
    "\n",
    "# Take first 6 months\n",
    "df = data.loc['2010-01-01':'2010-06-30']\n",
    "# Renaming airline codes to company names\n",
    "# Source: https://en.wikipedia.org/wiki/List_of_airlines_of_the_United_States\n",
    "\n",
    "df['OP_CARRIER'].replace({\n",
    "    'UA':'United Airlines',\n",
    "    'AS':'Alaska Airlines',\n",
    "    '9E':'Endeavor Air',\n",
    "    'B6':'JetBlue Airways',\n",
    "    'EV':'ExpressJet',\n",
    "    'F9':'Frontier Airlines',\n",
    "    'G4':'Allegiant Air',\n",
    "    'HA':'Hawaiian Airlines',\n",
    "    'MQ':'Envoy Air',\n",
    "    'NK':'Spirit Airlines',\n",
    "    'OH':'PSA Airlines',\n",
    "    'OO':'SkyWest Airlines',\n",
    "    'VX':'Virgin America',\n",
    "    'WN':'Southwest Airlines',\n",
    "    'YV':'Mesa Airline',\n",
    "    'YX':'Republic Airways',\n",
    "    'AA':'American Airlines',\n",
    "    'DL':'Delta Airlines'\n",
    "},inplace=True)\n",
    "\n",
    "# Use only JFK\n",
    "df = df[df.ORIGIN == 'JFK']"
   ]
  },
  {
   "cell_type": "markdown",
   "metadata": {},
   "source": [
    "The two variables \"DEP_TIME\" and \"DEP_DELAY\" are time variables, and we change them both to appropriate datetime format. With this change we have exact information of flight takeoff and not just which day."
   ]
  },
  {
   "cell_type": "code",
   "execution_count": 4,
   "metadata": {},
   "outputs": [
    {
     "name": "stderr",
     "output_type": "stream",
     "text": [
      "C:\\Users\\jonas\\AppData\\Local\\Temp\\ipykernel_204\\2530428706.py:2: SettingWithCopyWarning: \n",
      "A value is trying to be set on a copy of a slice from a DataFrame.\n",
      "Try using .loc[row_indexer,col_indexer] = value instead\n",
      "\n",
      "See the caveats in the documentation: https://pandas.pydata.org/pandas-docs/stable/user_guide/indexing.html#returning-a-view-versus-a-copy\n",
      "  delays['DEP_TIME'] = delays['DEP_TIME'].astype(int)\n"
     ]
    }
   ],
   "source": [
    "delays = df[['DEP_DELAY', 'DEP_TIME']]\n",
    "delays['DEP_TIME'] = delays['DEP_TIME'].astype(int)\n",
    "\n",
    "preps = []\n",
    "for i in range(len(delays['DEP_TIME'])):\n",
    "    # Zero fill values\n",
    "    dep_time_val = str(delays['DEP_TIME'].iloc[i]).zfill(4)\n",
    "    # If flight at 24:00, set that as 00:00\n",
    "    if dep_time_val == str(2400):\n",
    "        dep_time_act = datetime.datetime.strptime('0000','%H%M').strftime('%H:%M')\n",
    "    else:\n",
    "        dep_time_act = datetime.datetime.strptime(dep_time_val,'%H%M').strftime('%H:%M')\n",
    "    \n",
    "\n",
    "    # append\n",
    "    preps.append(dep_time_act)\n",
    "\n",
    "# Drop and add corrected times\n",
    "df.drop(columns=['DEP_TIME'])\n",
    "df['DEP_TIME'] = preps\n",
    "df['DEP_TIME'] = pd.to_datetime(df['DEP_TIME'], format='%H:%M') # Convert to datetime\n",
    "\n",
    "# Convert FL time to column\n",
    "df = df.reset_index(level=0)"
   ]
  },
  {
   "cell_type": "code",
   "execution_count": 5,
   "metadata": {},
   "outputs": [],
   "source": [
    "comb_date = []\n",
    "# Loop through all to combine dates and time\n",
    "for i in range(len(df['DEP_TIME'])):\n",
    "\n",
    "    # Get date and time\n",
    "    date = datetime.datetime.date(df['FL_DATE'].iloc[i])\n",
    "    time = datetime.datetime.time(df['DEP_TIME'].iloc[i])\n",
    "\n",
    "    # Get combined as a string\n",
    "    comb = datetime.datetime.combine(date, time).strftime('%Y-%m-%d %H:%M:%S')\n",
    "\n",
    "    #append\n",
    "    comb_date.append(comb)\n"
   ]
  },
  {
   "cell_type": "code",
   "execution_count": 6,
   "metadata": {},
   "outputs": [],
   "source": [
    "# Add column, and remove DEP_TIME and FL_DATE\n",
    "df['DATE_TIME'] = pd.to_datetime(comb_date)\n",
    "# Get dep time as time only\n",
    "df['DEP_TIME'] = pd.to_datetime(df['DEP_TIME'], format='%H:%M').dt.time # Convert to datetime\n"
   ]
  },
  {
   "cell_type": "code",
   "execution_count": 7,
   "metadata": {},
   "outputs": [],
   "source": [
    "# Move it to the front of the data frame\n",
    "dates = df.pop('DATE_TIME')\n",
    "df.insert(0, 'DATE_TIME', dates)\n"
   ]
  },
  {
   "cell_type": "markdown",
   "metadata": {},
   "source": [
    "### Weather dataset\n",
    "The weather data is loaded and only relevant features are extracted. In the dataset we use weather observations for the first six months of 2010 as the other dataset. "
   ]
  },
  {
   "cell_type": "code",
   "execution_count": 8,
   "metadata": {},
   "outputs": [],
   "source": [
    "# Load weather data\n",
    "df_weather_all = pd.read_csv('Data/Weather.csv')\n",
    "# Select only relevant features\n",
    "df_weather = df_weather_all[[\"NAME\",\"DATE\",\"HLY-TEMP-NORMAL\",\"HLY-WIND-AVGSPD\"]]\n",
    "# Select only JFK airport and from January 1st to July 1st\n",
    "df_weather= df_weather[(df_weather[\"NAME\"] == \"JFK INTERNATIONAL AIRPORT, NY US\") & (df_weather[\"DATE\"] < '07-01T00:00:00')]\n",
    "# Change the format of DATE to datetime\n",
    "df_weather[\"DATE\"] = pd.to_datetime(df_weather[\"DATE\"],format='%m-%dT%H:%M:%S',infer_datetime_format='%d-%m-%H')\n",
    "# Change the format to month - day - hour\n",
    "df_weather[\"DATE\"] = df_weather[\"DATE\"].dt.strftime(\"%m-%d-%H\")\n",
    "# Change NAME to just JFK\n",
    "df_weather[\"NAME\"] = 'JFK'\n",
    "# Reset index\n",
    "df_weather = df_weather.reset_index().drop('index',axis=1)\n",
    "\n"
   ]
  },
  {
   "cell_type": "markdown",
   "metadata": {},
   "source": [
    "In the dataset we have weather observation for each hour of the day, but in the airline dataset there are multiple flights each hour. Hence when we combine the two datasets we find weather observations corresponding to the hour in the airline dataset. "
   ]
  },
  {
   "cell_type": "code",
   "execution_count": 9,
   "metadata": {},
   "outputs": [],
   "source": [
    "# Select interesting features\n",
    "df = df[[\"FL_DATE\",\"OP_CARRIER\",\"DEP_TIME\",\"TAXI_OUT\", \"DEP_DELAY\"]]\n",
    "\n",
    "# Now we must merge df_weather and df\n",
    "df[\"TEMP\"] = 0\n",
    "df[\"WIND\"] = 0\n",
    "\n",
    "# Go through all flights in data\n",
    "for i in range(len(df)):\n",
    "    # Filter out the month, day and hour \n",
    "    hour = df[\"DEP_TIME\"][i].strftime(\"%H\")\n",
    "    monthday = df[\"FL_DATE\"][i].strftime(\"%m-%d\")\n",
    "    \n",
    "    # We don't have weather recording for first hour of January 1st 2010- therefore we skip these flights and continue\n",
    "    if monthday+'-'+hour == '01-01-00':\n",
    "        continue\n",
    "    else:\n",
    "        # Find temp in df_weather corresponding to month, day and hour\n",
    "        df.iloc[i,-2] = df_weather[df_weather[\"DATE\"] == monthday+'-'+hour].iloc[0,2]\n",
    "        # Find wind in df_weather corresponding to month, day and hour\n",
    "        df.iloc[i,-1] = df_weather[df_weather[\"DATE\"] == monthday+'-'+hour].iloc[0,3]\n",
    "        \n",
    "# The hour of january 1st is not included in weather data. Therefore we drop the flights occurring in that time\n",
    "df = df[df.TEMP > 0]"
   ]
  },
  {
   "cell_type": "markdown",
   "metadata": {},
   "source": [
    "Måske vi skal have det her ind senere???"
   ]
  },
  {
   "cell_type": "code",
   "execution_count": 10,
   "metadata": {},
   "outputs": [],
   "source": [
    "# Average delays\n",
    "y = df.groupby('FL_DATE', as_index=False)['DEP_DELAY'].mean()\n",
    "#df.set_index('FL_DATE', inplace=True)"
   ]
  },
  {
   "cell_type": "code",
   "execution_count": 11,
   "metadata": {},
   "outputs": [],
   "source": [
    "# Impose delay from previous day\n",
    "df[\"DELAY_PREV\"] = 0\n",
    "# Set index as date\n",
    "# Loop\n",
    "for i in range(len(y)):\n",
    "    if y['FL_DATE'][i].strftime('%d') == '01':\n",
    "        continue\n",
    "\n",
    "    # Take date\n",
    "    date = y['FL_DATE'][i].strftime('%Y-%m-%d')\n",
    "    \n",
    "    df.loc[df.FL_DATE == date, 'DELAY_PREV']= y['DEP_DELAY'][i-1]\n",
    "    \n",
    "\n",
    "\n",
    "\n"
   ]
  },
  {
   "cell_type": "markdown",
   "metadata": {},
   "source": [
    "The categorical variable \"OP_CARRIER\" (name of airline) is one hot encoded, in order to use it as an input feature in the regression model. "
   ]
  },
  {
   "cell_type": "code",
   "execution_count": 12,
   "metadata": {},
   "outputs": [],
   "source": [
    "# One hot encode the carriers\n",
    "y = pd.get_dummies(df.OP_CARRIER, prefix='OP_CARRIER')\n",
    "# Drop column as it is now encoded\n",
    "df.drop(columns='OP_CARRIER', inplace=True)\n",
    "# Join the encoded df\n",
    "df = df.join(y)"
   ]
  },
  {
   "cell_type": "markdown",
   "metadata": {},
   "source": [
    "The preprocesed data is now saved as a csv file and is ready to use for an exploreatory analysis. "
   ]
  },
  {
   "cell_type": "code",
   "execution_count": 13,
   "metadata": {},
   "outputs": [
    {
     "name": "stdout",
     "output_type": "stream",
     "text": [
      "Shape before: (6338168, 26) \n",
      " Shape after: (54180, 17)\n"
     ]
    }
   ],
   "source": [
    "# Compare shape to see effect of preprocessing\n",
    "print('Shape before:',data.shape,'\\n Shape after:',df.shape)\n",
    "# Save as new dataframe\n",
    "df.to_csv('Data/data_pre.csv')\n",
    "df_weather.to_csv('Data/weather_pre.csv')"
   ]
  },
  {
   "cell_type": "markdown",
   "metadata": {},
   "source": [
    "## Exploratory analysis"
   ]
  },
  {
   "cell_type": "markdown",
   "metadata": {},
   "source": [
    "We will now explore the preprocessed dataset and look at the variables we find usefull as input to a Bayseian linear regression model. "
   ]
  },
  {
   "cell_type": "code",
   "execution_count": 14,
   "metadata": {},
   "outputs": [
    {
     "data": {
      "text/html": [
       "<div>\n",
       "<style scoped>\n",
       "    .dataframe tbody tr th:only-of-type {\n",
       "        vertical-align: middle;\n",
       "    }\n",
       "\n",
       "    .dataframe tbody tr th {\n",
       "        vertical-align: top;\n",
       "    }\n",
       "\n",
       "    .dataframe thead th {\n",
       "        text-align: right;\n",
       "    }\n",
       "</style>\n",
       "<table border=\"1\" class=\"dataframe\">\n",
       "  <thead>\n",
       "    <tr style=\"text-align: right;\">\n",
       "      <th></th>\n",
       "      <th>FL_DATE</th>\n",
       "      <th>DEP_TIME</th>\n",
       "      <th>TAXI_OUT</th>\n",
       "      <th>DEP_DELAY</th>\n",
       "      <th>TEMP</th>\n",
       "      <th>WIND</th>\n",
       "      <th>DELAY_PREV</th>\n",
       "      <th>OP_CARRIER_American Airlines</th>\n",
       "      <th>OP_CARRIER_Delta Airlines</th>\n",
       "      <th>OP_CARRIER_Endeavor Air</th>\n",
       "      <th>OP_CARRIER_Envoy Air</th>\n",
       "      <th>OP_CARRIER_ExpressJet</th>\n",
       "      <th>OP_CARRIER_JetBlue Airways</th>\n",
       "      <th>OP_CARRIER_Mesa Airline</th>\n",
       "      <th>OP_CARRIER_PSA Airlines</th>\n",
       "      <th>OP_CARRIER_US</th>\n",
       "      <th>OP_CARRIER_United Airlines</th>\n",
       "    </tr>\n",
       "  </thead>\n",
       "  <tbody>\n",
       "    <tr>\n",
       "      <th>0</th>\n",
       "      <td>2010-01-01</td>\n",
       "      <td>22:36:00</td>\n",
       "      <td>18.0</td>\n",
       "      <td>121.0</td>\n",
       "      <td>34.7</td>\n",
       "      <td>12.4</td>\n",
       "      <td>0.0</td>\n",
       "      <td>0</td>\n",
       "      <td>0</td>\n",
       "      <td>0</td>\n",
       "      <td>1</td>\n",
       "      <td>0</td>\n",
       "      <td>0</td>\n",
       "      <td>0</td>\n",
       "      <td>0</td>\n",
       "      <td>0</td>\n",
       "      <td>0</td>\n",
       "    </tr>\n",
       "    <tr>\n",
       "      <th>1</th>\n",
       "      <td>2010-01-01</td>\n",
       "      <td>16:22:00</td>\n",
       "      <td>21.0</td>\n",
       "      <td>7.0</td>\n",
       "      <td>38.1</td>\n",
       "      <td>12.9</td>\n",
       "      <td>0.0</td>\n",
       "      <td>0</td>\n",
       "      <td>0</td>\n",
       "      <td>0</td>\n",
       "      <td>1</td>\n",
       "      <td>0</td>\n",
       "      <td>0</td>\n",
       "      <td>0</td>\n",
       "      <td>0</td>\n",
       "      <td>0</td>\n",
       "      <td>0</td>\n",
       "    </tr>\n",
       "    <tr>\n",
       "      <th>2</th>\n",
       "      <td>2010-01-01</td>\n",
       "      <td>22:38:00</td>\n",
       "      <td>23.0</td>\n",
       "      <td>3.0</td>\n",
       "      <td>34.7</td>\n",
       "      <td>12.4</td>\n",
       "      <td>0.0</td>\n",
       "      <td>0</td>\n",
       "      <td>0</td>\n",
       "      <td>0</td>\n",
       "      <td>1</td>\n",
       "      <td>0</td>\n",
       "      <td>0</td>\n",
       "      <td>0</td>\n",
       "      <td>0</td>\n",
       "      <td>0</td>\n",
       "      <td>0</td>\n",
       "    </tr>\n",
       "    <tr>\n",
       "      <th>3</th>\n",
       "      <td>2010-01-01</td>\n",
       "      <td>10:24:00</td>\n",
       "      <td>23.0</td>\n",
       "      <td>-1.0</td>\n",
       "      <td>35.4</td>\n",
       "      <td>13.0</td>\n",
       "      <td>0.0</td>\n",
       "      <td>0</td>\n",
       "      <td>0</td>\n",
       "      <td>0</td>\n",
       "      <td>1</td>\n",
       "      <td>0</td>\n",
       "      <td>0</td>\n",
       "      <td>0</td>\n",
       "      <td>0</td>\n",
       "      <td>0</td>\n",
       "      <td>0</td>\n",
       "    </tr>\n",
       "    <tr>\n",
       "      <th>4</th>\n",
       "      <td>2010-01-01</td>\n",
       "      <td>18:27:00</td>\n",
       "      <td>31.0</td>\n",
       "      <td>-3.0</td>\n",
       "      <td>36.5</td>\n",
       "      <td>12.8</td>\n",
       "      <td>0.0</td>\n",
       "      <td>0</td>\n",
       "      <td>0</td>\n",
       "      <td>0</td>\n",
       "      <td>1</td>\n",
       "      <td>0</td>\n",
       "      <td>0</td>\n",
       "      <td>0</td>\n",
       "      <td>0</td>\n",
       "      <td>0</td>\n",
       "      <td>0</td>\n",
       "    </tr>\n",
       "  </tbody>\n",
       "</table>\n",
       "</div>"
      ],
      "text/plain": [
       "      FL_DATE  DEP_TIME  TAXI_OUT  DEP_DELAY  TEMP  WIND  DELAY_PREV  \\\n",
       "0  2010-01-01  22:36:00      18.0      121.0  34.7  12.4         0.0   \n",
       "1  2010-01-01  16:22:00      21.0        7.0  38.1  12.9         0.0   \n",
       "2  2010-01-01  22:38:00      23.0        3.0  34.7  12.4         0.0   \n",
       "3  2010-01-01  10:24:00      23.0       -1.0  35.4  13.0         0.0   \n",
       "4  2010-01-01  18:27:00      31.0       -3.0  36.5  12.8         0.0   \n",
       "\n",
       "   OP_CARRIER_American Airlines  OP_CARRIER_Delta Airlines  \\\n",
       "0                             0                          0   \n",
       "1                             0                          0   \n",
       "2                             0                          0   \n",
       "3                             0                          0   \n",
       "4                             0                          0   \n",
       "\n",
       "   OP_CARRIER_Endeavor Air  OP_CARRIER_Envoy Air  OP_CARRIER_ExpressJet  \\\n",
       "0                        0                     1                      0   \n",
       "1                        0                     1                      0   \n",
       "2                        0                     1                      0   \n",
       "3                        0                     1                      0   \n",
       "4                        0                     1                      0   \n",
       "\n",
       "   OP_CARRIER_JetBlue Airways  OP_CARRIER_Mesa Airline  \\\n",
       "0                           0                        0   \n",
       "1                           0                        0   \n",
       "2                           0                        0   \n",
       "3                           0                        0   \n",
       "4                           0                        0   \n",
       "\n",
       "   OP_CARRIER_PSA Airlines  OP_CARRIER_US  OP_CARRIER_United Airlines  \n",
       "0                        0              0                           0  \n",
       "1                        0              0                           0  \n",
       "2                        0              0                           0  \n",
       "3                        0              0                           0  \n",
       "4                        0              0                           0  "
      ]
     },
     "execution_count": 14,
     "metadata": {},
     "output_type": "execute_result"
    }
   ],
   "source": [
    "# Load preprocessed data\n",
    "df = pd.read_csv(\"Data/data_pre.csv\", index_col=0)\n",
    "# Print head\n",
    "df.head()"
   ]
  },
  {
   "cell_type": "code",
   "execution_count": 15,
   "metadata": {},
   "outputs": [
    {
     "data": {
      "image/png": "[encoded data removed]",
      "text/plain": [
       "<Figure size 432x288 with 1 Axes>"
      ]
     },
     "metadata": {
      "needs_background": "light"
     },
     "output_type": "display_data"
    }
   ],
   "source": [
    "# Plot taxi out time\n",
    "df_tax = df.groupby([\"TAXI_OUT\"]).size()\n",
    "df_tax = df_tax / df_tax.sum()\n",
    "df_tax.plot.bar(color='green', alpha=0.5, edgecolor='black')\n",
    "plt.xticks(ticks = np.arange(0, 186, 10), labels = np.arange(0, 186, 10))\n",
    "plt.title('Taxi out distribution')\n",
    "plt.xlabel('Taxi out time [minutes]')\n",
    "plt.ylabel('Frequency');"
   ]
  },
  {
   "cell_type": "markdown",
   "metadata": {},
   "source": [
    "In the plot above we see the distribution of the variable taxi_out. The distribution looks like a gamma distribution, where most of the observations are in the interval 10-50 mins. However, the tail to the right shows that some flights have a long taxi_out time. This could have influence on the departure delay for the flights. "
   ]
  },
  {
   "cell_type": "code",
   "execution_count": 16,
   "metadata": {},
   "outputs": [
    {
     "data": {
      "image/png": "[encoded data removed]",
      "text/plain": [
       "<Figure size 432x288 with 1 Axes>"
      ]
     },
     "metadata": {
      "needs_background": "light"
     },
     "output_type": "display_data"
    }
   ],
   "source": [
    "# Get all operators\n",
    "df_ops = df.filter(regex='OP_CARRIER')\n",
    "df_ops = df_ops.sum()[1:]\n",
    "\n",
    "# Get labels\n",
    "labs = []\n",
    "lst_idx = list(df_ops.index)\n",
    "for i in range(len(lst_idx)):\n",
    "    labs.append(lst_idx[i].replace('OP_CARRIER_', ''))\n",
    "\n",
    "# Set labels as index\n",
    "df_ops = df_ops.set_axis(labs)\n",
    "df_ops = df_ops / sum(df_ops)\n",
    "df_ops.plot.bar(color='green', alpha=0.5, edgecolor='black')\n",
    "plt.title('Airline distribution')\n",
    "plt.xlabel('Airline')\n",
    "plt.ylabel('Frequency');"
   ]
  },
  {
   "cell_type": "markdown",
   "metadata": {},
   "source": [
    "The plot above shows the distribution of the different airlines. We see that JetBlue Airways, PSA Airlines and Delta Airlines are the most used airlines in the first six months of 2010. "
   ]
  },
  {
   "cell_type": "code",
   "execution_count": 17,
   "metadata": {},
   "outputs": [
    {
     "name": "stderr",
     "output_type": "stream",
     "text": [
      "C:\\Users\\jonas\\AppData\\Local\\Temp\\ipykernel_204\\579655822.py:2: SettingWithCopyWarning: \n",
      "A value is trying to be set on a copy of a slice from a DataFrame.\n",
      "Try using .loc[row_indexer,col_indexer] = value instead\n",
      "\n",
      "See the caveats in the documentation: https://pandas.pydata.org/pandas-docs/stable/user_guide/indexing.html#returning-a-view-versus-a-copy\n",
      "  delays['DEP_TIME'] = pd.to_datetime(delays.DEP_TIME, format=\"%H:%M:%S\").dt.hour\n"
     ]
    },
    {
     "data": {
      "image/png": "[encoded data removed]",
      "text/plain": [
       "<Figure size 432x288 with 1 Axes>"
      ]
     },
     "metadata": {
      "needs_background": "light"
     },
     "output_type": "display_data"
    }
   ],
   "source": [
    "delays = df[['DEP_DELAY', 'DEP_TIME']]\n",
    "delays['DEP_TIME'] = pd.to_datetime(delays.DEP_TIME, format=\"%H:%M:%S\").dt.hour\n",
    "\n",
    "# Group by delays\n",
    "labels = [\"[0, 1]\", \"[1, 2]\", \"[2, 3]\", \"[3, 4]\", \"[4, 5]\", \"[5, 6]\",  \"[6, 7]\", \"[7, 8]\", \"[8, 9]\", \"[9, 10]\", \"[10, 11]\", \"[11, 12]\", \"[12, 13]\", \"[13, 14]\", \"[14, 15]\", \"[15, 16]\", \"[16, 17]\", \"[17, 18]\", \"[18, 19]\", \"[19, 20]\", \"[20, 21]\", \"[21, 22]\", \"[22, 23]\", \"[23, 24]\"] # labels\n",
    "bins= np.arange(0,25) # intervals\n",
    "X_dep = delays.copy() # Copy data frame\n",
    "X_cut = pd.cut(delays['DEP_TIME'], bins=bins, labels=labels, right=False) # cut dataframe\n",
    "X_dep['dep_group'] = X_cut # Add departure_group\n",
    "\n",
    "# Create new data frame\n",
    "cols = ['delay']\n",
    "df_dep = pd.DataFrame(index=labels, columns=cols)\n",
    "\n",
    "# take values\n",
    "values = X_dep.groupby(['dep_group', 'DEP_DELAY']).size()\n",
    "\n",
    "# Loop\n",
    "for idx, t in enumerate(labels):\n",
    "    # Assign total number of delays\n",
    "    df_dep.delay[idx] = X_dep[X_dep.dep_group == t]['DEP_DELAY'].sum()\n",
    "    \n",
    "\n",
    "# Add column and reset index\n",
    "df_dep['dep_group'] = labels\n",
    "df_dep = df_dep.reset_index().drop('index', axis=1)\n",
    "\n",
    "# Plot the data frame in each group\n",
    "df_dep.set_index('dep_group', inplace=True)\n",
    "df_dep = df_dep / sum(df_dep.delay)\n",
    "ax = df_dep.plot.bar(color='green', alpha=0.5, edgecolor='black')\n",
    "ax.set_xlabel('Hour interval of departure')\n",
    "ax.set_ylabel('Frequency of delays')\n",
    "ax.set_title('Count of flight delays in each hour interval');"
   ]
  },
  {
   "cell_type": "markdown",
   "metadata": {},
   "source": [
    "The plot above shows the flight delays in each hour interval. In the plot we see that few flights are delayed during the night and most of the flights are delayed in during the afternoon and evening. "
   ]
  },
  {
   "cell_type": "code",
   "execution_count": 18,
   "metadata": {},
   "outputs": [
    {
     "data": {
      "image/png": "[encoded data removed]",
      "text/plain": [
       "<Figure size 432x288 with 1 Axes>"
      ]
     },
     "metadata": {
      "needs_background": "light"
     },
     "output_type": "display_data"
    }
   ],
   "source": [
    "# Plot number of flights for the first six months of 2010\n",
    "df_date = df.groupby([\"FL_DATE\"]).size() \n",
    "df_date.plot.bar(color='green', alpha=0.5, edgecolor='black')\n",
    "plt.xticks(ticks = np.arange(0, 181, 10), labels = np.arange(0, 181, 10))\n",
    "plt.title('Flights over the first 181 days')\n",
    "plt.xlabel('Day of the year')\n",
    "plt.ylabel('# of flights');"
   ]
  },
  {
   "cell_type": "markdown",
   "metadata": {},
   "source": [
    "In the plot above we see how the number of flights are distributed during the time period of the dataset. Overall the distribution is uniform, but there are a few days with a drop in the number of flights. "
   ]
  },
  {
   "cell_type": "code",
   "execution_count": 19,
   "metadata": {},
   "outputs": [
    {
     "data": {
      "text/plain": [
       "(array([5.033e+04, 3.038e+03, 6.390e+02, 1.440e+02, 2.100e+01, 2.000e+00,\n",
       "        1.000e+00, 1.000e+00, 2.000e+00, 2.000e+00]),\n",
       " array([-23. ,  68.1, 159.2, 250.3, 341.4, 432.5, 523.6, 614.7, 705.8,\n",
       "        796.9, 888. ]),\n",
       " <BarContainer object of 10 artists>)"
      ]
     },
     "execution_count": 19,
     "metadata": {},
     "output_type": "execute_result"
    },
    {
     "data": {
      "image/png": "[encoded data removed]",
      "text/plain": [
       "<Figure size 432x288 with 1 Axes>"
      ]
     },
     "metadata": {
      "needs_background": "light"
     },
     "output_type": "display_data"
    }
   ],
   "source": [
    "plt.hist(df.DEP_DELAY)"
   ]
  }
 ],
 "metadata": {
  "interpreter": {
   "hash": "fb833273add3e7c60eb33c0608260b79a61e072ade6f02cc8d07b0a26eef8ab8"
  },
  "kernelspec": {
   "display_name": "Python 3.8.5 ('base')",
   "language": "python",
   "name": "python3"
  },
  "language_info": {
   "codemirror_mode": {
    "name": "ipython",
    "version": 3
   },
   "file_extension": ".py",
   "mimetype": "text/x-python",
   "name": "python",
   "nbconvert_exporter": "python",
   "pygments_lexer": "ipython3",
   "version": "3.8.5"
  },
  "orig_nbformat": 4
 },
 "nbformat": 4,
 "nbformat_minor": 2
}
