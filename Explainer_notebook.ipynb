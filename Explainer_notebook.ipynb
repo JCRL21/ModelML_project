{
 "cells": [
  {
   "cell_type": "markdown",
   "metadata": {},
   "source": [
    "# Airline Delayes and cancellation \n",
    "\n",
    "## Introduction\n",
    "In this project, we would like to make airline delay predictions for the airport JFK in New York. The aim is to find relevant variables we can use to build models for predictions of departure delay in JFK airport. We will use two datasets for the analysis. The first dataset contains information of airline delays and cancellation and the second dataset contains information of weather.\n",
    "\n",
    "The airline delay dataset consists of more than 6 million flight observations and 28 variables of which some are technical data on airlines, airports, flight numbers, and the rest are time-related. The dataset is from the year 2010.\n",
    "\n",
    "The weather dataset consists of hourly weather observations for \"Temperature\" and \"Windspeed\", for the year 2010.\n",
    "\n",
    "We will explore the airline delay dataset in order to find relevant variables we can use for predictions of departure delay. Then we will use the variables to build Baysesian linear regression models in Pyro. "
   ]
  },
  {
   "cell_type": "markdown",
   "metadata": {},
   "source": [
    "## Data preprocess\n",
    "### Airline delay dataset\n",
    "The data is loaded from a csv file into a pandas dataframe object and preprocessed. We convert the date to a datetime and set as index. We remove nan values in specific columns, because these columns are useless without information. The data is reduced to only contain information from the first six months of 2010 and only to contain information of the airport JFK."
   ]
  },
  {
   "cell_type": "code",
   "execution_count": null,
   "metadata": {},
   "outputs": [],
   "source": [
    "# Imports\n",
    "import numpy as np\n",
    "import pandas as pd\n",
    "import datetime"
   ]
  },
  {
   "cell_type": "code",
   "execution_count": null,
   "metadata": {},
   "outputs": [],
   "source": [
    "data = pd.read_csv('Data/2010.csv')"
   ]
  },
  {
   "cell_type": "code",
   "execution_count": null,
   "metadata": {},
   "outputs": [],
   "source": [
    "# Convert string to DateTime and set as index\n",
    "data.FL_DATE = pd.to_datetime(data.FL_DATE, infer_datetime_format=True)\n",
    "data.set_index('FL_DATE', inplace=True)\n",
    "data.drop(columns='Unnamed: 27', axis=1, inplace=True) # Drop last weird column\n",
    "\n",
    "# Drop NaN values in the variables we will use in our baseline model\n",
    "data = data[data['TAXI_OUT'].notna()]\n",
    "data = data[data['ORIGIN'].notna()]\n",
    "data = data[data['DEST'].notna()]\n",
    "\n",
    "# Take first 6 months\n",
    "df = data.loc['2010-01-01':'2010-06-30']\n",
    "# Renaming airline codes to company names\n",
    "# Source: https://en.wikipedia.org/wiki/List_of_airlines_of_the_United_States\n",
    "\n",
    "df['OP_CARRIER'].replace({\n",
    "    'UA':'United Airlines',\n",
    "    'AS':'Alaska Airlines',\n",
    "    '9E':'Endeavor Air',\n",
    "    'B6':'JetBlue Airways',\n",
    "    'EV':'ExpressJet',\n",
    "    'F9':'Frontier Airlines',\n",
    "    'G4':'Allegiant Air',\n",
    "    'HA':'Hawaiian Airlines',\n",
    "    'MQ':'Envoy Air',\n",
    "    'NK':'Spirit Airlines',\n",
    "    'OH':'PSA Airlines',\n",
    "    'OO':'SkyWest Airlines',\n",
    "    'VX':'Virgin America',\n",
    "    'WN':'Southwest Airlines',\n",
    "    'YV':'Mesa Airline',\n",
    "    'YX':'Republic Airways',\n",
    "    'AA':'American Airlines',\n",
    "    'DL':'Delta Airlines'\n",
    "},inplace=True)\n",
    "\n",
    "# Use only JFK\n",
    "df = df[df.ORIGIN == 'JFK']"
   ]
  },
  {
   "cell_type": "markdown",
   "metadata": {},
   "source": [
    "The two variables \"DEP_TIME\" and \"DEP_DELAY\" are time variables, and we change them both to appropriate datetime format. With this change we have exact information of flight takeoff and not just which day."
   ]
  },
  {
   "cell_type": "code",
   "execution_count": null,
   "metadata": {},
   "outputs": [],
   "source": [
    "delays = df[['DEP_DELAY', 'DEP_TIME']]\n",
    "delays['DEP_TIME'] = delays['DEP_TIME'].astype(int)\n",
    "\n",
    "preps = []\n",
    "for i in range(len(delays['DEP_TIME'])):\n",
    "    # Zero fill values\n",
    "    dep_time_val = str(delays['DEP_TIME'].iloc[i]).zfill(4)\n",
    "    # If flight at 24:00, set that as 00:00\n",
    "    if dep_time_val == str(2400):\n",
    "        dep_time_act = datetime.datetime.strptime('0000','%H%M').strftime('%H:%M')\n",
    "    else:\n",
    "        dep_time_act = datetime.datetime.strptime(dep_time_val,'%H%M').strftime('%H:%M')\n",
    "    \n",
    "\n",
    "    # append\n",
    "    preps.append(dep_time_act)\n",
    "\n",
    "# Drop and add corrected times\n",
    "df.drop(columns=['DEP_TIME'])\n",
    "df['DEP_TIME'] = preps\n",
    "df['DEP_TIME'] = pd.to_datetime(df['DEP_TIME'], format='%H:%M') # Convert to datetime\n",
    "\n",
    "# Convert FL time to column\n",
    "df = df.reset_index(level=0)"
   ]
  },
  {
   "cell_type": "code",
   "execution_count": null,
   "metadata": {},
   "outputs": [],
   "source": [
    "comb_date = []\n",
    "# Loop through all to combine dates and time\n",
    "for i in range(len(df['DEP_TIME'])):\n",
    "\n",
    "    # Get date and time\n",
    "    date = datetime.datetime.date(df['FL_DATE'].iloc[i])\n",
    "    time = datetime.datetime.time(df['DEP_TIME'].iloc[i])\n",
    "\n",
    "    # Get combined as a string\n",
    "    comb = datetime.datetime.combine(date, time).strftime('%Y-%m-%d %H:%M:%S')\n",
    "\n",
    "    #append\n",
    "    comb_date.append(comb)\n"
   ]
  },
  {
   "cell_type": "code",
   "execution_count": null,
   "metadata": {},
   "outputs": [],
   "source": [
    "# Add column, and remove DEP_TIME and FL_DATE\n",
    "df['DATE_TIME'] = pd.to_datetime(comb_date)\n",
    "# Get dep time as time only\n",
    "df['DEP_TIME'] = pd.to_datetime(df['DEP_TIME'], format='%H:%M').dt.time # Convert to datetime\n"
   ]
  },
  {
   "cell_type": "code",
   "execution_count": null,
   "metadata": {},
   "outputs": [],
   "source": [
    "# Move it to the front of the data frame\n",
    "dates = df.pop('DATE_TIME')\n",
    "df.insert(0, 'DATE_TIME', dates)\n"
   ]
  },
  {
   "cell_type": "markdown",
   "metadata": {},
   "source": [
    "### Weather dataset\n",
    "The weather data is loaded and only relevant features are extracted. "
   ]
  },
  {
   "cell_type": "code",
   "execution_count": null,
   "metadata": {},
   "outputs": [],
   "source": [
    "# Load weather data\n",
    "df_weather_all = pd.read_csv('Data/Weather.csv')\n",
    "# Select only relevant features\n",
    "df_weather = df_weather_all[[\"NAME\",\"DATE\",\"HLY-TEMP-NORMAL\",\"HLY-WIND-AVGSPD\"]]\n",
    "# Select only JFK airport and from January 1st to July 1st\n",
    "df_weather= df_weather[(df_weather[\"NAME\"] == \"JFK INTERNATIONAL AIRPORT, NY US\") & (df_weather[\"DATE\"] < '07-01T00:00:00')]\n",
    "# Change the format of DATE to datetime\n",
    "df_weather[\"DATE\"] = pd.to_datetime(df_weather[\"DATE\"],format='%m-%dT%H:%M:%S',infer_datetime_format='%d-%m-%H')\n",
    "# Change the format to month - day - hour\n",
    "df_weather[\"DATE\"] = df_weather[\"DATE\"].dt.strftime(\"%m-%d-%H\")\n",
    "# Change NAME to just JFK\n",
    "df_weather[\"NAME\"] = 'JFK'\n",
    "# Reset index\n",
    "df_weather = df_weather.reset_index().drop('index',axis=1)\n",
    "\n",
    "# Select interesting features\n",
    "df = df[[\"FL_DATE\",\"OP_CARRIER\",\"DEP_TIME\",\"TAXI_OUT\", \"DEP_DELAY\"]]\n",
    "\n",
    "# Now we must merge df_weather and df\n",
    "df[\"TEMP\"] = 0\n",
    "df[\"WIND\"] = 0\n",
    "\n",
    "for i in range(len(df)):\n",
    "    # Filter out the month, day and hour \n",
    "    hour = df[\"DEP_TIME\"][i].strftime(\"%H\")\n",
    "    monthday = df[\"FL_DATE\"][i].strftime(\"%m-%d\")\n",
    "    \n",
    "    if monthday+'-'+hour == '01-01-00':\n",
    "        continue\n",
    "    else:\n",
    "        # Find temp in df_weather corresponding to month, day and hour\n",
    "        df.iloc[i,-2] = df_weather[df_weather[\"DATE\"] == monthday+'-'+hour].iloc[0,2]\n",
    "        # Find wind in df_weather corresponding to month, day and hour\n",
    "        df.iloc[i,-1] = df_weather[df_weather[\"DATE\"] == monthday+'-'+hour].iloc[0,3]\n",
    "        \n",
    "# The hour of january 1st is not included in weather data. Therefore we drop the flights occurring in that time\n",
    "df = df[df.TEMP > 0]"
   ]
  },
  {
   "cell_type": "code",
   "execution_count": null,
   "metadata": {},
   "outputs": [],
   "source": []
  },
  {
   "cell_type": "code",
   "execution_count": null,
   "metadata": {},
   "outputs": [],
   "source": [
    "# Average delays\n",
    "y = df.groupby('FL_DATE', as_index=False)['DEP_DELAY'].mean()\n",
    "#df.set_index('FL_DATE', inplace=True)"
   ]
  },
  {
   "cell_type": "code",
   "execution_count": null,
   "metadata": {},
   "outputs": [],
   "source": [
    "# Impose delay from previous day\n",
    "df[\"DELAY_PREV\"] = 0\n",
    "# Set index as date\n",
    "# Loop\n",
    "for i in range(len(y)):\n",
    "    if y['FL_DATE'][i].strftime('%d') == '01':\n",
    "        continue\n",
    "\n",
    "    # Take date\n",
    "    date = y['FL_DATE'][i].strftime('%Y-%m-%d')\n",
    "    \n",
    "    df.loc[df.FL_DATE == date, 'DELAY_PREV']= y['DEP_DELAY'][i-1]\n",
    "    \n",
    "\n",
    "\n",
    "\n",
    "# One hot encode the carriers\n",
    "y = pd.get_dummies(df.OP_CARRIER, prefix='OP_CARRIER')\n",
    "# Drop column B as it is now encoded\n",
    "df.drop(columns='OP_CARRIER', inplace=True)\n",
    "# Join the encoded df\n",
    "df = df.join(y)\n"
   ]
  },
  {
   "cell_type": "code",
   "execution_count": null,
   "metadata": {},
   "outputs": [],
   "source": [
    "# Compare shape to see effect of preprocessing\n",
    "print('Shape before:',data.shape,'\\n Shape after:',df.shape)\n",
    "# Save as new dataframe\n",
    "df.to_csv('Data/data_pre.csv')\n",
    "df_weather.to_csv('Data/weather_pre.csv')"
   ]
  },
  {
   "cell_type": "code",
   "execution_count": null,
   "metadata": {},
   "outputs": [],
   "source": []
  },
  {
   "cell_type": "code",
   "execution_count": null,
   "metadata": {},
   "outputs": [],
   "source": []
  }
 ],
 "metadata": {
  "language_info": {
   "name": "python"
  },
  "orig_nbformat": 4
 },
 "nbformat": 4,
 "nbformat_minor": 2
}
