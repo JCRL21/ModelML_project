{
 "cells": [
  {
   "cell_type": "code",
   "execution_count": 1,
   "metadata": {},
   "outputs": [
    {
     "name": "stderr",
     "output_type": "stream",
     "text": [
      "c:\\Users\\jonas\\miniconda3\\envs\\ModelML\\lib\\site-packages\\tqdm\\auto.py:22: TqdmWarning: IProgress not found. Please update jupyter and ipywidgets. See https://ipywidgets.readthedocs.io/en/stable/user_install.html\n",
      "  from .autonotebook import tqdm as notebook_tqdm\n"
     ]
    }
   ],
   "source": [
    "import numpy as np\n",
    "import pandas as pd\n",
    "from matplotlib import pyplot as plt\n",
    "from matplotlib.lines import Line2D\n",
    "import seaborn as sns\n",
    "\n",
    "import numpyro\n",
    "import numpyro.distributions as dist\n",
    "from numpyro import handlers\n",
    "from numpyro.infer import MCMC, NUTS\n",
    "\n",
    "import jax\n",
    "import jax.numpy as jnp\n",
    "from jax import random, vmap\n",
    "from jax.scipy.special import logsumexp\n",
    "from jax import lax\n",
    "\n",
    "import time\n",
    "\n",
    "# fix MCMCndom generator seed (for reproducibility of results)\n",
    "np.random.seed(42)\n",
    "\n",
    "# matplotlib style options\n",
    "plt.style.use('ggplot')\n",
    "%matplotlib inline\n",
    "plt.rcParams['figure.figsize'] = (16, 10)"
   ]
  },
  {
   "cell_type": "code",
   "execution_count": 2,
   "metadata": {},
   "outputs": [],
   "source": [
    "df = pd.read_csv(\"Data/data_pre.csv\", index_col=0)"
   ]
  },
  {
   "cell_type": "code",
   "execution_count": 3,
   "metadata": {},
   "outputs": [],
   "source": [
    "df[\"FL_DATE\"]=pd.to_datetime(df[\"FL_DATE\"]).dt.dayofyear"
   ]
  },
  {
   "cell_type": "code",
   "execution_count": 4,
   "metadata": {},
   "outputs": [],
   "source": [
    "df[\"DEP_TIME\"] = pd.to_datetime(df[\"DEP_TIME\"]).dt.hour"
   ]
  },
  {
   "cell_type": "code",
   "execution_count": 5,
   "metadata": {},
   "outputs": [
    {
     "data": {
      "text/html": [
       "<div>\n",
       "<style scoped>\n",
       "    .dataframe tbody tr th:only-of-type {\n",
       "        vertical-align: middle;\n",
       "    }\n",
       "\n",
       "    .dataframe tbody tr th {\n",
       "        vertical-align: top;\n",
       "    }\n",
       "\n",
       "    .dataframe thead th {\n",
       "        text-align: right;\n",
       "    }\n",
       "</style>\n",
       "<table border=\"1\" class=\"dataframe\">\n",
       "  <thead>\n",
       "    <tr style=\"text-align: right;\">\n",
       "      <th></th>\n",
       "      <th>FL_DATE</th>\n",
       "      <th>DEP_TIME</th>\n",
       "      <th>TAXI_OUT</th>\n",
       "      <th>DEP_DELAY</th>\n",
       "      <th>TEMP</th>\n",
       "      <th>WIND</th>\n",
       "      <th>OP_CARRIER_American Airlines</th>\n",
       "      <th>OP_CARRIER_Delta Airlines</th>\n",
       "      <th>OP_CARRIER_Endeavor Air</th>\n",
       "      <th>OP_CARRIER_Envoy Air</th>\n",
       "      <th>OP_CARRIER_ExpressJet</th>\n",
       "      <th>OP_CARRIER_JetBlue Airways</th>\n",
       "      <th>OP_CARRIER_Mesa Airline</th>\n",
       "      <th>OP_CARRIER_PSA Airlines</th>\n",
       "      <th>OP_CARRIER_US</th>\n",
       "      <th>OP_CARRIER_United Airlines</th>\n",
       "    </tr>\n",
       "  </thead>\n",
       "  <tbody>\n",
       "    <tr>\n",
       "      <th>0</th>\n",
       "      <td>1</td>\n",
       "      <td>22</td>\n",
       "      <td>18.0</td>\n",
       "      <td>121.0</td>\n",
       "      <td>34.7</td>\n",
       "      <td>12.4</td>\n",
       "      <td>0</td>\n",
       "      <td>0</td>\n",
       "      <td>0</td>\n",
       "      <td>1</td>\n",
       "      <td>0</td>\n",
       "      <td>0</td>\n",
       "      <td>0</td>\n",
       "      <td>0</td>\n",
       "      <td>0</td>\n",
       "      <td>0</td>\n",
       "    </tr>\n",
       "    <tr>\n",
       "      <th>1</th>\n",
       "      <td>1</td>\n",
       "      <td>16</td>\n",
       "      <td>21.0</td>\n",
       "      <td>7.0</td>\n",
       "      <td>38.1</td>\n",
       "      <td>12.9</td>\n",
       "      <td>0</td>\n",
       "      <td>0</td>\n",
       "      <td>0</td>\n",
       "      <td>1</td>\n",
       "      <td>0</td>\n",
       "      <td>0</td>\n",
       "      <td>0</td>\n",
       "      <td>0</td>\n",
       "      <td>0</td>\n",
       "      <td>0</td>\n",
       "    </tr>\n",
       "    <tr>\n",
       "      <th>2</th>\n",
       "      <td>1</td>\n",
       "      <td>22</td>\n",
       "      <td>23.0</td>\n",
       "      <td>3.0</td>\n",
       "      <td>34.7</td>\n",
       "      <td>12.4</td>\n",
       "      <td>0</td>\n",
       "      <td>0</td>\n",
       "      <td>0</td>\n",
       "      <td>1</td>\n",
       "      <td>0</td>\n",
       "      <td>0</td>\n",
       "      <td>0</td>\n",
       "      <td>0</td>\n",
       "      <td>0</td>\n",
       "      <td>0</td>\n",
       "    </tr>\n",
       "    <tr>\n",
       "      <th>3</th>\n",
       "      <td>1</td>\n",
       "      <td>10</td>\n",
       "      <td>23.0</td>\n",
       "      <td>-1.0</td>\n",
       "      <td>35.4</td>\n",
       "      <td>13.0</td>\n",
       "      <td>0</td>\n",
       "      <td>0</td>\n",
       "      <td>0</td>\n",
       "      <td>1</td>\n",
       "      <td>0</td>\n",
       "      <td>0</td>\n",
       "      <td>0</td>\n",
       "      <td>0</td>\n",
       "      <td>0</td>\n",
       "      <td>0</td>\n",
       "    </tr>\n",
       "    <tr>\n",
       "      <th>4</th>\n",
       "      <td>1</td>\n",
       "      <td>18</td>\n",
       "      <td>31.0</td>\n",
       "      <td>-3.0</td>\n",
       "      <td>36.5</td>\n",
       "      <td>12.8</td>\n",
       "      <td>0</td>\n",
       "      <td>0</td>\n",
       "      <td>0</td>\n",
       "      <td>1</td>\n",
       "      <td>0</td>\n",
       "      <td>0</td>\n",
       "      <td>0</td>\n",
       "      <td>0</td>\n",
       "      <td>0</td>\n",
       "      <td>0</td>\n",
       "    </tr>\n",
       "  </tbody>\n",
       "</table>\n",
       "</div>"
      ],
      "text/plain": [
       "   FL_DATE  DEP_TIME  TAXI_OUT  DEP_DELAY  TEMP  WIND  \\\n",
       "0        1        22      18.0      121.0  34.7  12.4   \n",
       "1        1        16      21.0        7.0  38.1  12.9   \n",
       "2        1        22      23.0        3.0  34.7  12.4   \n",
       "3        1        10      23.0       -1.0  35.4  13.0   \n",
       "4        1        18      31.0       -3.0  36.5  12.8   \n",
       "\n",
       "   OP_CARRIER_American Airlines  OP_CARRIER_Delta Airlines  \\\n",
       "0                             0                          0   \n",
       "1                             0                          0   \n",
       "2                             0                          0   \n",
       "3                             0                          0   \n",
       "4                             0                          0   \n",
       "\n",
       "   OP_CARRIER_Endeavor Air  OP_CARRIER_Envoy Air  OP_CARRIER_ExpressJet  \\\n",
       "0                        0                     1                      0   \n",
       "1                        0                     1                      0   \n",
       "2                        0                     1                      0   \n",
       "3                        0                     1                      0   \n",
       "4                        0                     1                      0   \n",
       "\n",
       "   OP_CARRIER_JetBlue Airways  OP_CARRIER_Mesa Airline  \\\n",
       "0                           0                        0   \n",
       "1                           0                        0   \n",
       "2                           0                        0   \n",
       "3                           0                        0   \n",
       "4                           0                        0   \n",
       "\n",
       "   OP_CARRIER_PSA Airlines  OP_CARRIER_US  OP_CARRIER_United Airlines  \n",
       "0                        0              0                           0  \n",
       "1                        0              0                           0  \n",
       "2                        0              0                           0  \n",
       "3                        0              0                           0  \n",
       "4                        0              0                           0  "
      ]
     },
     "execution_count": 5,
     "metadata": {},
     "output_type": "execute_result"
    }
   ],
   "source": [
    "df.head()"
   ]
  },
  {
   "cell_type": "code",
   "execution_count": 6,
   "metadata": {},
   "outputs": [],
   "source": [
    "y = df.groupby('FL_DATE', as_index=False)['DEP_DELAY'].mean()\n"
   ]
  },
  {
   "cell_type": "code",
   "execution_count": 7,
   "metadata": {},
   "outputs": [],
   "source": [
    "y = y[[\"DEP_DELAY\"]]"
   ]
  },
  {
   "cell_type": "code",
   "execution_count": 8,
   "metadata": {},
   "outputs": [],
   "source": [
    "y = y.values.ravel()"
   ]
  },
  {
   "cell_type": "code",
   "execution_count": 9,
   "metadata": {},
   "outputs": [
    {
     "data": {
      "text/plain": [
       "181"
      ]
     },
     "execution_count": 9,
     "metadata": {},
     "output_type": "execute_result"
    }
   ],
   "source": [
    "len(y)"
   ]
  },
  {
   "cell_type": "code",
   "execution_count": 10,
   "metadata": {},
   "outputs": [
    {
     "name": "stdout",
     "output_type": "stream",
     "text": [
      "N_train: 120\n",
      "N_test: 61\n"
     ]
    }
   ],
   "source": [
    "ix_train = range(0, 120)\n",
    "ix_test = range(120, 181)\n",
    "N_train = len(ix_train)\n",
    "N_test = len(ix_test)\n",
    "print(\"N_train:\", N_train)\n",
    "print(\"N_test:\", N_test)\n",
    "y_train = y[ix_train]\n",
    "y_test = y[ix_test]\n",
    "\n",
    "\n",
    "# standardize \n",
    "y_train_mean = y_train.mean()\n",
    "y_train_std = y_train.std()\n",
    "y_train = (y_train - y_train_mean) / y_train_std\n",
    "\n",
    "# standardize \n",
    "y_test_mean = y_test.mean()\n",
    "y_test_std = y_test.std()\n",
    "y_test = (y_test - y_test_mean) / y_test_std"
   ]
  },
  {
   "cell_type": "code",
   "execution_count": 11,
   "metadata": {},
   "outputs": [
    {
     "data": {
      "text/plain": [
       "array([ 0.33832633,  1.86805681,  2.88339205,  0.55177746, -0.15124448,\n",
       "       -0.40512121, -0.30849509, -0.02685777, -0.33604851, -0.03286203,\n",
       "       -0.24901539, -0.46066304, -0.65077146, -0.54591966, -0.38474141,\n",
       "        0.47333951, -0.17793402,  0.13612391, -0.60467145, -0.65406685,\n",
       "       -0.63067547, -0.56441606, -0.71127815,  0.63975019,  2.22843131,\n",
       "       -0.6920882 , -0.89241124, -0.34781763, -0.56096817, -0.55020409,\n",
       "       -0.46839653, -0.61371506, -0.71273126, -0.60387371, -0.65161374,\n",
       "       -0.09451991, -0.33034196, -0.51071335, -0.51078612, -0.30912326,\n",
       "        0.34793637,  1.01090352,  0.34751608, -0.11013457, -0.3292417 ,\n",
       "       -0.08722004,  3.0861368 ,  0.18048911, -0.29930674, -0.25739029,\n",
       "       -0.56861386, -0.53322882, -0.49670613,  0.67349694,  0.31718935,\n",
       "        0.83327223,  5.93840868,  0.14587365, -0.48091511, -0.16286072,\n",
       "       -0.20139866, -0.03271169, -0.24642481, -0.15748208, -0.20108366,\n",
       "        0.0566765 , -0.51131962, -0.46362806, -0.56292735,  0.03450167,\n",
       "        1.65024372,  0.67665923,  4.90115327,  1.15865121, -0.30628706,\n",
       "       -0.5796203 , -0.50975721, -0.58102656, -0.28509456, -0.16311603,\n",
       "        0.44975851, -0.27946308,  1.66262193, -0.38685375, -0.34633143,\n",
       "       -0.57400332, -0.19651265,  0.73608456,  0.67678991, -0.47295114,\n",
       "       -0.43071568, -0.3345024 ,  0.41743084, -0.48998993, -0.58651058,\n",
       "       -0.64060573, -0.3530513 , -0.49562827, -0.36045517,  0.0321743 ,\n",
       "       -0.19471109, -0.6346172 , -0.64949361, -0.57592397, -0.47668504,\n",
       "       -0.21708387, -0.72129122, -0.54175875, -0.62665021, -0.5358207 ,\n",
       "       -0.62752528, -0.35999208, -0.5540435 , -0.50556358,  1.16007896,\n",
       "        0.37413595, -0.58864636, -0.11394597,  1.23821025, -0.48268239])"
      ]
     },
     "execution_count": 11,
     "metadata": {},
     "output_type": "execute_result"
    }
   ],
   "source": [
    "y_train"
   ]
  },
  {
   "cell_type": "code",
   "execution_count": 12,
   "metadata": {},
   "outputs": [],
   "source": [
    "def f(carry, noise_t):\n",
    "  beta1, beta2, z_prev1, z_prev2, tau = carry\n",
    "  z_t = beta1*z_prev1 + beta2*z_prev2 + tau*noise_t\n",
    "  z_prev1 = z_prev2\n",
    "  z_prev2 = z_t\n",
    "  return (beta1, beta2, z_prev1, z_prev2, tau), z_t"
   ]
  },
  {
   "cell_type": "code",
   "execution_count": 13,
   "metadata": {},
   "outputs": [],
   "source": [
    "\n",
    "def model(T, T_forecast, obs=None):\n",
    "    \"\"\" Define priors over beta1, beta2, tau, noises, sigma, z_prev1 and z_prev2 (keep the shapes in mind)\n",
    "    # Your code here\n",
    "    \"\"\"\n",
    "    beta1 = numpyro.sample(name=\"beta_1\", fn=dist.Normal(loc=0., scale=5.))\n",
    "    beta2 = numpyro.sample(name=\"beta_2\", fn=dist.Normal(loc=0., scale=5.))\n",
    "    tau = numpyro.sample(name=\"tau\", fn=dist.HalfCauchy(scale=3.))\n",
    "    noises = numpyro.sample(\"noises\", fn=dist.Normal(0., 1.), sample_shape=(T+T_forecast-2,))\n",
    "    sigma = numpyro.sample(name=\"sigma\", fn=dist.HalfCauchy(scale=3.))\n",
    "    z_prev1 = numpyro.sample(name=\"z_1\", fn=dist.Normal(loc=0., scale=3.))\n",
    "    z_prev2 = numpyro.sample(name=\"z_2\", fn=dist.Normal(loc=0., scale=3.))\n",
    "    \n",
    "    \"\"\" Propagate the dynamics forward using jax.lax.scan\n",
    "    carry = (beta1, beta2, z_prev1, z_prev2, tau)\n",
    "    z_collection = [z_prev1, z_prev2]\n",
    "    # Your code here\n",
    "    \"\"\"\n",
    "    carry = (beta1, beta2, z_prev1, z_prev2, tau)\n",
    "    z_collection = [z_prev1, z_prev2]\n",
    "    carry, zs_exp = lax.scan(f, carry, noises, T+T_forecast-2)\n",
    "    z_collection = jnp.concatenate((jnp.array(z_collection), zs_exp), axis=0)\n",
    "    \n",
    "    \"\"\" Sample the observed_y (y_obs) and predicted_y (y_pred) - note that you don't need a pyro.plate!\n",
    "    # Your code here\n",
    "    \"\"\"\n",
    "    numpyro.sample(name=\"y_obs\", fn=dist.Normal(loc=z_collection[:T], scale=sigma), obs=obs[:T])\n",
    "    numpyro.sample(name=\"y_pred\", fn=dist.Normal(loc=z_collection[T:], scale=sigma), obs=None)\n",
    "    return z_collection"
   ]
  },
  {
   "cell_type": "code",
   "execution_count": 14,
   "metadata": {},
   "outputs": [
    {
     "name": "stderr",
     "output_type": "stream",
     "text": [
      "sample: 100%|██████████| 4000/4000 [00:39<00:00, 101.26it/s, 255 steps of size 5.00e-03. acc. prob=1.00]\n"
     ]
    },
    {
     "name": "stdout",
     "output_type": "stream",
     "text": [
      "Total time: 0.887m\n"
     ]
    }
   ],
   "source": [
    "t0 = time.time()\n",
    "\n",
    "rng_key = random.PRNGKey(0)\n",
    "rng_key, rng_key_ = random.split(rng_key)\n",
    "\n",
    "nuts_kernel = NUTS(model=model, max_tree_depth=8, step_size=5e-3, adapt_step_size=False)\n",
    "mcmc = MCMC(nuts_kernel, num_samples=3000, num_warmup=1000, num_chains=1)\n",
    "mcmc.run(rng_key_, T=N_train, T_forecast=N_test, obs=y_train[:])\n",
    "\n",
    "t_fin = time.time()\n",
    "\n",
    "print(\"Total time: {0:.3f}m\".format((t_fin - t0)/60))"
   ]
  },
  {
   "cell_type": "code",
   "execution_count": 15,
   "metadata": {},
   "outputs": [
    {
     "name": "stdout",
     "output_type": "stream",
     "text": [
      "\n",
      "                 mean       std    median      5.0%     95.0%     n_eff     r_hat\n",
      "     beta_1     -0.34      0.20     -0.34     -0.67     -0.04     68.45      1.02\n",
      "     beta_2      0.82      0.23      0.83      0.46      1.23     46.71      1.06\n",
      "  noises[0]      0.47      1.03      0.43     -1.20      2.20    137.30      1.03\n",
      "  noises[1]     -0.17      0.85     -0.16     -1.59      1.20    302.94      1.01\n",
      "  noises[2]     -0.06      0.91     -0.07     -1.55      1.51    295.93      1.00\n",
      "  noises[3]     -0.07      0.81     -0.09     -1.44      1.21    390.55      1.00\n",
      "  noises[4]      0.07      0.81      0.05     -1.20      1.48    334.24      1.02\n",
      "  noises[5]     -0.06      0.83     -0.07     -1.47      1.29    413.94      1.00\n",
      "  noises[6]     -0.13      0.86     -0.14     -1.48      1.40    337.88      1.00\n",
      "  noises[7]     -0.15      0.83     -0.14     -1.45      1.24    308.24      1.00\n",
      "  noises[8]     -0.22      0.83     -0.21     -1.59      1.19    265.21      1.00\n",
      "  noises[9]     -0.34      0.84     -0.36     -1.75      0.97    288.77      1.00\n",
      " noises[10]     -0.36      0.82     -0.38     -1.69      0.98    354.69      1.00\n",
      " noises[11]     -0.25      0.79     -0.25     -1.48      1.12    366.25      1.00\n",
      " noises[12]      0.08      0.84      0.09     -1.27      1.45    387.40      1.00\n",
      " noises[13]      0.17      0.82      0.20     -1.09      1.52    329.02      1.04\n",
      " noises[14]     -0.15      0.80     -0.15     -1.46      1.13    382.49      1.00\n",
      " noises[15]     -0.08      0.81     -0.11     -1.39      1.24    314.22      1.00\n",
      " noises[16]     -0.46      0.86     -0.47     -1.73      1.09    252.45      1.01\n",
      " noises[17]     -0.37      0.88     -0.36     -1.92      0.97    317.49      1.00\n",
      " noises[18]     -0.40      0.84     -0.45     -1.63      1.08    329.68      1.00\n",
      " noises[19]     -0.29      0.86     -0.30     -1.70      1.09    344.29      1.00\n",
      " noises[20]      0.03      0.83     -0.00     -1.33      1.36    263.99      1.00\n",
      " noises[21]      0.85      0.81      0.84     -0.36      2.28    394.17      1.00\n",
      " noises[22]      0.67      0.91      0.69     -0.95      2.07    108.82      1.03\n",
      " noises[23]     -0.80      0.87     -0.85     -2.18      0.68    204.73      1.01\n",
      " noises[24]     -0.38      0.86     -0.39     -1.87      0.92    310.15      1.01\n",
      " noises[25]     -0.11      0.84     -0.09     -1.50      1.23    312.86      1.00\n",
      " noises[26]     -0.30      0.87     -0.30     -1.74      1.05    283.16      1.00\n",
      " noises[27]     -0.32      0.90     -0.32     -1.85      1.11    280.65      1.00\n",
      " noises[28]     -0.34      0.83     -0.35     -1.71      0.99    369.30      1.02\n",
      " noises[29]     -0.43      0.84     -0.43     -1.71      1.02    342.21      1.00\n",
      " noises[30]     -0.49      0.87     -0.49     -1.92      0.91    313.76      1.00\n",
      " noises[31]     -0.34      0.86     -0.34     -1.82      0.95    351.00      1.01\n",
      " noises[32]     -0.28      0.82     -0.30     -1.69      0.99    347.45      1.01\n",
      " noises[33]     -0.08      0.88     -0.07     -1.51      1.37    359.65      1.00\n",
      " noises[34]     -0.31      0.83     -0.33     -1.64      1.11    250.57      1.00\n",
      " noises[35]     -0.38      0.81     -0.39     -1.75      0.92    305.80      1.00\n",
      " noises[36]     -0.20      0.83     -0.19     -1.60      1.09    307.71      1.00\n",
      " noises[37]      0.11      0.88      0.09     -1.34      1.57    319.32      1.00\n",
      " noises[38]      0.45      0.85      0.45     -0.94      1.87    351.08      1.00\n",
      " noises[39]      0.37      0.82      0.40     -1.04      1.59    330.89      1.00\n",
      " noises[40]     -0.17      0.83     -0.20     -1.47      1.23    302.17      1.00\n",
      " noises[41]     -0.27      0.90     -0.27     -1.67      1.31    175.91      1.01\n",
      " noises[42]      0.18      0.88      0.15     -1.24      1.61    280.40      1.00\n",
      " noises[43]      0.72      0.90      0.70     -0.82      2.08    158.07      1.03\n",
      " noises[44]      1.30      0.97      1.30     -0.29      2.90     38.38      1.09\n",
      " noises[45]     -0.34      0.89     -0.38     -1.91      1.01    224.22      1.03\n",
      " noises[46]     -0.23      0.87     -0.28     -1.53      1.33    245.58      1.01\n",
      " noises[47]     -0.12      0.87     -0.13     -1.58      1.24    318.93      1.00\n",
      " noises[48]     -0.44      0.84     -0.43     -1.90      0.85    326.14      1.01\n",
      " noises[49]     -0.31      0.84     -0.31     -1.64      1.10    316.25      1.01\n",
      " noises[50]     -0.13      0.86     -0.15     -1.54      1.21    219.79      1.01\n",
      " noises[51]      0.36      0.87      0.37     -1.08      1.79    204.29      1.01\n",
      " noises[52]      0.63      0.88      0.60     -0.83      2.06    251.71      1.00\n",
      " noises[53]      1.72      0.93      1.76      0.31      3.25    215.10      1.01\n",
      " noises[54]      2.31      1.27      2.32      0.16      4.29     26.27      1.11\n",
      " noises[55]     -0.69      0.90     -0.73     -2.10      0.85    222.60      1.03\n",
      " noises[56]     -0.14      0.86     -0.11     -1.61      1.16    342.44      1.00\n",
      " noises[57]      0.05      0.88      0.06     -1.38      1.51    222.49      1.00\n",
      " noises[58]      0.01      0.86      0.01     -1.53      1.33    228.30      1.00\n",
      " noises[59]      0.01      0.87     -0.03     -1.45      1.40    289.35      1.01\n",
      " noises[60]     -0.24      0.84     -0.26     -1.56      1.24    269.42      1.00\n",
      " noises[61]     -0.01      0.80     -0.01     -1.33      1.34    341.74      1.01\n",
      " noises[62]     -0.07      0.85     -0.04     -1.52      1.31    355.94      1.00\n",
      " noises[63]     -0.13      0.89     -0.14     -1.57      1.28    293.93      1.00\n",
      " noises[64]     -0.48      0.87     -0.47     -1.82      1.05    324.30      1.02\n",
      " noises[65]     -0.37      0.87     -0.40     -1.83      0.99    266.99      1.01\n",
      " noises[66]     -0.18      0.90     -0.17     -1.63      1.29    262.93      1.01\n",
      " noises[67]      0.40      0.90      0.40     -0.99      1.92    426.59      1.00\n",
      " noises[68]      1.15      0.90      1.15     -0.27      2.68    301.31      1.00\n",
      " noises[69]      1.29      0.91      1.32     -0.20      2.79    211.49      1.00\n",
      " noises[70]      2.19      1.16      2.23      0.26      4.10     35.24      1.07\n",
      " noises[71]     -0.17      0.87     -0.16     -1.46      1.39    240.94      1.00\n",
      " noises[72]     -0.29      0.87     -0.28     -1.72      1.10    333.15      1.00\n",
      " noises[73]     -0.19      0.86     -0.21     -1.57      1.18    287.17      1.00\n",
      " noises[74]     -0.28      0.82     -0.27     -1.62      1.04    382.90      1.00\n",
      " noises[75]     -0.12      0.82     -0.13     -1.35      1.33    244.38      1.00\n",
      " noises[76]     -0.18      0.84     -0.19     -1.61      1.16    242.88      1.01\n",
      " noises[77]     -0.02      0.85     -0.04     -1.37      1.36    469.86      1.00\n",
      " noises[78]      0.24      0.83      0.24     -1.13      1.64    423.32      1.00\n",
      " noises[79]      0.16      0.86      0.14     -1.20      1.57    352.25      1.00\n",
      " noises[80]      0.61      0.91      0.65     -0.83      2.11    183.45      1.04\n",
      " noises[81]     -0.40      0.83     -0.45     -1.70      0.93    510.98      1.02\n",
      " noises[82]     -0.26      0.80     -0.26     -1.46      1.13    461.70      1.00\n",
      " noises[83]     -0.11      0.82     -0.12     -1.40      1.31    403.37      1.00\n",
      " noises[84]      0.24      0.80      0.24     -1.07      1.50    388.34      1.00\n",
      " noises[85]      0.41      0.84      0.45     -0.95      1.86    396.11      1.02\n",
      " noises[86]      0.08      0.81      0.08     -1.32      1.31    395.86      1.00\n",
      " noises[87]     -0.46      0.88     -0.46     -1.87      0.91    270.30      1.00\n",
      " noises[88]     -0.12      0.80     -0.12     -1.47      1.22    372.87      1.00\n",
      " noises[89]      0.02      0.84     -0.01     -1.37      1.45    346.24      1.00\n",
      " noises[90]      0.05      0.83      0.07     -1.26      1.45    311.80      1.00\n",
      " noises[91]     -0.43      0.84     -0.45     -1.81      0.93    275.94      1.01\n",
      " noises[92]     -0.31      0.85     -0.33     -1.66      1.11    335.45      1.00\n",
      " noises[93]     -0.35      0.85     -0.35     -1.79      0.99    318.11      1.01\n",
      " noises[94]     -0.20      0.82     -0.21     -1.64      1.07    532.89      1.00\n",
      " noises[95]     -0.27      0.86     -0.29     -1.66      1.10    328.61      1.00\n",
      " noises[96]     -0.06      0.82     -0.08     -1.39      1.31    397.78      1.00\n",
      " noises[97]     -0.02      0.88     -0.02     -1.51      1.30    241.48      1.00\n",
      " noises[98]     -0.26      0.84     -0.27     -1.59      1.16    508.53      1.00\n",
      " noises[99]     -0.46      0.81     -0.45     -1.76      0.87    342.86      1.00\n",
      "noises[100]     -0.32      0.87     -0.34     -1.60      1.24    317.84      1.00\n",
      "noises[101]     -0.27      0.86     -0.28     -1.73      1.05    262.55      1.01\n",
      "noises[102]     -0.18      0.88     -0.19     -1.50      1.36    395.06      1.00\n",
      "noises[103]     -0.25      0.85     -0.24     -1.66      1.09    284.81      1.00\n",
      "noises[104]     -0.44      0.87     -0.45     -1.91      0.93    153.52      1.00\n",
      "noises[105]     -0.32      0.84     -0.32     -1.80      0.96    404.67      1.01\n",
      "noises[106]     -0.38      0.80     -0.39     -1.65      1.00    381.08      1.00\n",
      "noises[107]     -0.41      0.81     -0.43     -1.75      0.94    435.69      1.00\n",
      "noises[108]     -0.31      0.86     -0.28     -1.75      1.07    340.08      1.01\n",
      "noises[109]     -0.29      0.83     -0.26     -1.66      1.06    383.44      1.00\n",
      "noises[110]     -0.26      0.83     -0.25     -1.57      1.17    446.67      1.01\n",
      "noises[111]      0.15      0.81      0.13     -1.21      1.45    335.32      1.00\n",
      "noises[112]      0.50      0.86      0.49     -1.00      1.81    175.50      1.01\n",
      "noises[113]     -0.19      0.86     -0.21     -1.55      1.22    332.72      1.00\n",
      "noises[114]     -0.25      0.87     -0.28     -1.64      1.29    356.15      1.00\n",
      "noises[115]      0.34      0.84      0.37     -1.02      1.76    336.42      1.00\n",
      "noises[116]      0.38      0.88      0.39     -1.01      1.91    263.17      1.02\n",
      "noises[117]     -0.33      0.90     -0.36     -1.76      1.16    355.48      1.00\n",
      "noises[118]      0.05      1.04      0.06     -1.69      1.72    202.66      1.00\n",
      "noises[119]      0.08      1.01      0.07     -1.56      1.76    328.55      1.00\n",
      "noises[120]     -0.07      0.96     -0.07     -1.61      1.53    205.88      1.00\n",
      "noises[121]      0.03      1.01      0.02     -1.63      1.66    265.41      1.01\n",
      "noises[122]     -0.06      0.96     -0.04     -1.57      1.57    311.89      1.00\n",
      "noises[123]     -0.03      1.03     -0.03     -1.72      1.63    199.23      1.01\n",
      "noises[124]     -0.01      1.02      0.01     -1.86      1.56    217.21      1.00\n",
      "noises[125]      0.02      1.00      0.03     -1.63      1.68    231.98      1.00\n",
      "noises[126]     -0.02      1.00     -0.01     -1.69      1.60    333.34      1.00\n",
      "noises[127]      0.07      1.01      0.10     -1.45      1.83    171.75      1.00\n",
      "noises[128]      0.13      0.92      0.11     -1.46      1.54    373.02      1.01\n",
      "noises[129]      0.04      1.02      0.06     -1.51      1.80    306.10      1.02\n",
      "noises[130]      0.02      0.99      0.03     -1.66      1.61    290.57      1.00\n",
      "noises[131]     -0.06      0.95     -0.04     -1.63      1.52    285.68      1.00\n",
      "noises[132]     -0.13      1.04     -0.15     -1.90      1.52    220.94      1.02\n",
      "noises[133]     -0.05      0.98     -0.02     -1.72      1.54    200.55      1.00\n",
      "noises[134]     -0.05      0.99     -0.04     -1.59      1.64    297.39      1.00\n",
      "noises[135]      0.04      1.00     -0.02     -1.66      1.60    246.03      1.01\n",
      "noises[136]     -0.08      1.05     -0.10     -1.74      1.70    230.10      1.01\n",
      "noises[137]      0.04      1.04      0.06     -1.68      1.72    152.43      1.00\n",
      "noises[138]     -0.11      0.94     -0.10     -1.71      1.42    373.07      1.00\n",
      "noises[139]     -0.08      0.96     -0.07     -1.77      1.37    259.31      1.00\n",
      "noises[140]      0.01      1.03      0.02     -1.80      1.65    270.54      1.01\n",
      "noises[141]      0.09      1.01      0.06     -1.61      1.72    300.86      1.00\n",
      "noises[142]     -0.02      1.01     -0.03     -1.64      1.64    306.36      1.00\n",
      "noises[143]      0.08      0.98      0.07     -1.50      1.70    238.61      1.00\n",
      "noises[144]     -0.05      1.06     -0.03     -1.75      1.68    180.72      1.00\n",
      "noises[145]      0.04      0.98      0.04     -1.61      1.58    193.88      1.01\n",
      "noises[146]      0.08      1.00      0.08     -1.58      1.75    229.88      1.00\n",
      "noises[147]      0.06      1.00      0.09     -1.62      1.62    266.88      1.00\n",
      "noises[148]      0.02      0.98      0.01     -1.50      1.70    180.99      1.00\n",
      "noises[149]      0.09      1.01      0.13     -1.62      1.66    201.03      1.01\n",
      "noises[150]      0.03      0.94      0.03     -1.50      1.58    250.96      1.00\n",
      "noises[151]      0.08      1.02      0.07     -1.57      1.79    203.98      1.01\n",
      "noises[152]      0.01      0.98     -0.00     -1.56      1.63    274.48      1.00\n",
      "noises[153]     -0.00      1.01     -0.01     -1.62      1.65    221.86      1.00\n",
      "noises[154]     -0.05      1.01     -0.06     -1.73      1.57    277.83      1.00\n",
      "noises[155]      0.07      1.01      0.06     -1.53      1.78    229.84      1.00\n",
      "noises[156]      0.08      1.00      0.07     -1.58      1.67    255.70      1.01\n",
      "noises[157]      0.03      0.96     -0.00     -1.65      1.51    340.61      1.00\n",
      "noises[158]      0.13      0.98      0.12     -1.43      1.81    156.77      1.01\n",
      "noises[159]      0.01      0.94     -0.01     -1.64      1.45    284.06      1.00\n",
      "noises[160]     -0.00      0.99      0.01     -1.56      1.65    251.25      1.00\n",
      "noises[161]      0.01      0.96      0.04     -1.59      1.54    297.76      1.00\n",
      "noises[162]      0.02      1.01      0.02     -1.47      1.85    184.50      1.00\n",
      "noises[163]      0.03      1.03      0.05     -1.65      1.71    235.53      1.00\n",
      "noises[164]     -0.02      0.98     -0.03     -1.57      1.60    259.70      1.00\n",
      "noises[165]      0.02      1.01     -0.06     -1.76      1.64    198.56      1.00\n",
      "noises[166]      0.10      1.01      0.13     -1.65      1.71    327.95      1.00\n",
      "noises[167]      0.06      1.04      0.09     -1.66      1.75    229.38      1.01\n",
      "noises[168]      0.05      1.06      0.08     -1.74      1.74    187.04      1.02\n",
      "noises[169]      0.07      1.09      0.08     -1.56      1.96    206.20      1.00\n",
      "noises[170]     -0.16      0.97     -0.14     -1.69      1.45    243.71      1.02\n",
      "noises[171]      0.04      0.97      0.04     -1.61      1.62    323.47      1.01\n",
      "noises[172]     -0.10      0.97     -0.09     -1.58      1.55    270.28      1.00\n",
      "noises[173]     -0.04      1.01     -0.03     -1.71      1.60    223.43      1.01\n",
      "noises[174]     -0.04      1.01     -0.04     -1.71      1.56    258.75      1.00\n",
      "noises[175]     -0.04      1.01     -0.01     -1.65      1.66    239.21      1.01\n",
      "noises[176]      0.01      1.06      0.03     -1.86      1.62    161.06      1.00\n",
      "noises[177]     -0.04      1.00     -0.01     -1.64      1.65    369.59      1.02\n",
      "noises[178]      0.04      0.99      0.07     -1.61      1.60    278.44      1.00\n",
      "      sigma      0.77      0.11      0.77      0.59      0.95     23.41      1.13\n",
      "        tau      0.43      0.16      0.42      0.17      0.69     23.15      1.13\n",
      "  y_pred[0]     -0.06      1.01     -0.05     -1.86      1.49    192.48      1.00\n",
      "  y_pred[1]      0.04      0.99      0.05     -1.61      1.60    235.46      1.00\n",
      "  y_pred[2]     -0.04      1.04     -0.07     -1.75      1.63    270.67      1.00\n",
      "  y_pred[3]      0.05      0.94      0.03     -1.49      1.57    264.90      1.00\n",
      "  y_pred[4]      0.00      0.95      0.02     -1.70      1.42    281.31      1.00\n",
      "  y_pred[5]     -0.13      1.08     -0.09     -1.94      1.55    155.23      1.00\n",
      "  y_pred[6]     -0.05      1.00     -0.02     -1.76      1.55    152.90      1.00\n",
      "  y_pred[7]     -0.01      1.02     -0.02     -1.67      1.65    204.90      1.00\n",
      "  y_pred[8]      0.07      0.97      0.08     -1.41      1.77    192.72      1.00\n",
      "  y_pred[9]      0.04      1.03      0.02     -1.67      1.69    173.81      1.00\n",
      " y_pred[10]      0.11      0.99      0.11     -1.40      1.78    293.53      1.01\n",
      " y_pred[11]      0.09      1.03      0.11     -1.44      1.95    280.70      1.02\n",
      " y_pred[12]      0.05      0.96      0.10     -1.49      1.62    307.66      1.01\n",
      " y_pred[13]     -0.04      0.95     -0.04     -1.66      1.45    261.07      1.00\n",
      " y_pred[14]     -0.12      0.98     -0.16     -1.77      1.49    143.74      1.02\n",
      " y_pred[15]     -0.04      1.00     -0.03     -1.69      1.50    167.52      1.01\n",
      " y_pred[16]     -0.10      0.99     -0.11     -1.73      1.53    177.85      1.00\n",
      " y_pred[17]      0.02      0.98      0.00     -1.74      1.54    273.96      1.00\n",
      " y_pred[18]      0.01      0.98     -0.03     -1.59      1.63    282.67      1.01\n",
      " y_pred[19]      0.06      1.01      0.06     -1.61      1.65    160.07      1.02\n",
      " y_pred[20]     -0.04      1.00     -0.02     -1.83      1.49    134.87      1.01\n",
      " y_pred[21]     -0.03      0.95     -0.04     -1.65      1.51    175.58      1.02\n",
      " y_pred[22]     -0.11      0.98     -0.14     -1.79      1.41    219.55      1.00\n",
      " y_pred[23]      0.06      1.01      0.02     -1.44      1.83    249.39      1.00\n",
      " y_pred[24]      0.02      1.02      0.03     -1.69      1.68    253.66      1.00\n",
      " y_pred[25]      0.16      1.00      0.12     -1.37      1.87    245.22      1.00\n",
      " y_pred[26]      0.09      1.02      0.11     -1.61      1.72    161.08      1.00\n",
      " y_pred[27]      0.01      1.05      0.01     -1.68      1.65    125.28      1.00\n",
      " y_pred[28]      0.11      1.07      0.09     -1.60      1.88    136.06      1.00\n",
      " y_pred[29]      0.07      1.03      0.11     -1.74      1.66    201.37      1.00\n",
      " y_pred[30]      0.05      1.02      0.05     -1.55      1.83    156.25      1.00\n",
      " y_pred[31]      0.10      1.01      0.11     -1.54      1.79    191.04      1.00\n",
      " y_pred[32]      0.05      0.97      0.06     -1.57      1.62    253.73      1.00\n",
      " y_pred[33]      0.10      0.96      0.08     -1.56      1.58    260.47      1.00\n",
      " y_pred[34]      0.07      0.97      0.05     -1.54      1.60    218.37      1.00\n",
      " y_pred[35]     -0.01      1.00     -0.03     -1.73      1.52     78.51      1.00\n",
      " y_pred[36]     -0.04      1.00     -0.04     -1.74      1.54    222.78      1.00\n",
      " y_pred[37]      0.02      0.98      0.02     -1.70      1.52    299.19      1.00\n",
      " y_pred[38]      0.13      0.98      0.11     -1.32      1.91    246.67      1.00\n",
      " y_pred[39]      0.11      1.01      0.11     -1.50      1.74    231.93      1.01\n",
      " y_pred[40]      0.12      1.00      0.08     -1.51      1.72    168.12      1.00\n",
      " y_pred[41]      0.07      1.04      0.04     -1.54      1.83    219.06      1.00\n",
      " y_pred[42]      0.03      1.00      0.05     -1.64      1.59    224.63      1.00\n",
      " y_pred[43]      0.04      0.98      0.07     -1.56      1.62    228.16      1.00\n",
      " y_pred[44]     -0.02      1.03     -0.02     -1.72      1.66    219.06      1.00\n",
      " y_pred[45]     -0.01      0.99      0.01     -1.65      1.55    201.31      1.00\n",
      " y_pred[46]      0.01      0.99      0.03     -1.71      1.55    205.67      1.01\n",
      " y_pred[47]      0.06      1.01      0.05     -1.67      1.58    195.84      1.00\n",
      " y_pred[48]      0.11      1.01      0.09     -1.45      1.81    237.78      1.00\n",
      " y_pred[49]      0.08      1.04      0.09     -1.67      1.76    252.64      1.00\n",
      " y_pred[50]      0.08      0.98      0.08     -1.49      1.74    193.33      1.01\n",
      " y_pred[51]      0.09      1.09      0.08     -1.69      1.80    171.14      1.01\n",
      " y_pred[52]     -0.01      0.99      0.02     -1.51      1.69    152.66      1.01\n",
      " y_pred[53]     -0.03      1.03     -0.02     -1.89      1.53    246.57      1.01\n",
      " y_pred[54]     -0.07      0.97     -0.08     -1.62      1.53    348.66      1.00\n",
      " y_pred[55]     -0.12      1.03     -0.09     -1.76      1.64    121.15      1.00\n",
      " y_pred[56]     -0.00      0.99      0.02     -1.67      1.54    264.37      1.01\n",
      " y_pred[57]      0.01      1.01      0.01     -1.66      1.69    267.46      1.00\n",
      " y_pred[58]      0.03      1.04      0.08     -1.82      1.62    158.28      1.00\n",
      " y_pred[59]     -0.05      1.02     -0.02     -1.69      1.62    264.77      1.00\n",
      " y_pred[60]     -0.03      0.98     -0.05     -1.67      1.58    237.41      1.01\n",
      "        z_1      0.13      0.73      0.12     -1.08      1.32    349.10      1.00\n",
      "        z_2      2.17      0.63      2.15      1.13      3.15    391.42      1.00\n",
      "\n",
      "Number of divergences: 0\n"
     ]
    }
   ],
   "source": [
    "mcmc.print_summary()"
   ]
  },
  {
   "cell_type": "code",
   "execution_count": 16,
   "metadata": {},
   "outputs": [],
   "source": [
    "hmc_samples = {k: v for k, v in mcmc.get_samples().items()}"
   ]
  },
  {
   "cell_type": "code",
   "execution_count": 17,
   "metadata": {},
   "outputs": [
    {
     "name": "stderr",
     "output_type": "stream",
     "text": [
      "c:\\Users\\jonas\\miniconda3\\envs\\ModelML\\lib\\site-packages\\seaborn\\distributions.py:2619: FutureWarning: `distplot` is a deprecated function and will be removed in a future version. Please adapt your code to use either `displot` (a figure-level function with similar flexibility) or `histplot` (an axes-level function for histograms).\n",
      "  warnings.warn(msg, FutureWarning)\n"
     ]
    },
    {
     "data": {
      "image/png": "[encoded data removed]",
      "text/plain": [
       "<Figure size 288x216 with 1 Axes>"
      ]
     },
     "metadata": {
      "needs_background": "light"
     },
     "output_type": "display_data"
    },
    {
     "name": "stderr",
     "output_type": "stream",
     "text": [
      "c:\\Users\\jonas\\miniconda3\\envs\\ModelML\\lib\\site-packages\\seaborn\\distributions.py:2619: FutureWarning: `distplot` is a deprecated function and will be removed in a future version. Please adapt your code to use either `displot` (a figure-level function with similar flexibility) or `histplot` (an axes-level function for histograms).\n",
      "  warnings.warn(msg, FutureWarning)\n"
     ]
    },
    {
     "data": {
      "image/png": "[encoded data removed]",
      "text/plain": [
       "<Figure size 288x216 with 1 Axes>"
      ]
     },
     "metadata": {
      "needs_background": "light"
     },
     "output_type": "display_data"
    },
    {
     "name": "stderr",
     "output_type": "stream",
     "text": [
      "c:\\Users\\jonas\\miniconda3\\envs\\ModelML\\lib\\site-packages\\seaborn\\distributions.py:2619: FutureWarning: `distplot` is a deprecated function and will be removed in a future version. Please adapt your code to use either `displot` (a figure-level function with similar flexibility) or `histplot` (an axes-level function for histograms).\n",
      "  warnings.warn(msg, FutureWarning)\n"
     ]
    },
    {
     "data": {
      "image/png": "[encoded data removed]",
      "text/plain": [
       "<Figure size 288x216 with 1 Axes>"
      ]
     },
     "metadata": {
      "needs_background": "light"
     },
     "output_type": "display_data"
    },
    {
     "name": "stderr",
     "output_type": "stream",
     "text": [
      "c:\\Users\\jonas\\miniconda3\\envs\\ModelML\\lib\\site-packages\\seaborn\\distributions.py:2619: FutureWarning: `distplot` is a deprecated function and will be removed in a future version. Please adapt your code to use either `displot` (a figure-level function with similar flexibility) or `histplot` (an axes-level function for histograms).\n",
      "  warnings.warn(msg, FutureWarning)\n"
     ]
    },
    {
     "data": {
      "image/png": "[encoded data removed]",
      "text/plain": [
       "<Figure size 288x216 with 1 Axes>"
      ]
     },
     "metadata": {
      "needs_background": "light"
     },
     "output_type": "display_data"
    }
   ],
   "source": [
    "nodes = [\"beta_1\", \"beta_2\", \"tau\", \"sigma\"]\n",
    "for node in nodes:\n",
    "  plt.figure(figsize=(4,3))\n",
    "  sns.distplot(hmc_samples[node], label=node)\n",
    "  plt.legend()\n",
    "  plt.show()"
   ]
  },
  {
   "cell_type": "code",
   "execution_count": 18,
   "metadata": {},
   "outputs": [],
   "source": [
    "q = hmc_samples[\"y_pred\"]\n",
    "q_mean = q.mean(axis=0).reshape(-1,)\n",
    "q_std = q.std(axis=0).reshape(-1,)\n",
    "y_pred_025 = q_mean - 1.96*q_std\n",
    "y_pred_975 = q_mean + 1.96*q_std\n",
    "y_pred_mean = q_mean"
   ]
  },
  {
   "cell_type": "code",
   "execution_count": 19,
   "metadata": {},
   "outputs": [
    {
     "data": {
      "image/png": "[encoded data removed]",
      "text/plain": [
       "<Figure size 1152x720 with 1 Axes>"
      ]
     },
     "metadata": {
      "needs_background": "light"
     },
     "output_type": "display_data"
    }
   ],
   "source": [
    "plt.plot(ix_train[-20:], y_train[-20:], \"b-\")\n",
    "plt.plot(ix_test, y_test[:], \"bx\")\n",
    "plt.plot(ix_test, y_pred_mean, \"r-\")\n",
    "plt.plot(ix_test, y_pred_025, \"r--\")\n",
    "plt.plot(ix_test, y_pred_975, \"r--\")\n",
    "plt.fill_between(ix_test, y_pred_025, y_pred_975, alpha=0.3)\n",
    "plt.legend([\"true (train)\",\"true (test)\",\"forecast\",\"forecast + stddev\",\"forecast - stddev\"])\n",
    "plt.show()"
   ]
  },
  {
   "cell_type": "code",
   "execution_count": 26,
   "metadata": {},
   "outputs": [],
   "source": [
    "# get mean and standard devitions for predictions\n",
    "y_hat = hmc_samples[\"y_pred\"].mean(axis=0)\n"
   ]
  },
  {
   "cell_type": "code",
   "execution_count": 27,
   "metadata": {},
   "outputs": [],
   "source": [
    "# convert back to the original scale\n",
    "preds = y_hat * y_test_std + y_test_mean\n",
    "y_true = y_test * y_test_std + y_test_mean"
   ]
  },
  {
   "cell_type": "code",
   "execution_count": 28,
   "metadata": {},
   "outputs": [],
   "source": [
    "def compute_error(trues, predicted):\n",
    "    corr = np.corrcoef(predicted, trues)[0,1]\n",
    "    mae = np.mean(np.abs(predicted - trues))\n",
    "    rae = np.sum(np.abs(predicted - trues)) / np.sum(np.abs(trues - np.mean(trues)))\n",
    "    rmse = np.sqrt(np.mean((predicted - trues)**2))\n",
    "    r2 = max(0, 1 - np.sum((trues-predicted)**2) / np.sum((trues - np.mean(trues))**2))\n",
    "    return corr, mae, rae, rmse, r2"
   ]
  },
  {
   "cell_type": "code",
   "execution_count": 29,
   "metadata": {},
   "outputs": [
    {
     "name": "stdout",
     "output_type": "stream",
     "text": [
      "CorrCoef: -0.050\n",
      "MAE: 8.47552\n",
      "RMSE: 11.53639\n",
      "R2: 0.000\n"
     ]
    }
   ],
   "source": [
    "corr, mae, rae, rmse, r2 = compute_error(y_true, preds)\n",
    "print(\"CorrCoef: %.3f\\nMAE: %.5f\\nRMSE: %.5f\\nR2: %.3f\" % (corr, mae, rmse, r2))"
   ]
  }
 ],
 "metadata": {
  "interpreter": {
   "hash": "7cb2263103021827042b1525625a949eb3ea622f3f20346837e64d11af41bd74"
  },
  "kernelspec": {
   "display_name": "Python 3.9.12 ('ModelML')",
   "language": "python",
   "name": "python3"
  },
  "language_info": {
   "codemirror_mode": {
    "name": "ipython",
    "version": 3
   },
   "file_extension": ".py",
   "mimetype": "text/x-python",
   "name": "python",
   "nbconvert_exporter": "python",
   "pygments_lexer": "ipython3",
   "version": "3.9.12"
  },
  "orig_nbformat": 4
 },
 "nbformat": 4,
 "nbformat_minor": 2
}
